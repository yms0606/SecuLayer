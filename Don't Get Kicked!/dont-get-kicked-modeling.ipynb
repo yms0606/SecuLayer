{
 "cells": [
  {
   "cell_type": "code",
   "execution_count": 1,
   "id": "342e371f",
   "metadata": {
    "_cell_guid": "b1076dfc-b9ad-4769-8c92-a6c4dae69d19",
    "_uuid": "8f2839f25d086af736a60e9eeb907d3b93b6e0e5",
    "execution": {
     "iopub.execute_input": "2023-07-31T05:42:02.802667Z",
     "iopub.status.busy": "2023-07-31T05:42:02.801681Z",
     "iopub.status.idle": "2023-07-31T05:42:06.545395Z",
     "shell.execute_reply": "2023-07-31T05:42:06.544467Z"
    },
    "papermill": {
     "duration": 3.762523,
     "end_time": "2023-07-31T05:42:06.548179",
     "exception": false,
     "start_time": "2023-07-31T05:42:02.785656",
     "status": "completed"
    },
    "tags": []
   },
   "outputs": [
    {
     "name": "stdout",
     "output_type": "stream",
     "text": [
      "/kaggle/input/DontGetKicked/example_entry.csv\n",
      "/kaggle/input/DontGetKicked/training.zip\n",
      "/kaggle/input/DontGetKicked/Carvana_Data_Dictionary.txt\n",
      "/kaggle/input/DontGetKicked/test.zip\n",
      "/kaggle/input/DontGetKicked/training.csv\n",
      "/kaggle/input/DontGetKicked/test.csv\n"
     ]
    }
   ],
   "source": [
    "# This Python 3 environment comes with many helpful analytics libraries installed\n",
    "# It is defined by the kaggle/python Docker image: https://github.com/kaggle/docker-python\n",
    "# For example, here's several helpful packages to load\n",
    "\n",
    "import numpy as np # linear algebra\n",
    "import pandas as pd # data processing, CSV file I/O (e.g. pd.read_csv)\n",
    "\n",
    "# Input data files are available in the read-only \"../input/\" directory\n",
    "# For example, running this (by clicking run or pressing Shift+Enter) will list all files under the input directory\n",
    "\n",
    "import os\n",
    "for dirname, _, filenames in os.walk('/kaggle/input'):\n",
    "    for filename in filenames:\n",
    "        print(os.path.join(dirname, filename))\n",
    "\n",
    "        \n",
    "import warnings\n",
    "warnings.filterwarnings('ignore')\n",
    "\n",
    "import matplotlib.pyplot as plt\n",
    "import seaborn as sns\n",
    "from tqdm import tqdm\n",
    "from sklearn.metrics import f1_score\n",
    "from catboost import CatBoostClassifier\n",
    "from lightgbm import LGBMClassifier\n",
    "from sklearn.preprocessing import LabelEncoder\n",
    "from sklearn.model_selection import train_test_split\n",
    "# You can write up to 20GB to the current directory (/kaggle/working/) that gets preserved as output when you create a version using \"Save & Run All\" \n",
    "# You can also write temporary files to /kaggle/temp/, but they won't be saved outside of the current session"
   ]
  },
  {
   "cell_type": "code",
   "execution_count": 2,
   "id": "0d46fdff",
   "metadata": {
    "execution": {
     "iopub.execute_input": "2023-07-31T05:42:06.575199Z",
     "iopub.status.busy": "2023-07-31T05:42:06.574462Z",
     "iopub.status.idle": "2023-07-31T05:42:06.579799Z",
     "shell.execute_reply": "2023-07-31T05:42:06.578623Z"
    },
    "papermill": {
     "duration": 0.022528,
     "end_time": "2023-07-31T05:42:06.582555",
     "exception": false,
     "start_time": "2023-07-31T05:42:06.560027",
     "status": "completed"
    },
    "tags": []
   },
   "outputs": [],
   "source": [
    "pd.options.display.max_columns = 99"
   ]
  },
  {
   "cell_type": "code",
   "execution_count": 3,
   "id": "5bf3252a",
   "metadata": {
    "execution": {
     "iopub.execute_input": "2023-07-31T05:42:06.609377Z",
     "iopub.status.busy": "2023-07-31T05:42:06.608925Z",
     "iopub.status.idle": "2023-07-31T05:42:07.598471Z",
     "shell.execute_reply": "2023-07-31T05:42:07.597180Z"
    },
    "papermill": {
     "duration": 1.004986,
     "end_time": "2023-07-31T05:42:07.601222",
     "exception": false,
     "start_time": "2023-07-31T05:42:06.596236",
     "status": "completed"
    },
    "tags": []
   },
   "outputs": [],
   "source": [
    "train = pd.read_csv('/kaggle/input/DontGetKicked/training.csv')\n",
    "test = pd.read_csv('/kaggle/input/DontGetKicked/test.csv')"
   ]
  },
  {
   "cell_type": "code",
   "execution_count": 4,
   "id": "81b13fc7",
   "metadata": {
    "execution": {
     "iopub.execute_input": "2023-07-31T05:42:07.627378Z",
     "iopub.status.busy": "2023-07-31T05:42:07.626943Z",
     "iopub.status.idle": "2023-07-31T05:42:07.660098Z",
     "shell.execute_reply": "2023-07-31T05:42:07.658782Z"
    },
    "papermill": {
     "duration": 0.049227,
     "end_time": "2023-07-31T05:42:07.662868",
     "exception": false,
     "start_time": "2023-07-31T05:42:07.613641",
     "status": "completed"
    },
    "tags": []
   },
   "outputs": [],
   "source": [
    "def preprocessing(data):\n",
    "    train = data.copy()\n",
    "    train.drop(['PRIMEUNIT','AUCGUART'],axis=1, inplace = True)\n",
    "    for i in range(0,4):   # 결측치 처리\n",
    "        m = train[train['WheelTypeID']== i].Model.unique()\n",
    "        train.loc[(train['Model'].isin(m)) & (np.nan != np.nan), 'WheelTypeID']= i\n",
    "    \n",
    "    for i in ['Alloy','Covers','Special']: # 결측치 처리\n",
    "        m = train[train['WheelType']== i].Model.unique()\n",
    "        train.loc[(train['Model'].isin(m)) & (np.nan != np.nan), 'WheelType']= i\n",
    "        \n",
    "    k = train.groupby(['Model','Trim']).count().reset_index()\n",
    "    t = train.loc[train['Trim'] != train['Trim'],'Model'].unique()\n",
    "\n",
    "    for col in tqdm(t):\n",
    "        m = k[k['Model'] == col].RefId.max()\n",
    "        p = k[(k['Model'] == col)&(k['RefId'] == m)].Trim.values\n",
    "        if not p.size == 0: \n",
    "            train.loc[(train['Trim'] != train['Trim']) & (train['Model'] == col),'Trim'] = p[0]\n",
    "    \n",
    "    k = train.groupby(['Make','Trim']).count().reset_index()\n",
    "    t = train.loc[train['Trim'] != train['Trim'],'Make'].unique()\n",
    "\n",
    "    for col in tqdm(t):\n",
    "        m = k[k['Make'] == col].RefId.max()\n",
    "        p = k[(k['Make'] == col)&(k['RefId'] == m)].Trim.values\n",
    "        if not p.size == 0: \n",
    "            train.loc[(train['Trim'] != train['Trim']) & (train['Make'] == col),'Trim'] = p[0] \n",
    "    \n",
    "    train.loc[train['Trim']!=train['Trim'],'Trim'] = 'Bas'\n",
    "    \n",
    "    k = train.groupby(['Model','SubModel']).count().reset_index()\n",
    "    t = train.loc[train['SubModel'] != train['SubModel'],'Model'].unique()\n",
    "\n",
    "    for col in tqdm(t):\n",
    "        m = k[k['Model'] == col].RefId.max()\n",
    "        p = k[(k['Model'] == col)&(k['RefId'] == m)].Trim.values\n",
    "        if not p.size == 0: \n",
    "            train.loc[(train['SubModel'] != train['SubModel']) & (train['Model'] == col),'SubModel'] = p[0]\n",
    "    \n",
    "    k = train.groupby('Model')['MMRCurrentAuctionAveragePrice','MMRCurrentRetailAveragePrice','MMRCurrentRetailCleanPrice','MMRCurrentAuctionCleanPrice'].mean().reset_index()\n",
    "    t = train[train.MMRCurrentAuctionAveragePrice.isnull()].Model.unique()\n",
    "\n",
    "    for col in tqdm(t):\n",
    "        train.loc[(train['MMRCurrentAuctionAveragePrice'] != train['MMRCurrentAuctionAveragePrice']) & (train['Model'] == col),'MMRCurrentAuctionAveragePrice'] = k[k.Model==col].MMRCurrentAuctionAveragePrice.values[0]\n",
    "        train.loc[(train['MMRCurrentRetailAveragePrice'] != train['MMRCurrentRetailAveragePrice']) & (train['Model'] == col),'MMRCurrentRetailAveragePrice'] = k[k.Model==col].MMRCurrentRetailAveragePrice.values[0]\n",
    "        train.loc[(train['MMRCurrentRetailCleanPrice'] != train['MMRCurrentRetailCleanPrice']) & (train['Model'] == col),'MMRCurrentRetailCleanPrice'] = k[k.Model==col].MMRCurrentRetailCleanPrice.values[0]\n",
    "        train.loc[(train['MMRCurrentAuctionCleanPrice'] != train['MMRCurrentAuctionCleanPrice']) & (train['Model'] == col),'MMRCurrentAuctionCleanPrice'] = k[k.Model==col].MMRCurrentAuctionCleanPrice.values[0]\n",
    "    \n",
    "     # 결측치 처리\n",
    "    train.loc[train['Nationality']!=train['Nationality'], 'Nationality'] = 'OTHER'\n",
    "    train.loc[train['WheelType']!=train['WheelType'], 'WheelType'] = 'Alloy'\n",
    "    train.loc[train['Color']!=train['Color'], 'Color'] = 'SILVER'\n",
    "    train.loc[train['Size']!=train['Size'], 'Size'] = 'MEDIUM'\n",
    "    train.loc[train['TopThreeAmericanName']!=train['TopThreeAmericanName'], 'TopThreeAmericanName'] = 'OTHER'\n",
    "    train.loc[train['Transmission']!=train['Transmission'], 'Transmission'] = 'AUTO'    \n",
    "    \n",
    "    train.loc[train.MMRCurrentAuctionAveragePrice != train.MMRCurrentAuctionAveragePrice, 'MMRCurrentAuctionAveragePrice'] = train.VehBCost * 0.8# 평균 값으로 샀다고 가정\n",
    "    train.loc[train.MMRCurrentRetailAveragePrice != train.MMRCurrentRetailAveragePrice, 'MMRCurrentRetailAveragePrice'] = train.VehBCost * 0.8\n",
    "    train.loc[train.MMRCurrentRetailCleanPrice != train.MMRCurrentRetailCleanPrice, 'MMRCurrentRetailCleanPrice'] = train.VehBCost * 0.8\n",
    "    train.loc[train.MMRCurrentAuctionCleanPrice != train.MMRCurrentAuctionCleanPrice, 'MMRCurrentAuctionCleanPrice'] = train.VehBCost * 0.8\n",
    "\n",
    "    train.loc[train.MMRAcquisitionAuctionAveragePrice != train.MMRAcquisitionAuctionAveragePrice, 'MMRAcquisitionAuctionAveragePrice'] = train.VehBCost  # 평균 값으로 샀다고 가정\n",
    "    train.loc[train.MMRAcquisitionRetailAveragePrice != train.MMRAcquisitionRetailAveragePrice, 'MMRAcquisitionRetailAveragePrice'] = train.VehBCost \n",
    "    train.loc[train.MMRAcquisitonRetailCleanPrice != train.MMRAcquisitonRetailCleanPrice, 'MMRAcquisitonRetailCleanPrice'] = train.VehBCost \n",
    "    train.loc[train.MMRAcquisitionAuctionCleanPrice != train.MMRAcquisitionAuctionCleanPrice, 'MMRAcquisitionAuctionCleanPrice'] = train.VehBCost\n",
    "    \n",
    "    train = train.fillna(train.mode())\n",
    "    \n",
    "    return train"
   ]
  },
  {
   "cell_type": "markdown",
   "id": "8198e43d",
   "metadata": {
    "papermill": {
     "duration": 0.01105,
     "end_time": "2023-07-31T05:42:07.685445",
     "exception": false,
     "start_time": "2023-07-31T05:42:07.674395",
     "status": "completed"
    },
    "tags": []
   },
   "source": [
    "PCA, Oversampling, SelectModel, Scaling 전부 시도 해봤지만 결과는 좋지 못함\n",
    "\n",
    "상관계수가 높은 건 학습에 악영향을 끼친다. 삭제 요망\n",
    "변수들 중 서로 상관 관계가 높은 것들 중에도 하나씩 삭제하면 점수가 오르는 것 같다\n",
    "\n",
    "중요도가 높은 변수끼리 파생 변수를 만들면 성능이 올라간다?"
   ]
  },
  {
   "cell_type": "code",
   "execution_count": 5,
   "id": "03baacb8",
   "metadata": {
    "execution": {
     "iopub.execute_input": "2023-07-31T05:42:07.710888Z",
     "iopub.status.busy": "2023-07-31T05:42:07.710462Z",
     "iopub.status.idle": "2023-07-31T05:42:07.738399Z",
     "shell.execute_reply": "2023-07-31T05:42:07.737097Z"
    },
    "papermill": {
     "duration": 0.04386,
     "end_time": "2023-07-31T05:42:07.741236",
     "exception": false,
     "start_time": "2023-07-31T05:42:07.697376",
     "status": "completed"
    },
    "tags": []
   },
   "outputs": [],
   "source": [
    "def featuring(data,is_test):\n",
    "    train1 = data.copy()\n",
    "    train1 = train1.drop(['VNZIP1','RefId','BYRNO','WheelTypeID'], axis=1)\n",
    "    \n",
    "    train1['BuyPerAvg'] = train1['VehBCost'] / (train1['MMRAcquisitionAuctionAveragePrice']+1)  # 평균 상태 경매 가격 대비\n",
    "    train1['BuyPerClean'] = train1['VehBCost'] /  (train1['MMRAcquisitionAuctionCleanPrice']+1) # 좋은 상태 경매 가격 대비\n",
    "    train1['BuyPerRetailAvg'] = train1['VehBCost'] / (train1['MMRAcquisitionRetailAveragePrice']+1) # 평균 상태 소매 가격 대비\n",
    "    train1['BuyPerRetailClean'] = train1['VehBCost'] / (train1['MMRAcquisitonRetailCleanPrice']+1) # 좋은 상태 소매 가격 대비\n",
    "\n",
    "    train1['AuctionPerRetailAvg'] = train1['MMRAcquisitionAuctionAveragePrice'] / (train1['MMRAcquisitionRetailAveragePrice']+1) # 평균 상태 경매와 소매 대비\n",
    "    train1['AuctionPerRetailClean'] = train1['MMRAcquisitionAuctionCleanPrice'] / (train1['MMRAcquisitonRetailCleanPrice']+1) # 좋은 상태 경매와 소매 대비\n",
    "\n",
    "    train1['BuyPerCurrActionAvg'] = train1['MMRAcquisitionAuctionAveragePrice'] / (train1['MMRCurrentAuctionAveragePrice']+1) # 과거 대비 현재\n",
    "    train1['BuyPerCurrActionClean'] = train1['MMRAcquisitionAuctionCleanPrice'] / (train1['MMRCurrentAuctionCleanPrice']+1)\n",
    "    train1['BuyPerCurrRetailAvg'] = train1['MMRAcquisitionRetailAveragePrice'] / (train1['MMRCurrentRetailAveragePrice']+1)\n",
    "    train1['BuyPerCurrRetailClean'] = train1['MMRAcquisitonRetailCleanPrice'] / (train1['MMRCurrentRetailCleanPrice']+1)\n",
    "\n",
    "    train1['VehOdoPerYears'] = train1['VehOdo'] / (train1['VehicleAge']+1)\n",
    "    train1.loc[train1['VehOdoPerYears'] != train1['VehOdoPerYears'], 'VehOdoPerYears'] = train1['VehOdo']\n",
    "    \n",
    "    train1['PurchDate'] = pd.to_datetime(train1['PurchDate']) \n",
    "    train1['mon'] = train1['PurchDate'].dt.year.astype('str') + '/' + train1['PurchDate'].dt.month.astype('str')\n",
    "    train1['year'] = train1['PurchDate'].dt.year.astype('str')\n",
    "    \n",
    "    # ===================================================== 0724\n",
    "    avg = train1.groupby(['VNST','Model'])['VehBCost','WarrantyCost'].mean().reset_index()\n",
    "    train1 = train1.merge(avg,how='left',on=['VNST','Model'],suffixes=['','PerVNST'])\n",
    "    train1['WarrantPerVNSTPerc'] = train1['WarrantyCost'] / (train1['WarrantyCostPerVNST']+1)\n",
    "    train1['VehBCostPerVNSTPerc'] = train1['VehBCost'] / (train1['VehBCostPerVNST']+1) \n",
    "    \n",
    "    train1['WarrantyPerc'] = train1['WarrantyCost'] / train1['VehBCost']\n",
    "    \n",
    "    train1['WarrantyPerAuctionAvg'] = train1['WarrantyCost'] / (train1['MMRAcquisitionAuctionAveragePrice']+1)\n",
    "    train1['WarrantyPerAuctionClean'] = train1['WarrantyCost'] / (train1['MMRAcquisitionAuctionCleanPrice']+1)\n",
    "    train1['WarrantyPerRetailAvg'] = train1['WarrantyCost'] / (train1['MMRAcquisitionRetailAveragePrice']+1)\n",
    "    train1['WarrantyPerRetailClean'] = train1['WarrantyCost'] / (train1['MMRAcquisitonRetailCleanPrice']+1)\n",
    "     \n",
    "    train1['VehOdoPerAuctionAvg'] = train1['VehOdo'] / (train1['MMRAcquisitionAuctionAveragePrice']+1)\n",
    "    train1['VehOdoPerAuctionClean'] = train1['VehOdo'] / (train1['MMRAcquisitionAuctionCleanPrice']+1)\n",
    "    train1['VehOdoPerRetailAvg'] = train1['VehOdo'] / (train1['MMRAcquisitionRetailAveragePrice']+1)\n",
    "    train1['VehOdoPerRetailClean'] = train1['VehOdo'] / (train1['MMRAcquisitonRetailCleanPrice']+1)\n",
    "     \n",
    "    # ======================================================= 0727\n",
    "    \n",
    "    train1 = train1.drop(['WarrantyCostPerVNST','AuctionPerRetailAvg','BuyPerClean'],axis=1)\n",
    "    \n",
    "    train1['CurrAvgCleanMeanA'] = (train1['BuyPerCurrActionAvg'] + train1['BuyPerCurrActionClean']).mean()\n",
    "    train1['CurrAvgCelanMeanR'] = (train1['BuyPerCurrRetailClean'] + train1['BuyPerCurrRetailAvg']).mean()\n",
    "    \n",
    "    train1['CurrAvgCleanDivA'] = train1['BuyPerCurrActionClean'] - train1['BuyPerCurrActionAvg']   # 과거 대비 현재 비율\n",
    "    train1['CurrAvgCleanDivR'] = train1['BuyPerCurrRetailClean'] - train1['BuyPerCurrRetailAvg']\n",
    "    \n",
    "    train1['CurrAcReDivC'] = train1['BuyPerCurrRetailClean'] - train1['BuyPerCurrActionClean']\n",
    "    train1['CurrAcReDivA'] = train1['BuyPerCurrRetailAvg'] - train1['BuyPerCurrActionAvg']\n",
    "    \n",
    "    train1['CurrAvgCleanPerA'] = train1['BuyPerCurrActionClean'] / (train1['BuyPerCurrActionAvg']+0.1) \n",
    "    train1['CurrAvgCleanPerR'] = train1['BuyPerCurrRetailClean'] / (train1['BuyPerCurrRetailAvg']+0.1)\n",
    "    \n",
    "    train1['CurrAcRePerC'] = train1['BuyPerCurrRetailClean'] / (train1['BuyPerCurrActionClean']+0.1)\n",
    "    train1['CurrAcRePerA'] = train1['BuyPerCurrRetailAvg'] / (train1['BuyPerCurrActionAvg']+0.1)\n",
    "    # ======================================================= 0728\n",
    "    \n",
    "    #avg = train1.groupby('Model')['CurrAvgCleanDivA','CurrAvgCleanDivR','CurrAcReDivC',\n",
    "    #                              'CurrAcReDivA','CurrAvgCleanPerA','CurrAvgCleanPerR','CurrAcRePerC','CurrAcRePerA'].mean().reset_index()\n",
    "    #train1 =  train1.merge(avg,how='left',on='Model',suffixes=['','_Modelmean'])\n",
    "    \n",
    "    # ======================================================== 0731\n",
    "    \n",
    "    train1['CurrBuyAvgMean'] = (train1['BuyPerCurrActionAvg'] + train1['BuyPerCurrRetailAvg']).mean()\n",
    "    train1['CurrBuyCleanMean'] = (train1['BuyPerCurrRetailClean'] + train1['BuyPerCurrActionClean']).mean()\n",
    "    \n",
    "    \n",
    "    train1['BuyCurrActionAvgMean'] = (train1['MMRAcquisitionAuctionAveragePrice'] + train1['MMRCurrentAuctionAveragePrice'])/2\n",
    "    train1['BuyCurrActionCleanMean'] = (train1['MMRAcquisitionAuctionCleanPrice'] + train1['MMRCurrentAuctionCleanPrice'])/2\n",
    "    train1['BuyCurrRetailAvgMean'] = (train1['MMRAcquisitionRetailAveragePrice'] + train1['MMRCurrentRetailAveragePrice'])/2\n",
    "    train1['BuyCurrRetailCleanMean'] = (train1['MMRAcquisitonRetailCleanPrice'] + train1['MMRCurrentRetailCleanPrice'])/2\n",
    "    \n",
    "    \n",
    "    # BuyPerCurrActionAvg,BuyPerCurrActionClean,BuyPerCurrRetailClean,BuyPerCurrRetailAvg 중요도 기여도 모두 높음\n",
    "    # mon, PurchDate 는 빼면 성능 저하\n",
    "    # WarrantyCostPerVNST는 안빼면 성능 저하\n",
    "    #0.0093 ± 0.0022\tWarrantyPerc # 15    보증 / 가격\n",
    "    #0.0079 ± 0.0007\tVehBCost #  18\n",
    "    #0.0070 ± 0.0042\tTrim # 19\n",
    "    #0.0069 ± 0.0053\tVehicleAge # 14\n",
    "    #0.0062 ± 0.0020\tVehOdo # 12\n",
    "    #0.0057 ± 0.0009\tVehYear # 13\n",
    "    #0.0055 ± 0.0023\tVehBCostPerVNSTPerc #  10    가격 / 주 평균 가격\n",
    "    #0.0044 ± 0.0034\tVehOdoPerYears # 8     주행거리 / 연식\n",
    "    return train1"
   ]
  },
  {
   "cell_type": "code",
   "execution_count": 6,
   "id": "54e35efd",
   "metadata": {
    "execution": {
     "iopub.execute_input": "2023-07-31T05:42:07.766513Z",
     "iopub.status.busy": "2023-07-31T05:42:07.765273Z",
     "iopub.status.idle": "2023-07-31T05:42:07.770939Z",
     "shell.execute_reply": "2023-07-31T05:42:07.769684Z"
    },
    "papermill": {
     "duration": 0.020897,
     "end_time": "2023-07-31T05:42:07.773616",
     "exception": false,
     "start_time": "2023-07-31T05:42:07.752719",
     "status": "completed"
    },
    "tags": []
   },
   "outputs": [],
   "source": [
    "#train_df"
   ]
  },
  {
   "cell_type": "code",
   "execution_count": 7,
   "id": "6c5daf93",
   "metadata": {
    "execution": {
     "iopub.execute_input": "2023-07-31T05:42:07.801097Z",
     "iopub.status.busy": "2023-07-31T05:42:07.800278Z",
     "iopub.status.idle": "2023-07-31T05:42:24.549297Z",
     "shell.execute_reply": "2023-07-31T05:42:24.547720Z"
    },
    "papermill": {
     "duration": 16.766869,
     "end_time": "2023-07-31T05:42:24.552306",
     "exception": false,
     "start_time": "2023-07-31T05:42:07.785437",
     "status": "completed"
    },
    "tags": []
   },
   "outputs": [
    {
     "name": "stderr",
     "output_type": "stream",
     "text": [
      "100%|██████████| 152/152 [00:01<00:00, 79.94it/s]\n",
      "100%|██████████| 18/18 [00:00<00:00, 33.86it/s]\n",
      "100%|██████████| 7/7 [00:00<00:00, 30.84it/s]\n",
      "100%|██████████| 101/101 [00:05<00:00, 17.14it/s]\n",
      "100%|██████████| 127/127 [00:01<00:00, 112.81it/s]\n",
      "100%|██████████| 16/16 [00:00<00:00, 48.18it/s]\n",
      "100%|██████████| 5/5 [00:00<00:00, 43.61it/s]\n",
      "100%|██████████| 82/82 [00:03<00:00, 24.32it/s]\n"
     ]
    }
   ],
   "source": [
    "train_df1 = preprocessing(train)\n",
    "test_df1 = preprocessing(test)"
   ]
  },
  {
   "cell_type": "code",
   "execution_count": 8,
   "id": "1d44a614",
   "metadata": {
    "collapsed": true,
    "execution": {
     "iopub.execute_input": "2023-07-31T05:42:24.601269Z",
     "iopub.status.busy": "2023-07-31T05:42:24.600838Z",
     "iopub.status.idle": "2023-07-31T05:42:24.606819Z",
     "shell.execute_reply": "2023-07-31T05:42:24.604888Z"
    },
    "jupyter": {
     "outputs_hidden": true
    },
    "papermill": {
     "duration": 0.035049,
     "end_time": "2023-07-31T05:42:24.610622",
     "exception": false,
     "start_time": "2023-07-31T05:42:24.575573",
     "status": "completed"
    },
    "tags": []
   },
   "outputs": [],
   "source": [
    "#train_df.corr()[['CurrAvgCleanMeanA','CurrAvgCelanMeanR']]\n",
    "\n",
    "#BuyPerCurrActionAvg                  0.989101\n",
    "#BuyPerCurrRetailAvg                  0.979584\n",
    "#BuyPerCurrRetailClean                0.981653"
   ]
  },
  {
   "cell_type": "code",
   "execution_count": 9,
   "id": "8bac4689",
   "metadata": {
    "collapsed": true,
    "execution": {
     "iopub.execute_input": "2023-07-31T05:42:24.661616Z",
     "iopub.status.busy": "2023-07-31T05:42:24.661204Z",
     "iopub.status.idle": "2023-07-31T05:42:24.665912Z",
     "shell.execute_reply": "2023-07-31T05:42:24.664752Z"
    },
    "jupyter": {
     "outputs_hidden": true
    },
    "papermill": {
     "duration": 0.031988,
     "end_time": "2023-07-31T05:42:24.668166",
     "exception": false,
     "start_time": "2023-07-31T05:42:24.636178",
     "status": "completed"
    },
    "tags": []
   },
   "outputs": [],
   "source": [
    "#train_df\n",
    "#train_df.corr()['BuyPerCurrActionAvg']\n",
    "\n",
    "#BuyPerCurrActionClean                0.989101\n",
    "#BuyPerCurrRetailAvg                  0.985075\n",
    "#BuyPerCurrRetailClean                0.988058"
   ]
  },
  {
   "cell_type": "code",
   "execution_count": 10,
   "id": "6b629931",
   "metadata": {
    "execution": {
     "iopub.execute_input": "2023-07-31T05:42:24.719573Z",
     "iopub.status.busy": "2023-07-31T05:42:24.719140Z",
     "iopub.status.idle": "2023-07-31T05:42:26.620529Z",
     "shell.execute_reply": "2023-07-31T05:42:26.618991Z"
    },
    "papermill": {
     "duration": 1.93225,
     "end_time": "2023-07-31T05:42:26.623948",
     "exception": false,
     "start_time": "2023-07-31T05:42:24.691698",
     "status": "completed"
    },
    "tags": []
   },
   "outputs": [],
   "source": [
    "train_df = featuring(train_df1,False)\n",
    "test_df = featuring(test_df1,True)\n",
    "\n",
    "category = train_df.columns[train_df.dtypes == 'object'].to_list()\n",
    "\n",
    "train_df['SubModel'] = train_df['SubModel'].astype('str')\n",
    "test_df['SubModel'] = test_df['SubModel'].astype('str')\n",
    "\n",
    "for col in category:\n",
    "    le = LabelEncoder()\n",
    "    train_df[col] = le.fit_transform(train_df[col].astype('str'))\n",
    "    \n",
    "    for c in test_df[col].unique():\n",
    "        if c not in le.classes_:\n",
    "            le.classes_ = np.append(le.classes_,c)\n",
    "    \n",
    "    test_df[col] = le.transform(test_df[col].astype('str'))\n",
    "    \n",
    "    train_df[col] = train_df[col].astype('category')\n",
    "    test_df[col] = test_df[col].astype('category')\n",
    "    \n",
    "y = train_df['IsBadBuy']\n",
    "X = train_df.drop(['IsBadBuy'],axis=1)\n",
    "\n",
    "X_train, X_val, y_train, y_val = train_test_split(X,y,test_size=0.2,random_state=42)"
   ]
  },
  {
   "cell_type": "code",
   "execution_count": 11,
   "id": "7010c6cf",
   "metadata": {
    "collapsed": true,
    "execution": {
     "iopub.execute_input": "2023-07-31T05:42:26.674798Z",
     "iopub.status.busy": "2023-07-31T05:42:26.674372Z",
     "iopub.status.idle": "2023-07-31T05:42:26.679773Z",
     "shell.execute_reply": "2023-07-31T05:42:26.678372Z"
    },
    "jupyter": {
     "outputs_hidden": true
    },
    "papermill": {
     "duration": 0.034047,
     "end_time": "2023-07-31T05:42:26.682264",
     "exception": false,
     "start_time": "2023-07-31T05:42:26.648217",
     "status": "completed"
    },
    "tags": []
   },
   "outputs": [],
   "source": [
    "#!pip install autogluon"
   ]
  },
  {
   "cell_type": "code",
   "execution_count": 12,
   "id": "abe46d2d",
   "metadata": {
    "execution": {
     "iopub.execute_input": "2023-07-31T05:42:26.732457Z",
     "iopub.status.busy": "2023-07-31T05:42:26.732046Z",
     "iopub.status.idle": "2023-07-31T05:42:26.736787Z",
     "shell.execute_reply": "2023-07-31T05:42:26.735575Z"
    },
    "papermill": {
     "duration": 0.033043,
     "end_time": "2023-07-31T05:42:26.739045",
     "exception": false,
     "start_time": "2023-07-31T05:42:26.706002",
     "status": "completed"
    },
    "tags": []
   },
   "outputs": [],
   "source": [
    "#from autogluon.tabular import TabularDataset, TabularPredictor\n",
    "\n",
    "#train_auto = TabularDataset(train_df)\n",
    "#tab = TabularPredictor(label='IsBadBuy',eval_metric='f1')\n",
    "#tab.fit(train_df)"
   ]
  },
  {
   "cell_type": "code",
   "execution_count": 13,
   "id": "89152246",
   "metadata": {
    "execution": {
     "iopub.execute_input": "2023-07-31T05:42:26.787130Z",
     "iopub.status.busy": "2023-07-31T05:42:26.786654Z",
     "iopub.status.idle": "2023-07-31T05:42:26.791299Z",
     "shell.execute_reply": "2023-07-31T05:42:26.790497Z"
    },
    "papermill": {
     "duration": 0.031417,
     "end_time": "2023-07-31T05:42:26.793451",
     "exception": false,
     "start_time": "2023-07-31T05:42:26.762034",
     "status": "completed"
    },
    "tags": []
   },
   "outputs": [],
   "source": [
    "#from sklearn.model_selection import GridSearchCV\n",
    "#from catboost import CatBoostClassifier\n",
    "#cat =  CatBoostClassifier(random_state=42,eval_metric='F1',cat_features=category)\n",
    "#param = {\n",
    "#    'learning_rate': [0.01,0.05,0.1,0.3],\n",
    "#    'n_estimators': [500,1000,2000,3000,5000],\n",
    "#    'max_depth': [4,6,8]\n",
    "#}\n",
    "#\n",
    "#grid = GridSearchCV(estimator=cat,param_grid=param,n_jobs=-1,cv=2)\n",
    "#grid.fit(X,y,verbose=100,eval_set=[(X_val,y_val)])\n",
    "#print(grid.best_params_)"
   ]
  },
  {
   "cell_type": "code",
   "execution_count": 14,
   "id": "cb3be435",
   "metadata": {
    "execution": {
     "iopub.execute_input": "2023-07-31T05:42:26.844329Z",
     "iopub.status.busy": "2023-07-31T05:42:26.843891Z",
     "iopub.status.idle": "2023-07-31T05:42:26.849418Z",
     "shell.execute_reply": "2023-07-31T05:42:26.847668Z"
    },
    "papermill": {
     "duration": 0.033652,
     "end_time": "2023-07-31T05:42:26.852020",
     "exception": false,
     "start_time": "2023-07-31T05:42:26.818368",
     "status": "completed"
    },
    "tags": []
   },
   "outputs": [],
   "source": [
    "#print(X.dtypes)"
   ]
  },
  {
   "cell_type": "code",
   "execution_count": 15,
   "id": "00fdcdaa",
   "metadata": {
    "execution": {
     "iopub.execute_input": "2023-07-31T05:42:26.901183Z",
     "iopub.status.busy": "2023-07-31T05:42:26.900637Z",
     "iopub.status.idle": "2023-07-31T05:46:59.508686Z",
     "shell.execute_reply": "2023-07-31T05:46:59.507507Z"
    },
    "papermill": {
     "duration": 272.635531,
     "end_time": "2023-07-31T05:46:59.511018",
     "exception": false,
     "start_time": "2023-07-31T05:42:26.875487",
     "status": "completed"
    },
    "tags": []
   },
   "outputs": [
    {
     "name": "stdout",
     "output_type": "stream",
     "text": [
      "0:\tlearn: 0.0024474\ttotal: 338ms\tremaining: 5m 37s\n",
      "100:\tlearn: 0.1664973\ttotal: 25.2s\tremaining: 3m 44s\n",
      "200:\tlearn: 0.2240705\ttotal: 52.5s\tremaining: 3m 28s\n",
      "300:\tlearn: 0.2502404\ttotal: 1m 19s\tremaining: 3m 4s\n",
      "400:\tlearn: 0.2692746\ttotal: 1m 47s\tremaining: 2m 39s\n",
      "500:\tlearn: 0.2867343\ttotal: 2m 14s\tremaining: 2m 13s\n",
      "600:\tlearn: 0.3060201\ttotal: 2m 41s\tremaining: 1m 47s\n",
      "700:\tlearn: 0.3229071\ttotal: 3m 8s\tremaining: 1m 20s\n",
      "800:\tlearn: 0.3356465\ttotal: 3m 36s\tremaining: 53.7s\n",
      "900:\tlearn: 0.3501720\ttotal: 4m 4s\tremaining: 26.8s\n",
      "999:\tlearn: 0.3630482\ttotal: 4m 31s\tremaining: 0us\n"
     ]
    },
    {
     "data": {
      "text/plain": [
       "<catboost.core.CatBoostClassifier at 0x78b1fc3cb3a0>"
      ]
     },
     "execution_count": 15,
     "metadata": {},
     "output_type": "execute_result"
    }
   ],
   "source": [
    "category = X.columns[X.dtypes == 'category'].to_list()\n",
    "\n",
    "cat = CatBoostClassifier(learning_rate=0.03,random_state=42, n_estimators=1000, max_depth=8,eval_metric='F1')  # learning_rate = 0.01, n_estimators=3000, max_depth=8\n",
    "#cat.fit(X_train,y_train,eval_set=[(X_val,y_val)],cat_features=category,verbose=100,early_stopping_rounds=100) # 0.2692...\n",
    "cat.fit(X,y,cat_features=category,verbose=100)"
   ]
  },
  {
   "cell_type": "code",
   "execution_count": 16,
   "id": "5e99d35c",
   "metadata": {
    "execution": {
     "iopub.execute_input": "2023-07-31T05:46:59.561645Z",
     "iopub.status.busy": "2023-07-31T05:46:59.561233Z",
     "iopub.status.idle": "2023-07-31T05:46:59.570127Z",
     "shell.execute_reply": "2023-07-31T05:46:59.568974Z"
    },
    "papermill": {
     "duration": 0.036992,
     "end_time": "2023-07-31T05:46:59.572476",
     "exception": false,
     "start_time": "2023-07-31T05:46:59.535484",
     "status": "completed"
    },
    "tags": []
   },
   "outputs": [
    {
     "data": {
      "text/plain": [
       "\"\\ndef plot_feature_importance(importance,names,model_type):\\n    \\n    feature_importance = np.array(importance)\\n    feature_names = np.array(names)\\n    \\n    data={'feature_names':feature_names,'feature_importance':feature_importance}\\n    fi_df = pd.DataFrame(data)\\n    \\n    fi_df.sort_values(by=['feature_importance'], ascending=False,inplace=True)\\n\\n    plt.figure(figsize=(8,8))\\n\\n    sns.barplot(x=fi_df['feature_importance'], y=fi_df['feature_names'])\\n\\n    plt.title(model_type + ' Feature Importance')\\n    plt.xlabel('Feature Importance')\\n    plt.ylabel('Feature Names')\\nplot_feature_importance(cat.get_feature_importance(),X.columns,'CATBOOST')\\n\""
      ]
     },
     "execution_count": 16,
     "metadata": {},
     "output_type": "execute_result"
    }
   ],
   "source": [
    "\"\"\"\n",
    "def plot_feature_importance(importance,names,model_type):\n",
    "    \n",
    "    feature_importance = np.array(importance)\n",
    "    feature_names = np.array(names)\n",
    "    \n",
    "    data={'feature_names':feature_names,'feature_importance':feature_importance}\n",
    "    fi_df = pd.DataFrame(data)\n",
    "    \n",
    "    fi_df.sort_values(by=['feature_importance'], ascending=False,inplace=True)\n",
    "\n",
    "    plt.figure(figsize=(8,8))\n",
    "\n",
    "    sns.barplot(x=fi_df['feature_importance'], y=fi_df['feature_names'])\n",
    "\n",
    "    plt.title(model_type + ' Feature Importance')\n",
    "    plt.xlabel('Feature Importance')\n",
    "    plt.ylabel('Feature Names')\n",
    "plot_feature_importance(cat.get_feature_importance(),X.columns,'CATBOOST')\n",
    "\"\"\"\n"
   ]
  },
  {
   "cell_type": "code",
   "execution_count": 17,
   "id": "1379a0e8",
   "metadata": {
    "execution": {
     "iopub.execute_input": "2023-07-31T05:46:59.622569Z",
     "iopub.status.busy": "2023-07-31T05:46:59.622145Z",
     "iopub.status.idle": "2023-07-31T05:46:59.627358Z",
     "shell.execute_reply": "2023-07-31T05:46:59.626045Z"
    },
    "papermill": {
     "duration": 0.033279,
     "end_time": "2023-07-31T05:46:59.629840",
     "exception": false,
     "start_time": "2023-07-31T05:46:59.596561",
     "status": "completed"
    },
    "tags": []
   },
   "outputs": [],
   "source": [
    "#import eli5\n",
    "#from eli5.sklearn import PermutationImportance\n",
    "\n",
    "#perm = PermutationImportance(cat, scoring = \"f1\", random_state = 42).fit(X_val,y_val)\n",
    "#eli5.show_weights(perm,top=80,feature_names = X_val.columns.tolist())\n",
    "#m = perm.feature_importances_ > 0\n",
    "#X = X[X.columns[m]]\n",
    "#X_train, X_val, y_train, y_val = train_test_split(X,y,test_size=0.2,random_state=42)"
   ]
  },
  {
   "cell_type": "code",
   "execution_count": 18,
   "id": "675903c7",
   "metadata": {
    "execution": {
     "iopub.execute_input": "2023-07-31T05:46:59.687278Z",
     "iopub.status.busy": "2023-07-31T05:46:59.686706Z",
     "iopub.status.idle": "2023-07-31T05:46:59.937568Z",
     "shell.execute_reply": "2023-07-31T05:46:59.936428Z"
    },
    "papermill": {
     "duration": 0.284464,
     "end_time": "2023-07-31T05:46:59.940049",
     "exception": false,
     "start_time": "2023-07-31T05:46:59.655585",
     "status": "completed"
    },
    "tags": []
   },
   "outputs": [
    {
     "name": "stdout",
     "output_type": "stream",
     "text": [
      "0.34447539461467036\n"
     ]
    }
   ],
   "source": [
    "p_cat = cat.predict(X_val)\n",
    "print(f1_score(p_cat,y_val))"
   ]
  },
  {
   "cell_type": "code",
   "execution_count": 19,
   "id": "a227df07",
   "metadata": {
    "execution": {
     "iopub.execute_input": "2023-07-31T05:46:59.991477Z",
     "iopub.status.busy": "2023-07-31T05:46:59.991047Z",
     "iopub.status.idle": "2023-07-31T05:47:00.026022Z",
     "shell.execute_reply": "2023-07-31T05:47:00.024354Z"
    },
    "papermill": {
     "duration": 0.064244,
     "end_time": "2023-07-31T05:47:00.029111",
     "exception": false,
     "start_time": "2023-07-31T05:46:59.964867",
     "status": "completed"
    },
    "tags": []
   },
   "outputs": [],
   "source": [
    "sub = pd.read_csv('/kaggle/input/DontGetKicked/example_entry.csv')"
   ]
  },
  {
   "cell_type": "code",
   "execution_count": 20,
   "id": "6fffe165",
   "metadata": {
    "execution": {
     "iopub.execute_input": "2023-07-31T05:47:00.081019Z",
     "iopub.status.busy": "2023-07-31T05:47:00.080608Z",
     "iopub.status.idle": "2023-07-31T05:47:00.898813Z",
     "shell.execute_reply": "2023-07-31T05:47:00.897657Z"
    },
    "papermill": {
     "duration": 0.847272,
     "end_time": "2023-07-31T05:47:00.901653",
     "exception": false,
     "start_time": "2023-07-31T05:47:00.054381",
     "status": "completed"
    },
    "tags": []
   },
   "outputs": [],
   "source": [
    "pred = cat.predict_proba(test_df)[:,1]\n",
    "sub['IsBadBuy'] = pred\n",
    "sub.to_csv('submission_cat.csv',index=False)"
   ]
  },
  {
   "cell_type": "code",
   "execution_count": 21,
   "id": "a601b209",
   "metadata": {
    "execution": {
     "iopub.execute_input": "2023-07-31T05:47:00.954031Z",
     "iopub.status.busy": "2023-07-31T05:47:00.953649Z",
     "iopub.status.idle": "2023-07-31T05:47:00.996624Z",
     "shell.execute_reply": "2023-07-31T05:47:00.995333Z"
    },
    "papermill": {
     "duration": 0.072037,
     "end_time": "2023-07-31T05:47:00.999152",
     "exception": false,
     "start_time": "2023-07-31T05:47:00.927115",
     "status": "completed"
    },
    "tags": []
   },
   "outputs": [],
   "source": [
    "test_df = test_df.drop('PurchDate',axis=1)\n",
    "\n",
    "X = X.drop('PurchDate',axis=1)\n",
    "X_train = X_train.drop('PurchDate',axis=1)\n",
    "X_val = X_val.drop('PurchDate',axis=1)"
   ]
  },
  {
   "cell_type": "code",
   "execution_count": 22,
   "id": "3dd4fbf2",
   "metadata": {
    "collapsed": true,
    "execution": {
     "iopub.execute_input": "2023-07-31T05:47:01.053205Z",
     "iopub.status.busy": "2023-07-31T05:47:01.051978Z",
     "iopub.status.idle": "2023-07-31T05:47:01.060952Z",
     "shell.execute_reply": "2023-07-31T05:47:01.060137Z"
    },
    "jupyter": {
     "outputs_hidden": true
    },
    "papermill": {
     "duration": 0.037453,
     "end_time": "2023-07-31T05:47:01.063211",
     "exception": false,
     "start_time": "2023-07-31T05:47:01.025758",
     "status": "completed"
    },
    "tags": []
   },
   "outputs": [
    {
     "data": {
      "text/plain": [
       "\"\\nfrom lightgbm import LGBMClassifier\\nfrom sklearn.model_selection import GridSearchCV\\n\\nlgb =  LGBMClassifier(boost_from_average=False,random_state=42)\\nparam = {\\n    'learning_rate': [0.01,0.05,0.1,0.3],\\n    'n_estimators': [500,1000,2000,3000,5000],\\n    'max_depth': [4,6,8]\\n}\\ngrid = GridSearchCV(estimator=lgb,param_grid=param,n_jobs=-1,cv=2)\\ngrid.fit(X,y,verbose=100,eval_set=[(X_val,y_val)],eval_metric='F1')\\nprint(grid.best_params_)\\n\""
      ]
     },
     "execution_count": 22,
     "metadata": {},
     "output_type": "execute_result"
    }
   ],
   "source": [
    "\"\"\"\n",
    "from lightgbm import LGBMClassifier\n",
    "from sklearn.model_selection import GridSearchCV\n",
    "\n",
    "lgb =  LGBMClassifier(boost_from_average=False,random_state=42)\n",
    "param = {\n",
    "    'learning_rate': [0.01,0.05,0.1,0.3],\n",
    "    'n_estimators': [500,1000,2000,3000,5000],\n",
    "    'max_depth': [4,6,8]\n",
    "}\n",
    "grid = GridSearchCV(estimator=lgb,param_grid=param,n_jobs=-1,cv=2)\n",
    "grid.fit(X,y,verbose=100,eval_set=[(X_val,y_val)],eval_metric='F1')\n",
    "print(grid.best_params_)\n",
    "\"\"\""
   ]
  },
  {
   "cell_type": "code",
   "execution_count": 23,
   "id": "081e3856",
   "metadata": {
    "execution": {
     "iopub.execute_input": "2023-07-31T05:47:01.114716Z",
     "iopub.status.busy": "2023-07-31T05:47:01.113688Z",
     "iopub.status.idle": "2023-07-31T05:47:01.118656Z",
     "shell.execute_reply": "2023-07-31T05:47:01.117539Z"
    },
    "papermill": {
     "duration": 0.033509,
     "end_time": "2023-07-31T05:47:01.121127",
     "exception": false,
     "start_time": "2023-07-31T05:47:01.087618",
     "status": "completed"
    },
    "tags": []
   },
   "outputs": [],
   "source": [
    "from xgboost import XGBClassifier\n",
    "#xgb = XGBClassifier(random_state=42, learning_rate=0.01, max_depth=8, n_estimators=800,eval_metric='logloss',enable_categorical=True, tree_method='gpu_hist')\n",
    "#xgb.fit(X_train,y_train,eval_set=[(X_val,y_val)],early_stopping_rounds=100,verbose=100)\n",
    "#xgb.fit(X,y) # 0.3129"
   ]
  },
  {
   "cell_type": "code",
   "execution_count": 24,
   "id": "b4828baa",
   "metadata": {
    "execution": {
     "iopub.execute_input": "2023-07-31T05:47:01.172931Z",
     "iopub.status.busy": "2023-07-31T05:47:01.171686Z",
     "iopub.status.idle": "2023-07-31T05:47:01.176682Z",
     "shell.execute_reply": "2023-07-31T05:47:01.175782Z"
    },
    "papermill": {
     "duration": 0.033472,
     "end_time": "2023-07-31T05:47:01.179011",
     "exception": false,
     "start_time": "2023-07-31T05:47:01.145539",
     "status": "completed"
    },
    "tags": []
   },
   "outputs": [],
   "source": [
    "#p_xgb = xgb.predict(X_val)\n",
    "#print(f1_score(p_xgb,y_val))"
   ]
  },
  {
   "cell_type": "code",
   "execution_count": 25,
   "id": "9495757d",
   "metadata": {
    "execution": {
     "iopub.execute_input": "2023-07-31T05:47:01.232518Z",
     "iopub.status.busy": "2023-07-31T05:47:01.232046Z",
     "iopub.status.idle": "2023-07-31T05:47:01.237205Z",
     "shell.execute_reply": "2023-07-31T05:47:01.236200Z"
    },
    "papermill": {
     "duration": 0.035212,
     "end_time": "2023-07-31T05:47:01.239932",
     "exception": false,
     "start_time": "2023-07-31T05:47:01.204720",
     "status": "completed"
    },
    "tags": []
   },
   "outputs": [],
   "source": [
    "#pred_xgb = xgb.predict_proba(test_df)[:,1]\n",
    "#sub3 = sub.copy()\n",
    "#sub3['IsBadBuy'] = pred_xgb"
   ]
  },
  {
   "cell_type": "code",
   "execution_count": 26,
   "id": "6a92684a",
   "metadata": {
    "execution": {
     "iopub.execute_input": "2023-07-31T05:47:01.294233Z",
     "iopub.status.busy": "2023-07-31T05:47:01.293389Z",
     "iopub.status.idle": "2023-07-31T05:47:35.281030Z",
     "shell.execute_reply": "2023-07-31T05:47:35.279554Z"
    },
    "papermill": {
     "duration": 34.041421,
     "end_time": "2023-07-31T05:47:35.307822",
     "exception": false,
     "start_time": "2023-07-31T05:47:01.266401",
     "status": "completed"
    },
    "tags": []
   },
   "outputs": [
    {
     "data": {
      "text/html": [
       "<style>#sk-container-id-1 {color: black;background-color: white;}#sk-container-id-1 pre{padding: 0;}#sk-container-id-1 div.sk-toggleable {background-color: white;}#sk-container-id-1 label.sk-toggleable__label {cursor: pointer;display: block;width: 100%;margin-bottom: 0;padding: 0.3em;box-sizing: border-box;text-align: center;}#sk-container-id-1 label.sk-toggleable__label-arrow:before {content: \"▸\";float: left;margin-right: 0.25em;color: #696969;}#sk-container-id-1 label.sk-toggleable__label-arrow:hover:before {color: black;}#sk-container-id-1 div.sk-estimator:hover label.sk-toggleable__label-arrow:before {color: black;}#sk-container-id-1 div.sk-toggleable__content {max-height: 0;max-width: 0;overflow: hidden;text-align: left;background-color: #f0f8ff;}#sk-container-id-1 div.sk-toggleable__content pre {margin: 0.2em;color: black;border-radius: 0.25em;background-color: #f0f8ff;}#sk-container-id-1 input.sk-toggleable__control:checked~div.sk-toggleable__content {max-height: 200px;max-width: 100%;overflow: auto;}#sk-container-id-1 input.sk-toggleable__control:checked~label.sk-toggleable__label-arrow:before {content: \"▾\";}#sk-container-id-1 div.sk-estimator input.sk-toggleable__control:checked~label.sk-toggleable__label {background-color: #d4ebff;}#sk-container-id-1 div.sk-label input.sk-toggleable__control:checked~label.sk-toggleable__label {background-color: #d4ebff;}#sk-container-id-1 input.sk-hidden--visually {border: 0;clip: rect(1px 1px 1px 1px);clip: rect(1px, 1px, 1px, 1px);height: 1px;margin: -1px;overflow: hidden;padding: 0;position: absolute;width: 1px;}#sk-container-id-1 div.sk-estimator {font-family: monospace;background-color: #f0f8ff;border: 1px dotted black;border-radius: 0.25em;box-sizing: border-box;margin-bottom: 0.5em;}#sk-container-id-1 div.sk-estimator:hover {background-color: #d4ebff;}#sk-container-id-1 div.sk-parallel-item::after {content: \"\";width: 100%;border-bottom: 1px solid gray;flex-grow: 1;}#sk-container-id-1 div.sk-label:hover label.sk-toggleable__label {background-color: #d4ebff;}#sk-container-id-1 div.sk-serial::before {content: \"\";position: absolute;border-left: 1px solid gray;box-sizing: border-box;top: 0;bottom: 0;left: 50%;z-index: 0;}#sk-container-id-1 div.sk-serial {display: flex;flex-direction: column;align-items: center;background-color: white;padding-right: 0.2em;padding-left: 0.2em;position: relative;}#sk-container-id-1 div.sk-item {position: relative;z-index: 1;}#sk-container-id-1 div.sk-parallel {display: flex;align-items: stretch;justify-content: center;background-color: white;position: relative;}#sk-container-id-1 div.sk-item::before, #sk-container-id-1 div.sk-parallel-item::before {content: \"\";position: absolute;border-left: 1px solid gray;box-sizing: border-box;top: 0;bottom: 0;left: 50%;z-index: -1;}#sk-container-id-1 div.sk-parallel-item {display: flex;flex-direction: column;z-index: 1;position: relative;background-color: white;}#sk-container-id-1 div.sk-parallel-item:first-child::after {align-self: flex-end;width: 50%;}#sk-container-id-1 div.sk-parallel-item:last-child::after {align-self: flex-start;width: 50%;}#sk-container-id-1 div.sk-parallel-item:only-child::after {width: 0;}#sk-container-id-1 div.sk-dashed-wrapped {border: 1px dashed gray;margin: 0 0.4em 0.5em 0.4em;box-sizing: border-box;padding-bottom: 0.4em;background-color: white;}#sk-container-id-1 div.sk-label label {font-family: monospace;font-weight: bold;display: inline-block;line-height: 1.2em;}#sk-container-id-1 div.sk-label-container {text-align: center;}#sk-container-id-1 div.sk-container {/* jupyter's `normalize.less` sets `[hidden] { display: none; }` but bootstrap.min.css set `[hidden] { display: none !important; }` so we also need the `!important` here to be able to override the default hidden behavior on the sphinx rendered scikit-learn.org. See: https://github.com/scikit-learn/scikit-learn/issues/21755 */display: inline-block !important;position: relative;}#sk-container-id-1 div.sk-text-repr-fallback {display: none;}</style><div id=\"sk-container-id-1\" class=\"sk-top-container\"><div class=\"sk-text-repr-fallback\"><pre>LGBMClassifier(boost_from_average=False, learning_rate=0.01, max_depth=4,\n",
       "               n_estimators=2000, random_state=42)</pre><b>In a Jupyter environment, please rerun this cell to show the HTML representation or trust the notebook. <br />On GitHub, the HTML representation is unable to render, please try loading this page with nbviewer.org.</b></div><div class=\"sk-container\" hidden><div class=\"sk-item\"><div class=\"sk-estimator sk-toggleable\"><input class=\"sk-toggleable__control sk-hidden--visually\" id=\"sk-estimator-id-1\" type=\"checkbox\" checked><label for=\"sk-estimator-id-1\" class=\"sk-toggleable__label sk-toggleable__label-arrow\">LGBMClassifier</label><div class=\"sk-toggleable__content\"><pre>LGBMClassifier(boost_from_average=False, learning_rate=0.01, max_depth=4,\n",
       "               n_estimators=2000, random_state=42)</pre></div></div></div></div></div>"
      ],
      "text/plain": [
       "LGBMClassifier(boost_from_average=False, learning_rate=0.01, max_depth=4,\n",
       "               n_estimators=2000, random_state=42)"
      ]
     },
     "execution_count": 26,
     "metadata": {},
     "output_type": "execute_result"
    }
   ],
   "source": [
    "lgb = LGBMClassifier(boost_from_average = False,random_state=42, n_estimators= 2000, learning_rate=0.01, max_depth=4)#,learning_rate=0.1)\n",
    "#lgb.fit(X_train,y_train,eval_set=[(X_val,y_val)], eval_metric='F1',verbose=100, early_stopping_rounds=100) # {'learning_rate': 0.01, 'max_depth': 4, 'n_estimators': 2000}\n",
    "lgb.fit(X,y) # 0.3108"
   ]
  },
  {
   "cell_type": "code",
   "execution_count": 27,
   "id": "3c77fc98",
   "metadata": {
    "execution": {
     "iopub.execute_input": "2023-07-31T05:47:35.360051Z",
     "iopub.status.busy": "2023-07-31T05:47:35.359064Z",
     "iopub.status.idle": "2023-07-31T05:47:36.364874Z",
     "shell.execute_reply": "2023-07-31T05:47:36.363634Z"
    },
    "papermill": {
     "duration": 1.035316,
     "end_time": "2023-07-31T05:47:36.367755",
     "exception": false,
     "start_time": "2023-07-31T05:47:35.332439",
     "status": "completed"
    },
    "tags": []
   },
   "outputs": [
    {
     "name": "stdout",
     "output_type": "stream",
     "text": [
      "0.344731977818854\n"
     ]
    }
   ],
   "source": [
    "p_lgb = lgb.predict(X_val)\n",
    "print(f1_score(p_lgb,y_val))"
   ]
  },
  {
   "cell_type": "code",
   "execution_count": 28,
   "id": "ad249dbc",
   "metadata": {
    "execution": {
     "iopub.execute_input": "2023-07-31T05:47:36.422767Z",
     "iopub.status.busy": "2023-07-31T05:47:36.422256Z",
     "iopub.status.idle": "2023-07-31T05:47:39.819913Z",
     "shell.execute_reply": "2023-07-31T05:47:39.818562Z"
    },
    "papermill": {
     "duration": 3.429251,
     "end_time": "2023-07-31T05:47:39.823187",
     "exception": false,
     "start_time": "2023-07-31T05:47:36.393936",
     "status": "completed"
    },
    "tags": []
   },
   "outputs": [],
   "source": [
    "pred_light = lgb.predict_proba(test_df)[:,1]\n",
    "sub1 = sub.copy()\n",
    "sub1['IsBadBuy'] = pred_light\n",
    "#sub1.to_csv('submission_lgb.csv',index=False)"
   ]
  },
  {
   "cell_type": "code",
   "execution_count": 29,
   "id": "c32b3670",
   "metadata": {
    "execution": {
     "iopub.execute_input": "2023-07-31T05:47:39.878144Z",
     "iopub.status.busy": "2023-07-31T05:47:39.877731Z",
     "iopub.status.idle": "2023-07-31T05:47:39.882458Z",
     "shell.execute_reply": "2023-07-31T05:47:39.881162Z"
    },
    "papermill": {
     "duration": 0.035633,
     "end_time": "2023-07-31T05:47:39.884875",
     "exception": false,
     "start_time": "2023-07-31T05:47:39.849242",
     "status": "completed"
    },
    "tags": []
   },
   "outputs": [],
   "source": [
    "#sub2 = sub.copy()\n",
    "#sub2['IsBadBuy'] = sub['IsBadBuy'] * 0.8 + sub3['IsBadBuy'] * 0.2\n",
    "#sub2.to_csv('sub_cat8_xg2.csv',index=False)"
   ]
  },
  {
   "cell_type": "code",
   "execution_count": 30,
   "id": "3512440e",
   "metadata": {
    "execution": {
     "iopub.execute_input": "2023-07-31T05:47:39.940036Z",
     "iopub.status.busy": "2023-07-31T05:47:39.939611Z",
     "iopub.status.idle": "2023-07-31T05:47:40.157755Z",
     "shell.execute_reply": "2023-07-31T05:47:40.156476Z"
    },
    "papermill": {
     "duration": 0.249619,
     "end_time": "2023-07-31T05:47:40.160515",
     "exception": false,
     "start_time": "2023-07-31T05:47:39.910896",
     "status": "completed"
    },
    "tags": []
   },
   "outputs": [],
   "source": [
    "sub2 = sub.copy()\n",
    "sub2['IsBadBuy'] = sub['IsBadBuy'] * 0.8 + sub1['IsBadBuy'] * 0.2\n",
    "sub2.to_csv('sub_cat8_lgb2.csv',index=False)"
   ]
  },
  {
   "cell_type": "code",
   "execution_count": 31,
   "id": "952a98d9",
   "metadata": {
    "execution": {
     "iopub.execute_input": "2023-07-31T05:47:40.214852Z",
     "iopub.status.busy": "2023-07-31T05:47:40.214439Z",
     "iopub.status.idle": "2023-07-31T05:47:40.221845Z",
     "shell.execute_reply": "2023-07-31T05:47:40.220500Z"
    },
    "papermill": {
     "duration": 0.037869,
     "end_time": "2023-07-31T05:47:40.224571",
     "exception": false,
     "start_time": "2023-07-31T05:47:40.186702",
     "status": "completed"
    },
    "tags": []
   },
   "outputs": [],
   "source": [
    "#sub4 = sub.copy()\n",
    "#sub4['IsBadBuy'] = sub['IsBadBuy'] * 0.8 + sub1['IsBadBuy'] * 0.1 + sub3['IsBadBuy'] * 0.1\n",
    "#sub4.to_csv('sub_cat8_lgb1_xgb1.csv',index=False)"
   ]
  },
  {
   "cell_type": "code",
   "execution_count": 32,
   "id": "1d36fedb",
   "metadata": {
    "execution": {
     "iopub.execute_input": "2023-07-31T05:47:40.276663Z",
     "iopub.status.busy": "2023-07-31T05:47:40.276278Z",
     "iopub.status.idle": "2023-07-31T05:47:40.281158Z",
     "shell.execute_reply": "2023-07-31T05:47:40.279844Z"
    },
    "papermill": {
     "duration": 0.03457,
     "end_time": "2023-07-31T05:47:40.284563",
     "exception": false,
     "start_time": "2023-07-31T05:47:40.249993",
     "status": "completed"
    },
    "tags": []
   },
   "outputs": [],
   "source": [
    "#sub2 = sub.copy()\n",
    "#sub2['IsBadBuy'] = sub['IsBadBuy'] * 0.9 + sub1['IsBadBuy'] * 0.1\n",
    "#sub2.to_csv('sub_cat_9.csv',index=False)"
   ]
  }
 ],
 "metadata": {
  "kernelspec": {
   "display_name": "Python 3",
   "language": "python",
   "name": "python3"
  },
  "language_info": {
   "codemirror_mode": {
    "name": "ipython",
    "version": 3
   },
   "file_extension": ".py",
   "mimetype": "text/x-python",
   "name": "python",
   "nbconvert_exporter": "python",
   "pygments_lexer": "ipython3",
   "version": "3.10.12"
  },
  "papermill": {
   "default_parameters": {},
   "duration": 350.745659,
   "end_time": "2023-07-31T05:47:41.536177",
   "environment_variables": {},
   "exception": null,
   "input_path": "__notebook__.ipynb",
   "output_path": "__notebook__.ipynb",
   "parameters": {},
   "start_time": "2023-07-31T05:41:50.790518",
   "version": "2.4.0"
  }
 },
 "nbformat": 4,
 "nbformat_minor": 5
}
