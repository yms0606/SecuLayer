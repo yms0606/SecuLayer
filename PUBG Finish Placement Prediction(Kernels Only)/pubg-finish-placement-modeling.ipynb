{
 "cells": [
  {
   "cell_type": "code",
   "execution_count": 1,
   "id": "4fb142d3",
   "metadata": {
    "_cell_guid": "b1076dfc-b9ad-4769-8c92-a6c4dae69d19",
    "_uuid": "8f2839f25d086af736a60e9eeb907d3b93b6e0e5",
    "execution": {
     "iopub.execute_input": "2023-07-20T03:24:11.107153Z",
     "iopub.status.busy": "2023-07-20T03:24:11.106346Z",
     "iopub.status.idle": "2023-07-20T03:24:11.122561Z",
     "shell.execute_reply": "2023-07-20T03:24:11.121443Z"
    },
    "papermill": {
     "duration": 0.044401,
     "end_time": "2023-07-20T03:24:11.126391",
     "exception": false,
     "start_time": "2023-07-20T03:24:11.081990",
     "status": "completed"
    },
    "tags": []
   },
   "outputs": [
    {
     "name": "stdout",
     "output_type": "stream",
     "text": [
      "/kaggle/input/pubg-finish-placement-prediction/train_V2.csv\n",
      "/kaggle/input/pubg-finish-placement-prediction/test_V2.csv\n",
      "/kaggle/input/pubg-finish-placement-prediction/sample_submission_V2.csv\n"
     ]
    }
   ],
   "source": [
    "# This Python 3 environment comes with many helpful analytics libraries installed\n",
    "# It is defined by the kaggle/python Docker image: https://github.com/kaggle/docker-python\n",
    "# For example, here's several helpful packages to load\n",
    "\n",
    "import numpy as np # linear algebra\n",
    "import pandas as pd # data processing, CSV file I/O (e.g. pd.read_csv)\n",
    "\n",
    "# Input data files are available in the read-only \"../input/\" directory\n",
    "# For example, running this (by clicking run or pressing Shift+Enter) will list all files under the input directory\n",
    "\n",
    "import os\n",
    "for dirname, _, filenames in os.walk('/kaggle/input'):\n",
    "    for filename in filenames:\n",
    "        print(os.path.join(dirname, filename))\n",
    "\n",
    "# You can write up to 20GB to the current directory (/kaggle/working/) that gets preserved as output when you create a version using \"Save & Run All\" \n",
    "# You can also write temporary files to /kaggle/temp/, but they won't be saved outside of the current session\n",
    "import warnings\n",
    "warnings.filterwarnings('ignore')"
   ]
  },
  {
   "cell_type": "code",
   "execution_count": 2,
   "id": "a2ee58b6",
   "metadata": {
    "execution": {
     "iopub.execute_input": "2023-07-20T03:24:11.164336Z",
     "iopub.status.busy": "2023-07-20T03:24:11.163665Z",
     "iopub.status.idle": "2023-07-20T03:24:11.176170Z",
     "shell.execute_reply": "2023-07-20T03:24:11.175132Z"
    },
    "papermill": {
     "duration": 0.034077,
     "end_time": "2023-07-20T03:24:11.178563",
     "exception": false,
     "start_time": "2023-07-20T03:24:11.144486",
     "status": "completed"
    },
    "tags": []
   },
   "outputs": [],
   "source": [
    "def reduce_mem_usage(df):\n",
    "\n",
    "    for col in df.columns:\n",
    "        col_type = df[col].dtype\n",
    "\n",
    "        if col_type != object:\n",
    "            c_min = df[col].min()\n",
    "            c_max = df[col].max()\n",
    "            if str(col_type)[:3] == 'int':\n",
    "                if c_min > np.iinfo(np.int8).min and c_max < np.iinfo(np.int8).max:\n",
    "                    df[col] = df[col].astype(np.int8)\n",
    "                elif c_min > np.iinfo(np.int16).min and c_max < np.iinfo(np.int16).max:\n",
    "                    df[col] = df[col].astype(np.int16)\n",
    "                elif c_min > np.iinfo(np.int32).min and c_max < np.iinfo(np.int32).max:\n",
    "                    df[col] = df[col].astype(np.int32)\n",
    "                elif c_min > np.iinfo(np.int64).min and c_max < np.iinfo(np.int64).max:\n",
    "                    df[col] = df[col].astype(np.int64)  \n",
    "            else:\n",
    "                if c_min > np.finfo(np.float16).min and c_max < np.finfo(np.float16).max:\n",
    "                    df[col] = df[col].astype(np.float16)\n",
    "                elif c_min > np.finfo(np.float32).min and c_max < np.finfo(np.float32).max:\n",
    "                    df[col] = df[col].astype(np.float32)\n",
    "                else:\n",
    "                    df[col] = df[col].astype(np.float64)\n",
    "    return df"
   ]
  },
  {
   "cell_type": "code",
   "execution_count": 3,
   "id": "b113cdec",
   "metadata": {
    "execution": {
     "iopub.execute_input": "2023-07-20T03:24:11.216274Z",
     "iopub.status.busy": "2023-07-20T03:24:11.215571Z",
     "iopub.status.idle": "2023-07-20T03:24:55.772401Z",
     "shell.execute_reply": "2023-07-20T03:24:55.771172Z"
    },
    "papermill": {
     "duration": 44.579229,
     "end_time": "2023-07-20T03:24:55.775325",
     "exception": false,
     "start_time": "2023-07-20T03:24:11.196096",
     "status": "completed"
    },
    "tags": []
   },
   "outputs": [],
   "source": [
    "train_df = pd.read_csv('/kaggle/input/pubg-finish-placement-prediction/train_V2.csv')\n",
    "test_df = pd.read_csv('/kaggle/input/pubg-finish-placement-prediction/test_V2.csv')\n",
    "train = reduce_mem_usage(train_df)\n",
    "test = reduce_mem_usage(test_df)"
   ]
  },
  {
   "cell_type": "code",
   "execution_count": 4,
   "id": "d77eb47c",
   "metadata": {
    "execution": {
     "iopub.execute_input": "2023-07-20T03:24:55.812578Z",
     "iopub.status.busy": "2023-07-20T03:24:55.811922Z",
     "iopub.status.idle": "2023-07-20T03:24:57.163930Z",
     "shell.execute_reply": "2023-07-20T03:24:57.162441Z"
    },
    "papermill": {
     "duration": 1.374156,
     "end_time": "2023-07-20T03:24:57.166883",
     "exception": false,
     "start_time": "2023-07-20T03:24:55.792727",
     "status": "completed"
    },
    "tags": []
   },
   "outputs": [],
   "source": [
    "from sklearn.preprocessing import LabelEncoder\n",
    "def featuring(data,is_train):\n",
    "    train = data\n",
    "    \n",
    "    \n",
    "    train.loc[(train['matchType']=='squad-fpp') | (train['matchType']=='squad') | (train['matchType']=='normal-squad-fpp') |\n",
    "                        (train['matchType']=='flarefpp') | (train['matchType']=='flaretpp') | (train['matchType']=='normal-squad'), 'matchType'] = 0\n",
    "    \n",
    "    train.loc[(train['matchType']=='duo') | (train['matchType']=='duo-fpp') | (train['matchType']=='normal-duo-fpp') |\n",
    "                        (train['matchType']=='crashfpp') | (train['matchType']=='crashtpp')|(train['matchType']=='normal-duo'),'matchType'] = 1\n",
    "    \n",
    "    train.loc[(train['matchType']=='solo-fpp') | (train['matchType']=='solo') | (train['matchType']=='normal-solo-fpp') |\n",
    "         (train['matchType']=='normal-solo'),'matchType'] = 2\n",
    "    \n",
    "   \n",
    "    train['numPlayers'] = train.groupby('matchId')['Id'].transform('count')\n",
    "    train['teamPlayers'] = train.groupId.map(train.groupId.value_counts())\n",
    "    train['enemyPlayers'] = train['numPlayers'] - train['teamPlayers']\n",
    "\n",
    "    m = train.groupby('matchId')\n",
    "    train['killsPerc'] = m['kills'].rank(pct=True).values\n",
    "    train['killPlacePerc'] = m['killPlace'].rank(pct=True).values\n",
    "    train['walkDistancePerc'] = m['walkDistance'].rank(pct=True).values\n",
    "    \n",
    "    train['walkPerc_killsPerc'] = train['walkDistancePerc'] / train['killsPerc']\n",
    "    \n",
    "    train = train.fillna(0)\n",
    "    train['kills_walkPerc'] = train['kills'] / train['walkDistancePerc'] # last\n",
    "    train['walk_killsPerc'] = train['walkDistance'] / train['killsPerc'] # last\n",
    "    \n",
    "    train['Distance'] = train['rideDistance']+train['walkDistance']+train['swimDistance'] \n",
    "    \n",
    "    train = train.fillna(0)\n",
    "    #train['Distance_match'] = train['Distance'] / train['matchDuration'] # last\n",
    "    \n",
    "    train['walkoverheals'] = train['walkDistance'] / train['heals'] \n",
    "    train['walkoverkills'] = train['walkDistance'] / train['kills'] \n",
    "    train['teamwork'] = train['assists'] + train['revives'] \n",
    "    train['killStreakOverKills'] = train['killStreaks'] / train['kills']\n",
    "    train['skills'] = train['headshotKills'] + train['roadKills']\n",
    "    train['distanceOverWeapons'] = train['Distance'] / train['weaponsAcquired']\n",
    "    \n",
    "    train = train.fillna(0)\n",
    "    \n",
    "    train['buff'] = train['boosts'] + train['heals']\n",
    "    train['headshotPerc'] = train['headshotKills'] / train['kills']\n",
    "    train['killPlaceOverMaxPlace'] = train['killPlace'] / train['maxPlace']\n",
    "    train['killOverWalkDistance'] = train['kills'] / train['walkDistance']\n",
    "    \n",
    "    train['totalDamage'] = train['kills'] + train['assists']\n",
    "    train['buffperkill'] = train['buff'] / train['totalDamage']\n",
    "    train['killPlacePerc'] = train['killPlace'] / train['numPlayers']\n",
    "    \n",
    "    train = train.fillna(0)\n",
    "    \n",
    "    \n",
    "    #train.drop(['boosts','heals','killStreaks','DBNOs'],axis=1,inplace=True)\n",
    "    train.drop(['headshotKills','roadKills','vehicleDestroys','rideDistance','swimDistance','matchDuration','rankPoints','killPoints','winPoints'],axis=1,inplace=True)\n",
    "    \n",
    "  \n",
    "    \n",
    "    if is_train: col = train.drop(['matchId','groupId','Id','matchType','numGroups','numPlayers','winPlacePerc','teamPlayers','enemyPlayers'],axis=1).columns\n",
    "    else : col = train.drop(['matchId','groupId','Id','matchType','numGroups','numPlayers','teamPlayers','enemyPlayers'],axis=1).columns\n",
    "        \n",
    "    avg = train.groupby(['matchId','groupId'])[col].mean()\n",
    "    avg_r = avg.groupby('matchId')[col].rank(pct=True).reset_index()\n",
    "    \n",
    "    avg = avg.reset_index()\n",
    "    avg = avg.merge(avg_r, suffixes=['_mean','_mean_rank'], how='left', on=['matchId','groupId'])\n",
    "    \n",
    "    #train = train.merge(avg, how='left', on=['matchId','groupId'])\n",
    "    \n",
    "    ma = train.groupby(['matchId','groupId'])[col].max()\n",
    "    ma_r = ma.groupby('matchId')[col].rank(pct=True).reset_index()\n",
    "    \n",
    "    ma = ma.reset_index()\n",
    "    ma = ma.merge(ma_r, suffixes=['_max','_max_rank'], how='left', on=['matchId','groupId'])\n",
    "    \n",
    "    mi = train.groupby(['matchId','groupId'])[col].min()\n",
    "    mi_r = mi.groupby('matchId')[col].rank(pct=True).reset_index()\n",
    "    \n",
    "    mi = mi.reset_index()\n",
    "    mi = mi.merge(mi_r, suffixes=['_min','_min_rank'], how='left', on=['matchId','groupId'])\n",
    "    \n",
    "    mamin = train.groupby(['matchId'])[col].mean().reset_index()\n",
    "    sizeg = train.groupby(['matchId','groupId']).size().reset_index(name='group_size')\n",
    "    sizem = train.groupby(['matchId']).size().reset_index(name='match_size')\n",
    "    \n",
    "    train = train.merge(avg,how='left', on=['matchId','groupId'])\n",
    "    train = train.merge(ma, how='left', on=['matchId','groupId'])\n",
    "    train = train.merge(mi, how='left', on=['matchId','groupId'])\n",
    "    train = train.merge(mamin, how='left',on=['matchId'], suffixes = ['','_match_mean'])\n",
    "    train = train.merge(sizeg, how='left', on=['matchId','groupId'])\n",
    "    train = train.merge(sizem, how='left',on=['matchId'])\n",
    "    \n",
    "    train = train.fillna(0)\n",
    "    \n",
    "    return train"
   ]
  },
  {
   "cell_type": "code",
   "execution_count": 5,
   "id": "543d5c37",
   "metadata": {
    "execution": {
     "iopub.execute_input": "2023-07-20T03:24:57.204514Z",
     "iopub.status.busy": "2023-07-20T03:24:57.204073Z",
     "iopub.status.idle": "2023-07-20T03:24:57.889463Z",
     "shell.execute_reply": "2023-07-20T03:24:57.888026Z"
    },
    "papermill": {
     "duration": 0.707499,
     "end_time": "2023-07-20T03:24:57.892356",
     "exception": false,
     "start_time": "2023-07-20T03:24:57.184857",
     "status": "completed"
    },
    "tags": []
   },
   "outputs": [],
   "source": [
    "train1 = train.copy()#outlier_processing(train)\n",
    "test1 = test.copy()#outlier_processing(test)"
   ]
  },
  {
   "cell_type": "code",
   "execution_count": 6,
   "id": "c373387e",
   "metadata": {
    "execution": {
     "iopub.execute_input": "2023-07-20T03:24:57.930644Z",
     "iopub.status.busy": "2023-07-20T03:24:57.929486Z",
     "iopub.status.idle": "2023-07-20T03:24:57.933940Z",
     "shell.execute_reply": "2023-07-20T03:24:57.933050Z"
    },
    "papermill": {
     "duration": 0.025824,
     "end_time": "2023-07-20T03:24:57.936073",
     "exception": false,
     "start_time": "2023-07-20T03:24:57.910249",
     "status": "completed"
    },
    "tags": []
   },
   "outputs": [],
   "source": [
    "#train1 = reduce_mem_usage(train1)\n",
    "#test1 = reduce_mem_usage(test1)"
   ]
  },
  {
   "cell_type": "code",
   "execution_count": 7,
   "id": "06ec74e3",
   "metadata": {
    "execution": {
     "iopub.execute_input": "2023-07-20T03:24:57.973651Z",
     "iopub.status.busy": "2023-07-20T03:24:57.972587Z",
     "iopub.status.idle": "2023-07-20T03:31:22.792860Z",
     "shell.execute_reply": "2023-07-20T03:31:22.791420Z"
    },
    "papermill": {
     "duration": 384.856574,
     "end_time": "2023-07-20T03:31:22.810217",
     "exception": false,
     "start_time": "2023-07-20T03:24:57.953643",
     "status": "completed"
    },
    "tags": []
   },
   "outputs": [
    {
     "name": "stdout",
     "output_type": "stream",
     "text": [
      "start featuring train\n",
      "start featuring test\n",
      "finish featuring\n"
     ]
    }
   ],
   "source": [
    "print('start featuring train')\n",
    "train2 = featuring(train1,True)\n",
    "print('start featuring test')\n",
    "test2 = featuring(test1,False)\n",
    "print('finish featuring')"
   ]
  },
  {
   "cell_type": "code",
   "execution_count": 8,
   "id": "72c484b0",
   "metadata": {
    "execution": {
     "iopub.execute_input": "2023-07-20T03:31:22.849597Z",
     "iopub.status.busy": "2023-07-20T03:31:22.849147Z",
     "iopub.status.idle": "2023-07-20T03:31:22.859088Z",
     "shell.execute_reply": "2023-07-20T03:31:22.857920Z"
    },
    "papermill": {
     "duration": 0.032179,
     "end_time": "2023-07-20T03:31:22.861432",
     "exception": false,
     "start_time": "2023-07-20T03:31:22.829253",
     "status": "completed"
    },
    "tags": []
   },
   "outputs": [
    {
     "data": {
      "text/plain": [
       "array([dtype('O'), dtype('int8'), dtype('float16'), dtype('int64'),\n",
       "       dtype('int16'), dtype('float64'), dtype('float32')], dtype=object)"
      ]
     },
     "execution_count": 8,
     "metadata": {},
     "output_type": "execute_result"
    }
   ],
   "source": [
    "train2.dtypes.unique()"
   ]
  },
  {
   "cell_type": "code",
   "execution_count": 9,
   "id": "5292e823",
   "metadata": {
    "execution": {
     "iopub.execute_input": "2023-07-20T03:31:22.899763Z",
     "iopub.status.busy": "2023-07-20T03:31:22.899336Z",
     "iopub.status.idle": "2023-07-20T03:36:50.894370Z",
     "shell.execute_reply": "2023-07-20T03:36:50.893394Z"
    },
    "papermill": {
     "duration": 328.035135,
     "end_time": "2023-07-20T03:36:50.914935",
     "exception": false,
     "start_time": "2023-07-20T03:31:22.879800",
     "status": "completed"
    },
    "tags": []
   },
   "outputs": [
    {
     "name": "stdout",
     "output_type": "stream",
     "text": [
      "finish reduce mem\n"
     ]
    }
   ],
   "source": [
    "train2 = reduce_mem_usage(train2)\n",
    "test2 = reduce_mem_usage(test2)\n",
    "print('finish reduce mem')"
   ]
  },
  {
   "cell_type": "code",
   "execution_count": 10,
   "id": "379f84f3",
   "metadata": {
    "execution": {
     "iopub.execute_input": "2023-07-20T03:36:50.954060Z",
     "iopub.status.busy": "2023-07-20T03:36:50.953084Z",
     "iopub.status.idle": "2023-07-20T03:36:50.965406Z",
     "shell.execute_reply": "2023-07-20T03:36:50.964131Z"
    },
    "papermill": {
     "duration": 0.035081,
     "end_time": "2023-07-20T03:36:50.968479",
     "exception": false,
     "start_time": "2023-07-20T03:36:50.933398",
     "status": "completed"
    },
    "tags": []
   },
   "outputs": [],
   "source": [
    "def post_processing(data,pred):\n",
    "    \n",
    "    df = data[['Id','matchId','groupId','maxPlace','numGroups']]\n",
    "    \n",
    "    df['win_pred'] = pred\n",
    "    \n",
    "    #df = df[['Id','matchId','groupId','maxPlace','numGroups','win_pred']]\n",
    "    \n",
    "    df_g = df.groupby(['matchId','groupId']).first().reset_index()\n",
    "    df_g['team_place'] = df_g.groupby(['matchId'])['win_pred'].rank()\n",
    "    \n",
    "    df_g['win_perc'] = (df_g['team_place'] - 1) / (df_g['numGroups'] - 1)\n",
    "    df = df.merge(df_g[['win_perc','matchId','groupId']], on=['matchId','groupId'], how='left')\n",
    "    \n",
    "    df.loc[df['maxPlace']==0, 'win_perc'] = 0\n",
    "    df.loc[df['maxPlace']==1, 'win_perc'] = 1\n",
    "    df.loc[(df['maxPlace'] > 1) & (df['numGroups'] ==1), 'win_perc'] = 0\n",
    "    df.loc[df['win_perc']<0, 'win_perc'] = 0\n",
    "    df.loc[df['win_perc']>1, 'win_perc'] = 1\n",
    "    df['win_perc'].fillna(df['win_pred'],inplace=True)\n",
    "    \n",
    "    subset = df.loc[df['maxPlace'] > 1]\n",
    "    gap = 1 / (subset['maxPlace'].values-1)\n",
    "    new_perc = np.around(subset['win_perc'].values / gap) * gap\n",
    "    df.loc[df.maxPlace > 1, 'win_perc'] = new_perc\n",
    "    \n",
    "    df['winPlacePerc'] = df['win_perc']\n",
    "    \n",
    "    return df[['Id','winPlacePerc']]"
   ]
  },
  {
   "cell_type": "code",
   "execution_count": 11,
   "id": "aa1b658a",
   "metadata": {
    "execution": {
     "iopub.execute_input": "2023-07-20T03:36:51.006546Z",
     "iopub.status.busy": "2023-07-20T03:36:51.005877Z",
     "iopub.status.idle": "2023-07-20T03:36:52.254496Z",
     "shell.execute_reply": "2023-07-20T03:36:52.253387Z"
    },
    "papermill": {
     "duration": 1.27093,
     "end_time": "2023-07-20T03:36:52.257279",
     "exception": false,
     "start_time": "2023-07-20T03:36:50.986349",
     "status": "completed"
    },
    "tags": []
   },
   "outputs": [],
   "source": [
    "from sklearn.model_selection import train_test_split\n",
    "from lightgbm import LGBMRegressor\n",
    "from sklearn.metrics import mean_absolute_error\n",
    "\n",
    "def lgb_train(tr,te):\n",
    "    train = tr\n",
    "    y = train['winPlacePerc']\n",
    "    X = train.drop(['Id','winPlacePerc','matchType','groupId','matchId','maxPlace'], axis = 1)\n",
    "    \n",
    "    X_train, X_val, y_train, y_val = train_test_split(X,y,test_size=0.2, random_state=42)\n",
    "    \n",
    "    lightgbm = LGBMRegressor(random_state=42,n_estimators=20000,learning_rate = 0.05,early_stopping_round=100)\n",
    "    lightgbm.fit(X_train,y_train,eval_set=[(X_val,y_val)], eval_metric='l1', verbose=1000)\n",
    "    pred = lightgbm.predict(X_val)\n",
    "    print(mean_absolute_error(y_val, pred))\n",
    "    \n",
    "    test = te\n",
    "    predic = lightgbm.predict(test.drop(['Id','matchType','groupId','matchId','maxPlace'],axis=1))\n",
    "    test['winPlacePerc'] = predic\n",
    "    \n",
    "    \n",
    "    return test[['Id','winPlacePerc']]"
   ]
  },
  {
   "cell_type": "code",
   "execution_count": 12,
   "id": "c7bce819",
   "metadata": {
    "execution": {
     "iopub.execute_input": "2023-07-20T03:36:52.295403Z",
     "iopub.status.busy": "2023-07-20T03:36:52.294692Z",
     "iopub.status.idle": "2023-07-20T03:36:52.299382Z",
     "shell.execute_reply": "2023-07-20T03:36:52.298356Z"
    },
    "papermill": {
     "duration": 0.026363,
     "end_time": "2023-07-20T03:36:52.301791",
     "exception": false,
     "start_time": "2023-07-20T03:36:52.275428",
     "status": "completed"
    },
    "tags": []
   },
   "outputs": [],
   "source": [
    "#test_all = lgb_train(train2,test2)\n",
    "#test_all"
   ]
  },
  {
   "cell_type": "code",
   "execution_count": 13,
   "id": "1439a6bd",
   "metadata": {
    "execution": {
     "iopub.execute_input": "2023-07-20T03:36:52.341874Z",
     "iopub.status.busy": "2023-07-20T03:36:52.341064Z",
     "iopub.status.idle": "2023-07-20T03:36:52.345050Z",
     "shell.execute_reply": "2023-07-20T03:36:52.344229Z"
    },
    "papermill": {
     "duration": 0.02676,
     "end_time": "2023-07-20T03:36:52.347230",
     "exception": false,
     "start_time": "2023-07-20T03:36:52.320470",
     "status": "completed"
    },
    "tags": []
   },
   "outputs": [],
   "source": [
    "#test_pro = post_processing(test2,test_all['winPlacePerc'])\n",
    "#test_pro"
   ]
  },
  {
   "cell_type": "code",
   "execution_count": 14,
   "id": "7d5a0424",
   "metadata": {
    "execution": {
     "iopub.execute_input": "2023-07-20T03:36:52.386704Z",
     "iopub.status.busy": "2023-07-20T03:36:52.386064Z",
     "iopub.status.idle": "2023-07-20T03:36:52.390079Z",
     "shell.execute_reply": "2023-07-20T03:36:52.389199Z"
    },
    "papermill": {
     "duration": 0.027096,
     "end_time": "2023-07-20T03:36:52.392532",
     "exception": false,
     "start_time": "2023-07-20T03:36:52.365436",
     "status": "completed"
    },
    "tags": []
   },
   "outputs": [],
   "source": [
    "#test_pro.to_csv('submission.csv',index=False)"
   ]
  },
  {
   "cell_type": "code",
   "execution_count": 15,
   "id": "2aaf53fb",
   "metadata": {
    "execution": {
     "iopub.execute_input": "2023-07-20T03:36:52.432191Z",
     "iopub.status.busy": "2023-07-20T03:36:52.431278Z",
     "iopub.status.idle": "2023-07-20T08:29:23.200577Z",
     "shell.execute_reply": "2023-07-20T08:29:23.195743Z"
    },
    "papermill": {
     "duration": 17550.808876,
     "end_time": "2023-07-20T08:29:23.220714",
     "exception": false,
     "start_time": "2023-07-20T03:36:52.411838",
     "status": "completed"
    },
    "tags": []
   },
   "outputs": [
    {
     "name": "stdout",
     "output_type": "stream",
     "text": [
      "[1000]\tvalid_0's l1: 0.0224363\tvalid_0's l2: 0.00108798\n",
      "[2000]\tvalid_0's l1: 0.0212704\tvalid_0's l2: 0.000971763\n",
      "[3000]\tvalid_0's l1: 0.0204502\tvalid_0's l2: 0.000895618\n",
      "[4000]\tvalid_0's l1: 0.0197835\tvalid_0's l2: 0.000838684\n",
      "[5000]\tvalid_0's l1: 0.0192283\tvalid_0's l2: 0.000792802\n",
      "[6000]\tvalid_0's l1: 0.0187126\tvalid_0's l2: 0.000752065\n",
      "[7000]\tvalid_0's l1: 0.0182362\tvalid_0's l2: 0.000716867\n",
      "[8000]\tvalid_0's l1: 0.0177956\tvalid_0's l2: 0.000685647\n",
      "[9000]\tvalid_0's l1: 0.0173853\tvalid_0's l2: 0.000657104\n",
      "[10000]\tvalid_0's l1: 0.0169972\tvalid_0's l2: 0.000631174\n",
      "[11000]\tvalid_0's l1: 0.0166271\tvalid_0's l2: 0.000607146\n",
      "[12000]\tvalid_0's l1: 0.0162799\tvalid_0's l2: 0.000585467\n",
      "[13000]\tvalid_0's l1: 0.015952\tvalid_0's l2: 0.000565433\n",
      "[14000]\tvalid_0's l1: 0.0156404\tvalid_0's l2: 0.000547057\n",
      "[15000]\tvalid_0's l1: 0.0153322\tvalid_0's l2: 0.000529336\n",
      "[16000]\tvalid_0's l1: 0.0150455\tvalid_0's l2: 0.000513317\n",
      "[17000]\tvalid_0's l1: 0.0147722\tvalid_0's l2: 0.000498499\n",
      "[18000]\tvalid_0's l1: 0.0145\tvalid_0's l2: 0.000483982\n",
      "[19000]\tvalid_0's l1: 0.0142535\tvalid_0's l2: 0.0004709\n",
      "[20000]\tvalid_0's l1: 0.0140093\tvalid_0's l2: 0.00045862\n",
      "0.014009256657270527\n",
      "test sq complete\n"
     ]
    }
   ],
   "source": [
    "test_sq = lgb_train(train2[train2['matchType']==0],test2[test2['matchType']==0]) # 103만개\n",
    "print('test sq complete')"
   ]
  },
  {
   "cell_type": "code",
   "execution_count": 16,
   "id": "77de5372",
   "metadata": {
    "execution": {
     "iopub.execute_input": "2023-07-20T08:29:23.267555Z",
     "iopub.status.busy": "2023-07-20T08:29:23.266865Z",
     "iopub.status.idle": "2023-07-20T11:09:01.416592Z",
     "shell.execute_reply": "2023-07-20T11:09:01.413436Z"
    },
    "papermill": {
     "duration": 9578.201865,
     "end_time": "2023-07-20T11:09:01.442908",
     "exception": false,
     "start_time": "2023-07-20T08:29:23.241043",
     "status": "completed"
    },
    "tags": []
   },
   "outputs": [
    {
     "name": "stdout",
     "output_type": "stream",
     "text": [
      "[1000]\tvalid_0's l1: 0.0231397\tvalid_0's l2: 0.00111711\n",
      "[2000]\tvalid_0's l1: 0.0220431\tvalid_0's l2: 0.00101073\n",
      "[3000]\tvalid_0's l1: 0.0213106\tvalid_0's l2: 0.000942835\n",
      "[4000]\tvalid_0's l1: 0.0207141\tvalid_0's l2: 0.000890326\n",
      "[5000]\tvalid_0's l1: 0.0201875\tvalid_0's l2: 0.000846432\n",
      "[6000]\tvalid_0's l1: 0.0197133\tvalid_0's l2: 0.000808227\n",
      "[7000]\tvalid_0's l1: 0.0192895\tvalid_0's l2: 0.000775455\n",
      "[8000]\tvalid_0's l1: 0.0188939\tvalid_0's l2: 0.000745535\n",
      "[9000]\tvalid_0's l1: 0.0185196\tvalid_0's l2: 0.000718262\n",
      "[10000]\tvalid_0's l1: 0.0181531\tvalid_0's l2: 0.000692901\n",
      "[11000]\tvalid_0's l1: 0.0178205\tvalid_0's l2: 0.000670003\n",
      "[12000]\tvalid_0's l1: 0.017511\tvalid_0's l2: 0.00064935\n",
      "[13000]\tvalid_0's l1: 0.0172218\tvalid_0's l2: 0.000630338\n",
      "[14000]\tvalid_0's l1: 0.0169371\tvalid_0's l2: 0.00061256\n",
      "[15000]\tvalid_0's l1: 0.0166679\tvalid_0's l2: 0.000596013\n",
      "[16000]\tvalid_0's l1: 0.0164093\tvalid_0's l2: 0.000580623\n",
      "[17000]\tvalid_0's l1: 0.0161616\tvalid_0's l2: 0.000566208\n",
      "[18000]\tvalid_0's l1: 0.015918\tvalid_0's l2: 0.000552479\n",
      "[19000]\tvalid_0's l1: 0.0156876\tvalid_0's l2: 0.000539526\n",
      "[20000]\tvalid_0's l1: 0.015466\tvalid_0's l2: 0.000527489\n",
      "0.015465988417611638\n",
      "test du complete\n"
     ]
    }
   ],
   "source": [
    "test_du = lgb_train(train2[train2['matchType']==1],test2[test2['matchType']==1]) # 58만개\n",
    "print('test du complete')"
   ]
  },
  {
   "cell_type": "code",
   "execution_count": 17,
   "id": "d33bccfc",
   "metadata": {
    "execution": {
     "iopub.execute_input": "2023-07-20T11:09:01.495208Z",
     "iopub.status.busy": "2023-07-20T11:09:01.493669Z",
     "iopub.status.idle": "2023-07-20T12:34:30.808747Z",
     "shell.execute_reply": "2023-07-20T12:34:30.805821Z"
    },
    "papermill": {
     "duration": 5129.370148,
     "end_time": "2023-07-20T12:34:30.835704",
     "exception": false,
     "start_time": "2023-07-20T11:09:01.465556",
     "status": "completed"
    },
    "tags": []
   },
   "outputs": [
    {
     "name": "stdout",
     "output_type": "stream",
     "text": [
      "[1000]\tvalid_0's l1: 0.0277588\tvalid_0's l2: 0.001677\n",
      "[2000]\tvalid_0's l1: 0.0270757\tvalid_0's l2: 0.00161032\n",
      "[3000]\tvalid_0's l1: 0.0266486\tvalid_0's l2: 0.0015717\n",
      "[4000]\tvalid_0's l1: 0.0263271\tvalid_0's l2: 0.00154445\n",
      "[5000]\tvalid_0's l1: 0.0260611\tvalid_0's l2: 0.00152274\n",
      "[6000]\tvalid_0's l1: 0.0258474\tvalid_0's l2: 0.00150687\n",
      "[7000]\tvalid_0's l1: 0.0256856\tvalid_0's l2: 0.00149352\n",
      "[8000]\tvalid_0's l1: 0.0255101\tvalid_0's l2: 0.00148096\n",
      "[9000]\tvalid_0's l1: 0.0253601\tvalid_0's l2: 0.00147028\n",
      "[10000]\tvalid_0's l1: 0.0252356\tvalid_0's l2: 0.00146156\n",
      "[11000]\tvalid_0's l1: 0.0251235\tvalid_0's l2: 0.001453\n",
      "[12000]\tvalid_0's l1: 0.0250247\tvalid_0's l2: 0.00144613\n",
      "[13000]\tvalid_0's l1: 0.0249305\tvalid_0's l2: 0.00143993\n",
      "[14000]\tvalid_0's l1: 0.0248411\tvalid_0's l2: 0.00143378\n",
      "[15000]\tvalid_0's l1: 0.0247559\tvalid_0's l2: 0.00142812\n",
      "[16000]\tvalid_0's l1: 0.0246843\tvalid_0's l2: 0.00142349\n",
      "[17000]\tvalid_0's l1: 0.0246147\tvalid_0's l2: 0.00141945\n",
      "[18000]\tvalid_0's l1: 0.0245441\tvalid_0's l2: 0.00141477\n",
      "[19000]\tvalid_0's l1: 0.0244837\tvalid_0's l2: 0.00141105\n",
      "[20000]\tvalid_0's l1: 0.0244243\tvalid_0's l2: 0.00140769\n",
      "0.024424228109095003\n",
      "test so complete\n"
     ]
    }
   ],
   "source": [
    "test_so = lgb_train(train2[train2['matchType']==2],test2[test2['matchType']==2]) # 31만개\n",
    "print('test so complete')"
   ]
  },
  {
   "cell_type": "code",
   "execution_count": 18,
   "id": "1fd326c3",
   "metadata": {
    "execution": {
     "iopub.execute_input": "2023-07-20T12:34:30.886958Z",
     "iopub.status.busy": "2023-07-20T12:34:30.886418Z",
     "iopub.status.idle": "2023-07-20T12:34:30.978464Z",
     "shell.execute_reply": "2023-07-20T12:34:30.977062Z"
    },
    "papermill": {
     "duration": 0.12198,
     "end_time": "2023-07-20T12:34:30.981502",
     "exception": false,
     "start_time": "2023-07-20T12:34:30.859522",
     "status": "completed"
    },
    "tags": []
   },
   "outputs": [],
   "source": [
    "test_win = pd.concat([test_sq,test_du,test_so])"
   ]
  },
  {
   "cell_type": "code",
   "execution_count": 19,
   "id": "76825dcd",
   "metadata": {
    "execution": {
     "iopub.execute_input": "2023-07-20T12:34:31.033176Z",
     "iopub.status.busy": "2023-07-20T12:34:31.032744Z",
     "iopub.status.idle": "2023-07-20T12:34:32.887489Z",
     "shell.execute_reply": "2023-07-20T12:34:32.886348Z"
    },
    "papermill": {
     "duration": 1.883973,
     "end_time": "2023-07-20T12:34:32.890354",
     "exception": false,
     "start_time": "2023-07-20T12:34:31.006381",
     "status": "completed"
    },
    "tags": []
   },
   "outputs": [],
   "source": [
    "sub = pd.read_csv('/kaggle/input/pubg-finish-placement-prediction/sample_submission_V2.csv')"
   ]
  },
  {
   "cell_type": "code",
   "execution_count": 20,
   "id": "0bbc6818",
   "metadata": {
    "execution": {
     "iopub.execute_input": "2023-07-20T12:34:32.941469Z",
     "iopub.status.busy": "2023-07-20T12:34:32.941075Z",
     "iopub.status.idle": "2023-07-20T12:34:36.292062Z",
     "shell.execute_reply": "2023-07-20T12:34:36.290927Z"
    },
    "papermill": {
     "duration": 3.379963,
     "end_time": "2023-07-20T12:34:36.295123",
     "exception": false,
     "start_time": "2023-07-20T12:34:32.915160",
     "status": "completed"
    },
    "tags": []
   },
   "outputs": [],
   "source": [
    "sub = pd.merge(sub,test_win,on='Id',how='left')"
   ]
  },
  {
   "cell_type": "code",
   "execution_count": 21,
   "id": "d5a7cc72",
   "metadata": {
    "execution": {
     "iopub.execute_input": "2023-07-20T12:34:36.345432Z",
     "iopub.status.busy": "2023-07-20T12:34:36.344898Z",
     "iopub.status.idle": "2023-07-20T12:34:36.415661Z",
     "shell.execute_reply": "2023-07-20T12:34:36.414352Z"
    },
    "papermill": {
     "duration": 0.099241,
     "end_time": "2023-07-20T12:34:36.418550",
     "exception": false,
     "start_time": "2023-07-20T12:34:36.319309",
     "status": "completed"
    },
    "tags": []
   },
   "outputs": [],
   "source": [
    "sub['winPlacePerc'] = sub['winPlacePerc_y']\n",
    "sub = sub[['Id','winPlacePerc']]"
   ]
  },
  {
   "cell_type": "code",
   "execution_count": 22,
   "id": "a4c6019a",
   "metadata": {
    "execution": {
     "iopub.execute_input": "2023-07-20T12:34:36.468714Z",
     "iopub.status.busy": "2023-07-20T12:34:36.468288Z",
     "iopub.status.idle": "2023-07-20T12:34:45.378530Z",
     "shell.execute_reply": "2023-07-20T12:34:45.377339Z"
    },
    "papermill": {
     "duration": 8.938565,
     "end_time": "2023-07-20T12:34:45.381402",
     "exception": false,
     "start_time": "2023-07-20T12:34:36.442837",
     "status": "completed"
    },
    "tags": []
   },
   "outputs": [],
   "source": [
    "sub = post_processing(test2,sub['winPlacePerc'])"
   ]
  },
  {
   "cell_type": "code",
   "execution_count": 23,
   "id": "a99ab874",
   "metadata": {
    "execution": {
     "iopub.execute_input": "2023-07-20T12:34:45.430801Z",
     "iopub.status.busy": "2023-07-20T12:34:45.430367Z",
     "iopub.status.idle": "2023-07-20T12:34:54.493062Z",
     "shell.execute_reply": "2023-07-20T12:34:54.491728Z"
    },
    "papermill": {
     "duration": 9.091021,
     "end_time": "2023-07-20T12:34:54.496235",
     "exception": false,
     "start_time": "2023-07-20T12:34:45.405214",
     "status": "completed"
    },
    "tags": []
   },
   "outputs": [],
   "source": [
    "sub.to_csv('submission.csv', index=False)"
   ]
  },
  {
   "cell_type": "code",
   "execution_count": 24,
   "id": "e23a460c",
   "metadata": {
    "execution": {
     "iopub.execute_input": "2023-07-20T12:34:54.548694Z",
     "iopub.status.busy": "2023-07-20T12:34:54.548210Z",
     "iopub.status.idle": "2023-07-20T12:34:54.553172Z",
     "shell.execute_reply": "2023-07-20T12:34:54.552124Z"
    },
    "papermill": {
     "duration": 0.034224,
     "end_time": "2023-07-20T12:34:54.555521",
     "exception": false,
     "start_time": "2023-07-20T12:34:54.521297",
     "status": "completed"
    },
    "tags": []
   },
   "outputs": [],
   "source": [
    "#y = train2['winPlacePerc']\n",
    "#X = train2.drop(['winPlacePerc'], axis = 1)"
   ]
  },
  {
   "cell_type": "code",
   "execution_count": 25,
   "id": "aba16fec",
   "metadata": {
    "execution": {
     "iopub.execute_input": "2023-07-20T12:34:54.606106Z",
     "iopub.status.busy": "2023-07-20T12:34:54.605631Z",
     "iopub.status.idle": "2023-07-20T12:34:54.620019Z",
     "shell.execute_reply": "2023-07-20T12:34:54.618700Z"
    },
    "papermill": {
     "duration": 0.042747,
     "end_time": "2023-07-20T12:34:54.622675",
     "exception": false,
     "start_time": "2023-07-20T12:34:54.579928",
     "status": "completed"
    },
    "tags": []
   },
   "outputs": [
    {
     "data": {
      "text/plain": [
       "\"\\nfrom sklearn.model_selection import train_test_split\\n\\nX_train, X_val, y_train, y_val = train_test_split(X,y,test_size=0.2, random_state=42)\\n\\nfrom lightgbm import LGBMRegressor\\nfrom sklearn.metrics import mean_absolute_error\\n\\nlightgbm = LGBMRegressor(random_state=42,n_estimators=5000,learning_rate = 0.05,early_stopping_round=20) #num_leaves = 6000\\nlightgbm.fit(X_train,y_train,eval_set=[(X_val,y_val)], eval_metric='l1')\\npred = lightgbm.predict(X_val)\\nmean_absolute_error(y_val, pred)\\n\""
      ]
     },
     "execution_count": 25,
     "metadata": {},
     "output_type": "execute_result"
    }
   ],
   "source": [
    "\"\"\"\n",
    "from sklearn.model_selection import train_test_split\n",
    "\n",
    "X_train, X_val, y_train, y_val = train_test_split(X,y,test_size=0.2, random_state=42)\n",
    "\n",
    "from lightgbm import LGBMRegressor\n",
    "from sklearn.metrics import mean_absolute_error\n",
    "\n",
    "lightgbm = LGBMRegressor(random_state=42,n_estimators=5000,learning_rate = 0.05,early_stopping_round=20) #num_leaves = 6000\n",
    "lightgbm.fit(X_train,y_train,eval_set=[(X_val,y_val)], eval_metric='l1')\n",
    "pred = lightgbm.predict(X_val)\n",
    "mean_absolute_error(y_val, pred)\n",
    "\"\"\""
   ]
  },
  {
   "cell_type": "code",
   "execution_count": 26,
   "id": "abb16311",
   "metadata": {
    "execution": {
     "iopub.execute_input": "2023-07-20T12:34:54.676320Z",
     "iopub.status.busy": "2023-07-20T12:34:54.675668Z",
     "iopub.status.idle": "2023-07-20T12:34:54.681193Z",
     "shell.execute_reply": "2023-07-20T12:34:54.679923Z"
    },
    "papermill": {
     "duration": 0.035586,
     "end_time": "2023-07-20T12:34:54.683928",
     "exception": false,
     "start_time": "2023-07-20T12:34:54.648342",
     "status": "completed"
    },
    "tags": []
   },
   "outputs": [],
   "source": [
    "#import seaborn as sns\n",
    "#importances_values = lightgbm.feature_importances_\n",
    "#df = pd.DataFrame(importances_values,columns=['importance'],index = X_train.columns)\n",
    "#df = df.sort_values('importance', ascending=False)\n",
    "#sns.barplot(data=df, x=df['importance'], y=df.index)"
   ]
  },
  {
   "cell_type": "code",
   "execution_count": 27,
   "id": "563f2b3f",
   "metadata": {
    "execution": {
     "iopub.execute_input": "2023-07-20T12:34:54.735130Z",
     "iopub.status.busy": "2023-07-20T12:34:54.734638Z",
     "iopub.status.idle": "2023-07-20T12:34:54.741666Z",
     "shell.execute_reply": "2023-07-20T12:34:54.740407Z"
    },
    "papermill": {
     "duration": 0.035436,
     "end_time": "2023-07-20T12:34:54.744140",
     "exception": false,
     "start_time": "2023-07-20T12:34:54.708704",
     "status": "completed"
    },
    "tags": []
   },
   "outputs": [
    {
     "data": {
      "text/plain": [
       "\"\\nsub = pd.read_csv('/kaggle/input/pubg-finish-placement-prediction/sample_submission_V2.csv')\\npred = lightgbm.predict(test2)\\nsub['winPlacePerc'] = pred\\nsub['winPlacePerc'] = sub['winPlacePerc'].apply(lambda x: x if x<=1 else 1)\\nsub['winPlacePerc'] = sub['winPlacePerc'].apply(lambda x: x if x>=0 else 0)\\n#sub\\n\""
      ]
     },
     "execution_count": 27,
     "metadata": {},
     "output_type": "execute_result"
    }
   ],
   "source": [
    "\"\"\"\n",
    "sub = pd.read_csv('/kaggle/input/pubg-finish-placement-prediction/sample_submission_V2.csv')\n",
    "pred = lightgbm.predict(test2)\n",
    "sub['winPlacePerc'] = pred\n",
    "sub['winPlacePerc'] = sub['winPlacePerc'].apply(lambda x: x if x<=1 else 1)\n",
    "sub['winPlacePerc'] = sub['winPlacePerc'].apply(lambda x: x if x>=0 else 0)\n",
    "#sub\n",
    "\"\"\""
   ]
  },
  {
   "cell_type": "code",
   "execution_count": 28,
   "id": "1dae204f",
   "metadata": {
    "execution": {
     "iopub.execute_input": "2023-07-20T12:34:54.795271Z",
     "iopub.status.busy": "2023-07-20T12:34:54.794872Z",
     "iopub.status.idle": "2023-07-20T12:34:54.799488Z",
     "shell.execute_reply": "2023-07-20T12:34:54.798200Z"
    },
    "papermill": {
     "duration": 0.033477,
     "end_time": "2023-07-20T12:34:54.802007",
     "exception": false,
     "start_time": "2023-07-20T12:34:54.768530",
     "status": "completed"
    },
    "tags": []
   },
   "outputs": [],
   "source": [
    "#sub.to_csv('submission.csv', index=False)"
   ]
  },
  {
   "cell_type": "code",
   "execution_count": 29,
   "id": "e5d0ae0c",
   "metadata": {
    "execution": {
     "iopub.execute_input": "2023-07-20T12:34:54.855454Z",
     "iopub.status.busy": "2023-07-20T12:34:54.855020Z",
     "iopub.status.idle": "2023-07-20T12:34:54.862370Z",
     "shell.execute_reply": "2023-07-20T12:34:54.861282Z"
    },
    "papermill": {
     "duration": 0.037075,
     "end_time": "2023-07-20T12:34:54.864805",
     "exception": false,
     "start_time": "2023-07-20T12:34:54.827730",
     "status": "completed"
    },
    "tags": []
   },
   "outputs": [
    {
     "data": {
      "text/plain": [
       "'\\nfrom sklearn.ensemble import AdaBoostRegressor, BaggingRegressor, ExtraTreesRegressor, GradientBoostingRegressor, RandomForestRegressor, VotingRegressor\\nfrom xgboost import XGBRegressor\\nfrom catboost import CatBoostRegressor\\nfrom lightgbm import LGBMRegressor\\n\\nada = AdaBoostRegressor(random_state=42)\\nbag = BaggingRegressor(random_state=42)\\nextra = ExtraTreesRegressor(random_state=42)\\ngrad = GradientBoostingRegressor(random_state=42)\\nran = RandomForestRegressor(random_state=42)\\nxgb = XGBRegressor(random_state=42)\\ncat = CatBoostRegressor(random_state=42)\\nlightgbm = LGBMRegressor(random_state=42, boost_from_average=False) '"
      ]
     },
     "execution_count": 29,
     "metadata": {},
     "output_type": "execute_result"
    }
   ],
   "source": [
    "\"\"\"\n",
    "from sklearn.ensemble import AdaBoostRegressor, BaggingRegressor, ExtraTreesRegressor, GradientBoostingRegressor, RandomForestRegressor, VotingRegressor\n",
    "from xgboost import XGBRegressor\n",
    "from catboost import CatBoostRegressor\n",
    "from lightgbm import LGBMRegressor\n",
    "\n",
    "ada = AdaBoostRegressor(random_state=42)\n",
    "bag = BaggingRegressor(random_state=42)\n",
    "extra = ExtraTreesRegressor(random_state=42)\n",
    "grad = GradientBoostingRegressor(random_state=42)\n",
    "ran = RandomForestRegressor(random_state=42)\n",
    "xgb = XGBRegressor(random_state=42)\n",
    "cat = CatBoostRegressor(random_state=42)\n",
    "lightgbm = LGBMRegressor(random_state=42, boost_from_average=False) \"\"\""
   ]
  },
  {
   "cell_type": "code",
   "execution_count": 30,
   "id": "39260b00",
   "metadata": {
    "execution": {
     "iopub.execute_input": "2023-07-20T12:34:54.917785Z",
     "iopub.status.busy": "2023-07-20T12:34:54.917208Z",
     "iopub.status.idle": "2023-07-20T12:34:54.926842Z",
     "shell.execute_reply": "2023-07-20T12:34:54.925676Z"
    },
    "papermill": {
     "duration": 0.040282,
     "end_time": "2023-07-20T12:34:54.929381",
     "exception": false,
     "start_time": "2023-07-20T12:34:54.889099",
     "status": "completed"
    },
    "tags": []
   },
   "outputs": [
    {
     "data": {
      "text/plain": [
       "\"score_dic = {}\\nfor col in tqdm(X.columns):\\n    X_train1 = X_train.drop([col],axis=1)\\n    X_val1 = X_val.drop([col],axis=1)\\n    print('delete col:',col)\\n    lightgbm = LGBMRegressor(random_state=42)\\n    lightgbm.fit(X_train1,y_train,eval_set=[(X_val1,y_val)], eval_metric='l1',categorical_feature= ['matchType'])\\n    pred = lightgbm.predict(X_val1)\\n    score_dic[col] = lightgbm.score(X_val1,y_val)\\n    print('='*10) \\n    \\n    \\n    \\ncol = ['damageDealt','headshotPerc','heals','killPoints','vehicleDestroys','healsperdist','boostsperdist','buffperdist','damagePerc']\\nfor col in tqdm(col):\\n    X_train1 = X_train.drop(col,axis=1)\\n    X_val1 = X_val.drop(col,axis=1)\\n    lightgbm = LGBMRegressor(random_state=42,n_estimators=200, learning_rate=0.1)\\n    lightgbm.fit(X_train1,y_train)\\n    pred = lightgbm.predict(X_val1)\\n    print('del:',col,', Mae:',mean_absolute_error(y_val,pred))    \\n\""
      ]
     },
     "execution_count": 30,
     "metadata": {},
     "output_type": "execute_result"
    }
   ],
   "source": [
    "\"\"\"score_dic = {}\n",
    "for col in tqdm(X.columns):\n",
    "    X_train1 = X_train.drop([col],axis=1)\n",
    "    X_val1 = X_val.drop([col],axis=1)\n",
    "    print('delete col:',col)\n",
    "    lightgbm = LGBMRegressor(random_state=42)\n",
    "    lightgbm.fit(X_train1,y_train,eval_set=[(X_val1,y_val)], eval_metric='l1',categorical_feature= ['matchType'])\n",
    "    pred = lightgbm.predict(X_val1)\n",
    "    score_dic[col] = lightgbm.score(X_val1,y_val)\n",
    "    print('='*10) \n",
    "    \n",
    "    \n",
    "    \n",
    "col = ['damageDealt','headshotPerc','heals','killPoints','vehicleDestroys','healsperdist','boostsperdist','buffperdist','damagePerc']\n",
    "for col in tqdm(col):\n",
    "    X_train1 = X_train.drop(col,axis=1)\n",
    "    X_val1 = X_val.drop(col,axis=1)\n",
    "    lightgbm = LGBMRegressor(random_state=42,n_estimators=200, learning_rate=0.1)\n",
    "    lightgbm.fit(X_train1,y_train)\n",
    "    pred = lightgbm.predict(X_val1)\n",
    "    print('del:',col,', Mae:',mean_absolute_error(y_val,pred))    \n",
    "\"\"\""
   ]
  },
  {
   "cell_type": "code",
   "execution_count": 31,
   "id": "dba7886b",
   "metadata": {
    "execution": {
     "iopub.execute_input": "2023-07-20T12:34:54.995676Z",
     "iopub.status.busy": "2023-07-20T12:34:54.995266Z",
     "iopub.status.idle": "2023-07-20T12:34:55.002784Z",
     "shell.execute_reply": "2023-07-20T12:34:55.000878Z"
    },
    "papermill": {
     "duration": 0.043771,
     "end_time": "2023-07-20T12:34:55.006230",
     "exception": false,
     "start_time": "2023-07-20T12:34:54.962459",
     "status": "completed"
    },
    "tags": []
   },
   "outputs": [],
   "source": [
    "#lightgbm = LGBMRegressor(random_state=42)\n",
    "#lightgbm.fit(X_train,y_train,eval_set=[(X_val,y_val)], eval_metric='l1')\n",
    "#lightgbm.score(X_val,y_val)"
   ]
  },
  {
   "cell_type": "code",
   "execution_count": 32,
   "id": "7f031666",
   "metadata": {
    "execution": {
     "iopub.execute_input": "2023-07-20T12:34:55.058983Z",
     "iopub.status.busy": "2023-07-20T12:34:55.058406Z",
     "iopub.status.idle": "2023-07-20T12:34:55.062808Z",
     "shell.execute_reply": "2023-07-20T12:34:55.061825Z"
    },
    "papermill": {
     "duration": 0.033803,
     "end_time": "2023-07-20T12:34:55.065399",
     "exception": false,
     "start_time": "2023-07-20T12:34:55.031596",
     "status": "completed"
    },
    "tags": []
   },
   "outputs": [],
   "source": [
    "#X_train = X_train[['boosts','killPlace','kills','matchDuration','matchType','numGroups','rideDistance','walkDistance']]\n",
    "#X_val = X_val[['boosts','killPlace','kills','matchDuration','matchType','numGroups','rideDistance','walkDistance']]"
   ]
  },
  {
   "cell_type": "code",
   "execution_count": 33,
   "id": "7dbdcadb",
   "metadata": {
    "execution": {
     "iopub.execute_input": "2023-07-20T12:34:55.118334Z",
     "iopub.status.busy": "2023-07-20T12:34:55.117950Z",
     "iopub.status.idle": "2023-07-20T12:34:55.122657Z",
     "shell.execute_reply": "2023-07-20T12:34:55.121647Z"
    },
    "papermill": {
     "duration": 0.033789,
     "end_time": "2023-07-20T12:34:55.125110",
     "exception": false,
     "start_time": "2023-07-20T12:34:55.091321",
     "status": "completed"
    },
    "tags": []
   },
   "outputs": [],
   "source": [
    "#test1 = test1[['boosts','killPlace','kills','matchDuration','matchType','numGroups','rideDistance','walkDistance']]"
   ]
  },
  {
   "cell_type": "code",
   "execution_count": 34,
   "id": "19cafaa6",
   "metadata": {
    "execution": {
     "iopub.execute_input": "2023-07-20T12:34:55.176036Z",
     "iopub.status.busy": "2023-07-20T12:34:55.175340Z",
     "iopub.status.idle": "2023-07-20T12:34:55.180985Z",
     "shell.execute_reply": "2023-07-20T12:34:55.179549Z"
    },
    "papermill": {
     "duration": 0.033986,
     "end_time": "2023-07-20T12:34:55.183474",
     "exception": false,
     "start_time": "2023-07-20T12:34:55.149488",
     "status": "completed"
    },
    "tags": []
   },
   "outputs": [],
   "source": [
    "#X = X.drop(['matchDuration','killPoints','rankPoints','longestKill','teamKills','headshotKills'],axis=1)\n",
    "\n",
    "#from sklearn.model_selection import train_test_split\n",
    "\n",
    "#X_train, X_val, y_train, y_val = train_test_split(X,y,test_size=0.2, random_state=42)"
   ]
  },
  {
   "cell_type": "code",
   "execution_count": 35,
   "id": "e6d2e273",
   "metadata": {
    "execution": {
     "iopub.execute_input": "2023-07-20T12:34:55.234136Z",
     "iopub.status.busy": "2023-07-20T12:34:55.233745Z",
     "iopub.status.idle": "2023-07-20T12:34:55.238675Z",
     "shell.execute_reply": "2023-07-20T12:34:55.237451Z"
    },
    "papermill": {
     "duration": 0.033334,
     "end_time": "2023-07-20T12:34:55.241405",
     "exception": false,
     "start_time": "2023-07-20T12:34:55.208071",
     "status": "completed"
    },
    "tags": []
   },
   "outputs": [],
   "source": [
    "#test1 = test1.drop(['matchDuration','killPoints','rankPoints','longestKill','teamKills','headshotKills'],axis=1)"
   ]
  },
  {
   "cell_type": "code",
   "execution_count": 36,
   "id": "6c630896",
   "metadata": {
    "execution": {
     "iopub.execute_input": "2023-07-20T12:34:55.292427Z",
     "iopub.status.busy": "2023-07-20T12:34:55.292035Z",
     "iopub.status.idle": "2023-07-20T12:34:55.299070Z",
     "shell.execute_reply": "2023-07-20T12:34:55.297944Z"
    },
    "papermill": {
     "duration": 0.035651,
     "end_time": "2023-07-20T12:34:55.301750",
     "exception": false,
     "start_time": "2023-07-20T12:34:55.266099",
     "status": "completed"
    },
    "tags": []
   },
   "outputs": [
    {
     "data": {
      "text/plain": [
       "\"light_train['buff'] = light_train['heals']+ light_train['boosts']\\nlight_train = light_train.drop(['heals','boosts'],axis=1)\\n\\nlight_val['buff'] = light_val['heals']+ light_val['boosts']\\nlight_val = light_val.drop(['heals','boosts'],axis=1)\""
      ]
     },
     "execution_count": 36,
     "metadata": {},
     "output_type": "execute_result"
    }
   ],
   "source": [
    "\"\"\"light_train['buff'] = light_train['heals']+ light_train['boosts']\n",
    "light_train = light_train.drop(['heals','boosts'],axis=1)\n",
    "\n",
    "light_val['buff'] = light_val['heals']+ light_val['boosts']\n",
    "light_val = light_val.drop(['heals','boosts'],axis=1)\"\"\"\n"
   ]
  },
  {
   "cell_type": "code",
   "execution_count": 37,
   "id": "f8899b35",
   "metadata": {
    "execution": {
     "iopub.execute_input": "2023-07-20T12:34:55.354539Z",
     "iopub.status.busy": "2023-07-20T12:34:55.354146Z",
     "iopub.status.idle": "2023-07-20T12:34:55.364571Z",
     "shell.execute_reply": "2023-07-20T12:34:55.363497Z"
    },
    "papermill": {
     "duration": 0.039617,
     "end_time": "2023-07-20T12:34:55.367223",
     "exception": false,
     "start_time": "2023-07-20T12:34:55.327606",
     "status": "completed"
    },
    "tags": []
   },
   "outputs": [
    {
     "data": {
      "text/plain": [
       "'from sklearn.model_selection import GridSearchCV\\n\\nlightgbm = LGBMRegressor(random_state=42) #max_depth=17,num_leaves=6000) # estimator 1000  learn 0.3\\n\\nparam_lgb = {\"learning_rate\" : [0.01,0.1,0.2,0.3,0.4,0.5],\\n             #\"max_depth\" : range(10,20),\\n             #\"num_leaves\" : [100,300,500,900,1200,4000,6000],\\n             #\"n_estimators\" : [100, 200, 300,500,800,1000],\\n              }\\n\\ngscv = GridSearchCV (estimator = lightgbm, param_grid = param_lgb, scoring =\\'neg_mean_absolute_error\\', cv = 3, refit=True, n_jobs=-1, verbose=2)\\n\\ngscv.fit(light_train,y_train)\\n\\nprint(gscv.best_params_, gscv.best_score_) '"
      ]
     },
     "execution_count": 37,
     "metadata": {},
     "output_type": "execute_result"
    }
   ],
   "source": [
    "\"\"\"from sklearn.model_selection import GridSearchCV\n",
    "\n",
    "lightgbm = LGBMRegressor(random_state=42) #max_depth=17,num_leaves=6000) # estimator 1000  learn 0.3\n",
    "\n",
    "param_lgb = {\"learning_rate\" : [0.01,0.1,0.2,0.3,0.4,0.5],\n",
    "             #\"max_depth\" : range(10,20),\n",
    "             #\"num_leaves\" : [100,300,500,900,1200,4000,6000],\n",
    "             #\"n_estimators\" : [100, 200, 300,500,800,1000],\n",
    "              }\n",
    "\n",
    "gscv = GridSearchCV (estimator = lightgbm, param_grid = param_lgb, scoring ='neg_mean_absolute_error', cv = 3, refit=True, n_jobs=-1, verbose=2)\n",
    "\n",
    "gscv.fit(light_train,y_train)\n",
    "\n",
    "print(gscv.best_params_, gscv.best_score_) \"\"\""
   ]
  },
  {
   "cell_type": "code",
   "execution_count": 38,
   "id": "29bdc8ce",
   "metadata": {
    "execution": {
     "iopub.execute_input": "2023-07-20T12:34:55.419715Z",
     "iopub.status.busy": "2023-07-20T12:34:55.419269Z",
     "iopub.status.idle": "2023-07-20T12:34:55.424641Z",
     "shell.execute_reply": "2023-07-20T12:34:55.423189Z"
    },
    "papermill": {
     "duration": 0.034708,
     "end_time": "2023-07-20T12:34:55.427087",
     "exception": false,
     "start_time": "2023-07-20T12:34:55.392379",
     "status": "completed"
    },
    "tags": []
   },
   "outputs": [],
   "source": [
    "#from lightgbm import LGBMRegressor\n",
    "#lightgbm = LGBMRegressor(random_state=42,n_estimators=200,learning_rate = 0.1,early_stopping_round=20) #num_leaves = 6000\n",
    "#lightgbm.fit(light_train,y_train,eval_set=[(light_val,y_val)], eval_metric='l1')\n",
    "#lightgbm.score(light_val, y_val)"
   ]
  },
  {
   "cell_type": "code",
   "execution_count": 39,
   "id": "7e803e07",
   "metadata": {
    "execution": {
     "iopub.execute_input": "2023-07-20T12:34:55.479830Z",
     "iopub.status.busy": "2023-07-20T12:34:55.479409Z",
     "iopub.status.idle": "2023-07-20T12:34:55.484388Z",
     "shell.execute_reply": "2023-07-20T12:34:55.483012Z"
    },
    "papermill": {
     "duration": 0.033477,
     "end_time": "2023-07-20T12:34:55.486764",
     "exception": false,
     "start_time": "2023-07-20T12:34:55.453287",
     "status": "completed"
    },
    "tags": []
   },
   "outputs": [],
   "source": [
    "#import seaborn as sns\n",
    "#importances_values = lightgbm.feature_importances_\n",
    "#df = pd.DataFrame(importances_values,columns=['importance'],index = light_train.columns)\n",
    "#df = df.sort_values('importance', ascending=False)\n",
    "#sns.barplot(data=df, x=df['importance'], y=df.index)"
   ]
  },
  {
   "cell_type": "code",
   "execution_count": 40,
   "id": "19fc88e7",
   "metadata": {
    "execution": {
     "iopub.execute_input": "2023-07-20T12:34:55.540283Z",
     "iopub.status.busy": "2023-07-20T12:34:55.539902Z",
     "iopub.status.idle": "2023-07-20T12:34:55.544325Z",
     "shell.execute_reply": "2023-07-20T12:34:55.543224Z"
    },
    "papermill": {
     "duration": 0.033347,
     "end_time": "2023-07-20T12:34:55.546690",
     "exception": false,
     "start_time": "2023-07-20T12:34:55.513343",
     "status": "completed"
    },
    "tags": []
   },
   "outputs": [],
   "source": [
    "#xgb.fit(X_train,y_train,eval_set=[(X_val, y_val)],eval_metric='mae')\n",
    "#print(xgb.score(X_val, y_val))"
   ]
  },
  {
   "cell_type": "code",
   "execution_count": 41,
   "id": "8badbdc9",
   "metadata": {
    "execution": {
     "iopub.execute_input": "2023-07-20T12:34:55.597923Z",
     "iopub.status.busy": "2023-07-20T12:34:55.597483Z",
     "iopub.status.idle": "2023-07-20T12:34:55.602324Z",
     "shell.execute_reply": "2023-07-20T12:34:55.600989Z"
    },
    "papermill": {
     "duration": 0.033366,
     "end_time": "2023-07-20T12:34:55.604775",
     "exception": false,
     "start_time": "2023-07-20T12:34:55.571409",
     "status": "completed"
    },
    "tags": []
   },
   "outputs": [],
   "source": [
    "#feature_importance =xgb.feature_importances_\n",
    "#df = pd.DataFrame(feature_importance,columns=['importance'],index = X_train.columns)\n",
    "#df = df.sort_values('importance', ascending=False)\n",
    "#sns.barplot(data=df, x=df['importance'], y=df.index)"
   ]
  },
  {
   "cell_type": "code",
   "execution_count": 42,
   "id": "ffcbac27",
   "metadata": {
    "execution": {
     "iopub.execute_input": "2023-07-20T12:34:55.655746Z",
     "iopub.status.busy": "2023-07-20T12:34:55.655331Z",
     "iopub.status.idle": "2023-07-20T12:34:55.661345Z",
     "shell.execute_reply": "2023-07-20T12:34:55.660284Z"
    },
    "papermill": {
     "duration": 0.034695,
     "end_time": "2023-07-20T12:34:55.664013",
     "exception": false,
     "start_time": "2023-07-20T12:34:55.629318",
     "status": "completed"
    },
    "tags": []
   },
   "outputs": [],
   "source": [
    "#score_dic"
   ]
  },
  {
   "cell_type": "code",
   "execution_count": 43,
   "id": "b4685021",
   "metadata": {
    "execution": {
     "iopub.execute_input": "2023-07-20T12:34:55.716326Z",
     "iopub.status.busy": "2023-07-20T12:34:55.715921Z",
     "iopub.status.idle": "2023-07-20T12:34:55.720155Z",
     "shell.execute_reply": "2023-07-20T12:34:55.719378Z"
    },
    "papermill": {
     "duration": 0.033252,
     "end_time": "2023-07-20T12:34:55.722609",
     "exception": false,
     "start_time": "2023-07-20T12:34:55.689357",
     "status": "completed"
    },
    "tags": []
   },
   "outputs": [],
   "source": [
    "#grad.fit(train1,target)\n",
    "#print(grad.score(train1, target))"
   ]
  },
  {
   "cell_type": "code",
   "execution_count": 44,
   "id": "73ab47c1",
   "metadata": {
    "execution": {
     "iopub.execute_input": "2023-07-20T12:34:55.775169Z",
     "iopub.status.busy": "2023-07-20T12:34:55.774774Z",
     "iopub.status.idle": "2023-07-20T12:34:55.779150Z",
     "shell.execute_reply": "2023-07-20T12:34:55.778116Z"
    },
    "papermill": {
     "duration": 0.033105,
     "end_time": "2023-07-20T12:34:55.781395",
     "exception": false,
     "start_time": "2023-07-20T12:34:55.748290",
     "status": "completed"
    },
    "tags": []
   },
   "outputs": [],
   "source": [
    "#lightgbm.fit(train1,target)\n",
    "#print(lightgbm.score(train1,target))"
   ]
  },
  {
   "cell_type": "code",
   "execution_count": 45,
   "id": "7796e92b",
   "metadata": {
    "execution": {
     "iopub.execute_input": "2023-07-20T12:34:55.833014Z",
     "iopub.status.busy": "2023-07-20T12:34:55.832575Z",
     "iopub.status.idle": "2023-07-20T12:34:55.837501Z",
     "shell.execute_reply": "2023-07-20T12:34:55.836384Z"
    },
    "papermill": {
     "duration": 0.033598,
     "end_time": "2023-07-20T12:34:55.839830",
     "exception": false,
     "start_time": "2023-07-20T12:34:55.806232",
     "status": "completed"
    },
    "tags": []
   },
   "outputs": [],
   "source": [
    "#bag.fit(train1,target)\n",
    "#print(bag.score(train1, target))"
   ]
  },
  {
   "cell_type": "code",
   "execution_count": 46,
   "id": "1efe5c16",
   "metadata": {
    "execution": {
     "iopub.execute_input": "2023-07-20T12:34:55.894098Z",
     "iopub.status.busy": "2023-07-20T12:34:55.892806Z",
     "iopub.status.idle": "2023-07-20T12:34:55.897871Z",
     "shell.execute_reply": "2023-07-20T12:34:55.896708Z"
    },
    "papermill": {
     "duration": 0.034756,
     "end_time": "2023-07-20T12:34:55.900101",
     "exception": false,
     "start_time": "2023-07-20T12:34:55.865345",
     "status": "completed"
    },
    "tags": []
   },
   "outputs": [],
   "source": [
    "#xgb.fit(train1,target)\n",
    "#print(xgb.score(train1, target))"
   ]
  },
  {
   "cell_type": "code",
   "execution_count": 47,
   "id": "f024db20",
   "metadata": {
    "execution": {
     "iopub.execute_input": "2023-07-20T12:34:55.951525Z",
     "iopub.status.busy": "2023-07-20T12:34:55.950701Z",
     "iopub.status.idle": "2023-07-20T12:34:55.955720Z",
     "shell.execute_reply": "2023-07-20T12:34:55.954456Z"
    },
    "papermill": {
     "duration": 0.033304,
     "end_time": "2023-07-20T12:34:55.957986",
     "exception": false,
     "start_time": "2023-07-20T12:34:55.924682",
     "status": "completed"
    },
    "tags": []
   },
   "outputs": [],
   "source": [
    "#cat.fit(train1,target,cat_features=['matchType'])\n",
    "#print(cat.score(train1, target))"
   ]
  },
  {
   "cell_type": "code",
   "execution_count": 48,
   "id": "52f25e08",
   "metadata": {
    "execution": {
     "iopub.execute_input": "2023-07-20T12:34:56.009378Z",
     "iopub.status.busy": "2023-07-20T12:34:56.008973Z",
     "iopub.status.idle": "2023-07-20T12:34:56.013556Z",
     "shell.execute_reply": "2023-07-20T12:34:56.012325Z"
    },
    "papermill": {
     "duration": 0.033188,
     "end_time": "2023-07-20T12:34:56.015914",
     "exception": false,
     "start_time": "2023-07-20T12:34:55.982726",
     "status": "completed"
    },
    "tags": []
   },
   "outputs": [],
   "source": [
    "#!pip install pycaret"
   ]
  },
  {
   "cell_type": "code",
   "execution_count": 49,
   "id": "f7740704",
   "metadata": {
    "execution": {
     "iopub.execute_input": "2023-07-20T12:34:56.067656Z",
     "iopub.status.busy": "2023-07-20T12:34:56.067225Z",
     "iopub.status.idle": "2023-07-20T12:34:56.071999Z",
     "shell.execute_reply": "2023-07-20T12:34:56.070909Z"
    },
    "papermill": {
     "duration": 0.033718,
     "end_time": "2023-07-20T12:34:56.074277",
     "exception": false,
     "start_time": "2023-07-20T12:34:56.040559",
     "status": "completed"
    },
    "tags": []
   },
   "outputs": [],
   "source": [
    "#from pycaret.regression import *"
   ]
  },
  {
   "cell_type": "code",
   "execution_count": 50,
   "id": "35ec86c1",
   "metadata": {
    "execution": {
     "iopub.execute_input": "2023-07-20T12:34:56.126291Z",
     "iopub.status.busy": "2023-07-20T12:34:56.125766Z",
     "iopub.status.idle": "2023-07-20T12:34:56.130681Z",
     "shell.execute_reply": "2023-07-20T12:34:56.129527Z"
    },
    "papermill": {
     "duration": 0.033748,
     "end_time": "2023-07-20T12:34:56.132971",
     "exception": false,
     "start_time": "2023-07-20T12:34:56.099223",
     "status": "completed"
    },
    "tags": []
   },
   "outputs": [],
   "source": [
    "#pyc = setup(data=train1, target='winPlacePerc', train_size=0.8 ,fold=3)"
   ]
  },
  {
   "cell_type": "code",
   "execution_count": 51,
   "id": "369d6984",
   "metadata": {
    "execution": {
     "iopub.execute_input": "2023-07-20T12:34:56.184053Z",
     "iopub.status.busy": "2023-07-20T12:34:56.183603Z",
     "iopub.status.idle": "2023-07-20T12:34:56.189676Z",
     "shell.execute_reply": "2023-07-20T12:34:56.188653Z"
    },
    "papermill": {
     "duration": 0.034586,
     "end_time": "2023-07-20T12:34:56.192000",
     "exception": false,
     "start_time": "2023-07-20T12:34:56.157414",
     "status": "completed"
    },
    "tags": []
   },
   "outputs": [],
   "source": [
    "#best = pyc.compare_models(sort='mae',n_select=3,exclude=['knn','ada','dt','rf','et'])"
   ]
  },
  {
   "cell_type": "code",
   "execution_count": 52,
   "id": "42e7d9eb",
   "metadata": {
    "execution": {
     "iopub.execute_input": "2023-07-20T12:34:56.244657Z",
     "iopub.status.busy": "2023-07-20T12:34:56.244216Z",
     "iopub.status.idle": "2023-07-20T12:34:56.249084Z",
     "shell.execute_reply": "2023-07-20T12:34:56.247950Z"
    },
    "papermill": {
     "duration": 0.033876,
     "end_time": "2023-07-20T12:34:56.251816",
     "exception": false,
     "start_time": "2023-07-20T12:34:56.217940",
     "status": "completed"
    },
    "tags": []
   },
   "outputs": [],
   "source": [
    "#best[1]"
   ]
  },
  {
   "cell_type": "code",
   "execution_count": 53,
   "id": "7d5edf4f",
   "metadata": {
    "execution": {
     "iopub.execute_input": "2023-07-20T12:34:56.303364Z",
     "iopub.status.busy": "2023-07-20T12:34:56.302969Z",
     "iopub.status.idle": "2023-07-20T12:34:56.307824Z",
     "shell.execute_reply": "2023-07-20T12:34:56.306688Z"
    },
    "papermill": {
     "duration": 0.033861,
     "end_time": "2023-07-20T12:34:56.310320",
     "exception": false,
     "start_time": "2023-07-20T12:34:56.276459",
     "status": "completed"
    },
    "tags": []
   },
   "outputs": [],
   "source": [
    "#sub = pd.read_csv('/kaggle/input/pubg-finish-placement-prediction/sample_submission_V2.csv')\n",
    "#pred = lightgbm.predict(test2)\n",
    "#sub['winPlacePerc'] = pred\n",
    "#sub['winPlacePerc'] = sub['winPlacePerc'].apply(lambda x: x if x<=1 else 1)\n",
    "#sub['winPlacePerc'] = sub['winPlacePerc'].apply(lambda x: x if x>=0 else 0)"
   ]
  },
  {
   "cell_type": "code",
   "execution_count": 54,
   "id": "45479c50",
   "metadata": {
    "execution": {
     "iopub.execute_input": "2023-07-20T12:34:56.364178Z",
     "iopub.status.busy": "2023-07-20T12:34:56.363760Z",
     "iopub.status.idle": "2023-07-20T12:34:56.369220Z",
     "shell.execute_reply": "2023-07-20T12:34:56.368118Z"
    },
    "papermill": {
     "duration": 0.036127,
     "end_time": "2023-07-20T12:34:56.371862",
     "exception": false,
     "start_time": "2023-07-20T12:34:56.335735",
     "status": "completed"
    },
    "tags": []
   },
   "outputs": [],
   "source": [
    "#sub.to_csv('submission.csv', index=False)"
   ]
  },
  {
   "cell_type": "code",
   "execution_count": 55,
   "id": "f6c6c2bd",
   "metadata": {
    "execution": {
     "iopub.execute_input": "2023-07-20T12:34:56.424217Z",
     "iopub.status.busy": "2023-07-20T12:34:56.423821Z",
     "iopub.status.idle": "2023-07-20T12:34:56.428854Z",
     "shell.execute_reply": "2023-07-20T12:34:56.427673Z"
    },
    "papermill": {
     "duration": 0.03488,
     "end_time": "2023-07-20T12:34:56.431453",
     "exception": false,
     "start_time": "2023-07-20T12:34:56.396573",
     "status": "completed"
    },
    "tags": []
   },
   "outputs": [],
   "source": [
    "#sub"
   ]
  },
  {
   "cell_type": "code",
   "execution_count": 56,
   "id": "d437f037",
   "metadata": {
    "execution": {
     "iopub.execute_input": "2023-07-20T12:34:56.485059Z",
     "iopub.status.busy": "2023-07-20T12:34:56.484603Z",
     "iopub.status.idle": "2023-07-20T12:34:56.489817Z",
     "shell.execute_reply": "2023-07-20T12:34:56.488609Z"
    },
    "papermill": {
     "duration": 0.03419,
     "end_time": "2023-07-20T12:34:56.492235",
     "exception": false,
     "start_time": "2023-07-20T12:34:56.458045",
     "status": "completed"
    },
    "tags": []
   },
   "outputs": [],
   "source": [
    "#sub[sub['winPlacePerc'] > 1.0]['winPlacePerc']"
   ]
  },
  {
   "cell_type": "markdown",
   "id": "9da4d398",
   "metadata": {
    "papermill": {
     "duration": 0.024647,
     "end_time": "2023-07-20T12:34:56.542848",
     "exception": false,
     "start_time": "2023-07-20T12:34:56.518201",
     "status": "completed"
    },
    "tags": []
   },
   "source": [
    "catboost: 0.92\n",
    "\n",
    "bagging: 0.98\n",
    "\n",
    "xgboost: 0.91\n",
    "\n",
    "adaboost: 0.82\n",
    "\n",
    "gradinet: 0.89\n",
    "\n",
    "lightgbm: 0.91"
   ]
  }
 ],
 "metadata": {
  "kernelspec": {
   "display_name": "Python 3",
   "language": "python",
   "name": "python3"
  },
  "language_info": {
   "codemirror_mode": {
    "name": "ipython",
    "version": 3
   },
   "file_extension": ".py",
   "mimetype": "text/x-python",
   "name": "python",
   "nbconvert_exporter": "python",
   "pygments_lexer": "ipython3",
   "version": "3.10.10"
  },
  "papermill": {
   "default_parameters": {},
   "duration": 33061.715767,
   "end_time": "2023-07-20T12:34:59.375433",
   "environment_variables": {},
   "exception": null,
   "input_path": "__notebook__.ipynb",
   "output_path": "__notebook__.ipynb",
   "parameters": {},
   "start_time": "2023-07-20T03:23:57.659666",
   "version": "2.4.0"
  }
 },
 "nbformat": 4,
 "nbformat_minor": 5
}
