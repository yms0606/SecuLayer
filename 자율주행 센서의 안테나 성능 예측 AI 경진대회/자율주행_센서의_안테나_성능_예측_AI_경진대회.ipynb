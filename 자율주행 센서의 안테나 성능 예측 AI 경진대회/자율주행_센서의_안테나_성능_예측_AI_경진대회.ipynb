{
  "nbformat": 4,
  "nbformat_minor": 0,
  "metadata": {
    "colab": {
      "provenance": [],
      "mount_file_id": "1w1WeaAQpf7enl1eDIanK6thzLIGvzDtw",
      "authorship_tag": "ABX9TyN8W3T6kSmtBycw9jHsY6KB",
      "include_colab_link": true
    },
    "kernelspec": {
      "name": "python3",
      "display_name": "Python 3"
    },
    "language_info": {
      "name": "python"
    }
  },
  "cells": [
    {
      "cell_type": "markdown",
      "metadata": {
        "id": "view-in-github",
        "colab_type": "text"
      },
      "source": [
        "<a href=\"https://colab.research.google.com/github/yms0606/SecuLayer/blob/main/%EC%9E%90%EC%9C%A8%EC%A3%BC%ED%96%89%20%EC%84%BC%EC%84%9C%EC%9D%98%20%EC%95%88%ED%85%8C%EB%82%98%20%EC%84%B1%EB%8A%A5%20%EC%98%88%EC%B8%A1%20AI%20%EA%B2%BD%EC%A7%84%EB%8C%80%ED%9A%8C/%EC%9E%90%EC%9C%A8%EC%A3%BC%ED%96%89_%EC%84%BC%EC%84%9C%EC%9D%98_%EC%95%88%ED%85%8C%EB%82%98_%EC%84%B1%EB%8A%A5_%EC%98%88%EC%B8%A1_AI_%EA%B2%BD%EC%A7%84%EB%8C%80%ED%9A%8C.ipynb\" target=\"_parent\"><img src=\"https://colab.research.google.com/assets/colab-badge.svg\" alt=\"Open In Colab\"/></a>"
      ]
    },
    {
      "cell_type": "code",
      "source": [
        "#!pip install optuna"
      ],
      "metadata": {
        "id": "2oPVrO5Ve2vF"
      },
      "execution_count": null,
      "outputs": []
    },
    {
      "cell_type": "code",
      "execution_count": 2,
      "metadata": {
        "id": "ET4RG_BzaPyt"
      },
      "outputs": [],
      "source": [
        "import pandas as pd\n",
        "import numpy as np\n",
        "from sklearn import datasets, ensemble\n",
        "from lightgbm import LGBMRegressor\n",
        "from tqdm import tqdm\n",
        "\n",
        "import optuna\n",
        "from sklearn.model_selection import KFold\n",
        "from sklearn.metrics import make_scorer, mean_squared_error\n",
        "from sklearn.model_selection import train_test_split\n",
        "from sklearn.multioutput import MultiOutputRegressor"
      ]
    },
    {
      "cell_type": "code",
      "source": [
        "train = pd.read_csv('/content/drive/MyDrive/ML study/LG/train.csv')\n",
        "test = pd.read_csv('/content/drive/MyDrive/ML study/LG/test.csv')\n",
        "submission = pd.read_csv('/content/drive/MyDrive/ML study/LG/sample_submission.csv')\n",
        "y_feature_spec_info = pd.read_csv('/content/drive/MyDrive/ML study/LG/meta/y_feature_spec_info.csv')"
      ],
      "metadata": {
        "id": "fJL0lKCTexIH"
      },
      "execution_count": 3,
      "outputs": []
    },
    {
      "cell_type": "code",
      "source": [
        "target_list = []\n",
        "min_list = []\n",
        "max_list = []\n",
        "\n",
        "for i in range(len(y_feature_spec_info)):\n",
        "  target_list.append(y_feature_spec_info['Feature'][i])\n",
        "  min_list.append(y_feature_spec_info['최소'][i])\n",
        "  max_list.append(y_feature_spec_info['최대'][i])"
      ],
      "metadata": {
        "id": "ZogVLZjhfkRr"
      },
      "execution_count": 4,
      "outputs": []
    },
    {
      "cell_type": "code",
      "source": [
        "X = train[[\n",
        "    'X_01', 'X_03', 'X_05', 'X_06', 'X_07', 'X_08', 'X_09', 'X_12', 'X_14', 'X_15', 'X_16', 'X_17', 'X_19', 'X_20',\n",
        "    'X_21', 'X_22', 'X_24', 'X_25', 'X_26', 'X_27', 'X_28', 'X_29', 'X_30',\n",
        "    'X_31', 'X_32', 'X_33', 'X_35', 'X_37', 'X_38', 'X_39', 'X_40',\n",
        "    'X_41', 'X_42', 'X_43', 'X_44', 'X_46', 'X_49', 'X_50',\n",
        "    'X_51', 'X_52', 'X_53', 'X_54', 'X_55', 'X_56'\n",
        "    ]]\n",
        "y = train[[\n",
        "    'Y_01', 'Y_02', 'Y_03', 'Y_04', 'Y_05', 'Y_06', 'Y_07', 'Y_08', 'Y_09', 'Y_10',\n",
        "    'Y_11', 'Y_12', 'Y_13', 'Y_14'\n",
        "    ]]"
      ],
      "metadata": {
        "id": "PWO5iIz4f8A3"
      },
      "execution_count": 5,
      "outputs": []
    },
    {
      "cell_type": "code",
      "source": [
        "target = test[X.columns]"
      ],
      "metadata": {
        "id": "iWjkDNHqf-tU"
      },
      "execution_count": 6,
      "outputs": []
    },
    {
      "cell_type": "code",
      "source": [
        "def lg_nrmse(gt, preds):\n",
        "  all_nrmse = []\n",
        "  for idx in range(14):\n",
        "    rmse = mean_squared_error(gt.iloc[:,idx],preds[:,idx], squared = False)\n",
        "    nrmse = rmse / np.mean(np.abs(gt.iloc[:,idx]))\n",
        "    all_nrmse.append(nrmse)\n",
        "  score = 1.2 * np.sum(all_nrmse[:8]) + 1.0 * np.sum(all_nrmse[8:15])\n",
        "  return score"
      ],
      "metadata": {
        "id": "lSlcSx0sgDKc"
      },
      "execution_count": 7,
      "outputs": []
    },
    {
      "cell_type": "code",
      "source": [
        "kf = KFold(n_splits= 10, random_state= 2022, shuffle = True)"
      ],
      "metadata": {
        "id": "JYE13LA-glPd"
      },
      "execution_count": 8,
      "outputs": []
    },
    {
      "cell_type": "code",
      "source": [
        "def objective_cat(trial):\n",
        "  x_train, x_test, y_train, y_test = train_test_split(X,y, test_size=0.2, random_state=2022)\n",
        "\n",
        "  params = {\n",
        "        'tree method' : 'gpu_hist',\n",
        "        'objective': 'regression',\n",
        "        'verbose': -1,\n",
        "        'metric': 'rmse',\n",
        "        'num_leaves': trial.suggest_int('num_leaves', 2, 8, step=1, log=True),\n",
        "        'colsample_bytree': trial.suggest_uniform('colsample_bytree', 0.7, 0.9),\n",
        "        'reg_alpha': 0,\n",
        "        'reg_lambda': 0,\n",
        "        'max_depth': trial.suggest_int('max_depth',3, 8),\n",
        "        'learning_rate': 0.1,\n",
        "        'n_estimators': trial.suggest_int('n_estimators', 100, 600, step=100),\n",
        "        'min_child_samples': 20,\n",
        "        'subsample': 1,\n",
        "        'random_state': 42,\n",
        "  }\n",
        "\n",
        "  model = MultiOutputRegressor(LGBMRegressor(**params))\n",
        "  model.fit(x_train, y_train)\n",
        "  pred = model.predict(x_test)\n",
        "  rmse = lg_nrmse(y_test, pred)\n",
        "\n",
        "  return rmse"
      ],
      "metadata": {
        "id": "Wq-67X4-gwvL"
      },
      "execution_count": 14,
      "outputs": []
    },
    {
      "cell_type": "code",
      "source": [
        "study = optuna.create_study(direction='minimize')\n",
        "study.optimize(objective_cat, n_trials=10)"
      ],
      "metadata": {
        "colab": {
          "base_uri": "https://localhost:8080/"
        },
        "id": "iJTogAQZhfaW",
        "outputId": "7d0391ca-6536-44ab-b84c-83576240e589"
      },
      "execution_count": 16,
      "outputs": [
        {
          "output_type": "stream",
          "name": "stderr",
          "text": [
            "[I 2023-06-28 06:23:48,654] A new study created in memory with name: no-name-e5806525-d389-4f19-9e30-ab5009a6cd6f\n",
            "<ipython-input-14-f49a42a25458>:10: FutureWarning: suggest_uniform has been deprecated in v3.0.0. This feature will be removed in v6.0.0. See https://github.com/optuna/optuna/releases/tag/v3.0.0. Use suggest_float instead.\n",
            "  'colsample_bytree': trial.suggest_uniform('colsample_bytree', 0.7, 0.9),\n",
            "[I 2023-06-28 06:24:14,633] Trial 0 finished with value: 1.9385610440721406 and parameters: {'num_leaves': 4, 'colsample_bytree': 0.7462889158032554, 'max_depth': 4, 'n_estimators': 500}. Best is trial 0 with value: 1.9385610440721406.\n",
            "<ipython-input-14-f49a42a25458>:10: FutureWarning: suggest_uniform has been deprecated in v3.0.0. This feature will be removed in v6.0.0. See https://github.com/optuna/optuna/releases/tag/v3.0.0. Use suggest_float instead.\n",
            "  'colsample_bytree': trial.suggest_uniform('colsample_bytree', 0.7, 0.9),\n"
          ]
        },
        {
          "output_type": "stream",
          "name": "stdout",
          "text": [
            "[LightGBM] [Warning] Unknown parameter: method\n"
          ]
        },
        {
          "output_type": "stream",
          "name": "stderr",
          "text": [
            "[I 2023-06-28 06:24:41,039] Trial 1 finished with value: 1.949418191003636 and parameters: {'num_leaves': 2, 'colsample_bytree': 0.8565877965139893, 'max_depth': 5, 'n_estimators': 600}. Best is trial 0 with value: 1.9385610440721406.\n",
            "<ipython-input-14-f49a42a25458>:10: FutureWarning: suggest_uniform has been deprecated in v3.0.0. This feature will be removed in v6.0.0. See https://github.com/optuna/optuna/releases/tag/v3.0.0. Use suggest_float instead.\n",
            "  'colsample_bytree': trial.suggest_uniform('colsample_bytree', 0.7, 0.9),\n"
          ]
        },
        {
          "output_type": "stream",
          "name": "stdout",
          "text": [
            "[LightGBM] [Warning] Unknown parameter: method\n"
          ]
        },
        {
          "output_type": "stream",
          "name": "stderr",
          "text": [
            "[I 2023-06-28 06:25:03,962] Trial 2 finished with value: 1.9376220893553342 and parameters: {'num_leaves': 8, 'colsample_bytree': 0.8271222840082486, 'max_depth': 4, 'n_estimators': 300}. Best is trial 2 with value: 1.9376220893553342.\n",
            "<ipython-input-14-f49a42a25458>:10: FutureWarning: suggest_uniform has been deprecated in v3.0.0. This feature will be removed in v6.0.0. See https://github.com/optuna/optuna/releases/tag/v3.0.0. Use suggest_float instead.\n",
            "  'colsample_bytree': trial.suggest_uniform('colsample_bytree', 0.7, 0.9),\n"
          ]
        },
        {
          "output_type": "stream",
          "name": "stdout",
          "text": [
            "[LightGBM] [Warning] Unknown parameter: method\n"
          ]
        },
        {
          "output_type": "stream",
          "name": "stderr",
          "text": [
            "[I 2023-06-28 06:25:26,198] Trial 3 finished with value: 1.9500930433183914 and parameters: {'num_leaves': 2, 'colsample_bytree': 0.7176696201844324, 'max_depth': 7, 'n_estimators': 500}. Best is trial 2 with value: 1.9376220893553342.\n",
            "<ipython-input-14-f49a42a25458>:10: FutureWarning: suggest_uniform has been deprecated in v3.0.0. This feature will be removed in v6.0.0. See https://github.com/optuna/optuna/releases/tag/v3.0.0. Use suggest_float instead.\n",
            "  'colsample_bytree': trial.suggest_uniform('colsample_bytree', 0.7, 0.9),\n"
          ]
        },
        {
          "output_type": "stream",
          "name": "stdout",
          "text": [
            "[LightGBM] [Warning] Unknown parameter: method\n"
          ]
        },
        {
          "output_type": "stream",
          "name": "stderr",
          "text": [
            "[I 2023-06-28 06:25:33,027] Trial 4 finished with value: 1.951286576290223 and parameters: {'num_leaves': 3, 'colsample_bytree': 0.8435078477295485, 'max_depth': 3, 'n_estimators': 100}. Best is trial 2 with value: 1.9376220893553342.\n",
            "<ipython-input-14-f49a42a25458>:10: FutureWarning: suggest_uniform has been deprecated in v3.0.0. This feature will be removed in v6.0.0. See https://github.com/optuna/optuna/releases/tag/v3.0.0. Use suggest_float instead.\n",
            "  'colsample_bytree': trial.suggest_uniform('colsample_bytree', 0.7, 0.9),\n"
          ]
        },
        {
          "output_type": "stream",
          "name": "stdout",
          "text": [
            "[LightGBM] [Warning] Unknown parameter: method\n"
          ]
        },
        {
          "output_type": "stream",
          "name": "stderr",
          "text": [
            "[I 2023-06-28 06:25:44,032] Trial 5 finished with value: 1.9420813109777253 and parameters: {'num_leaves': 8, 'colsample_bytree': 0.8460277404056082, 'max_depth': 3, 'n_estimators': 100}. Best is trial 2 with value: 1.9376220893553342.\n",
            "<ipython-input-14-f49a42a25458>:10: FutureWarning: suggest_uniform has been deprecated in v3.0.0. This feature will be removed in v6.0.0. See https://github.com/optuna/optuna/releases/tag/v3.0.0. Use suggest_float instead.\n",
            "  'colsample_bytree': trial.suggest_uniform('colsample_bytree', 0.7, 0.9),\n"
          ]
        },
        {
          "output_type": "stream",
          "name": "stdout",
          "text": [
            "[LightGBM] [Warning] Unknown parameter: method\n"
          ]
        },
        {
          "output_type": "stream",
          "name": "stderr",
          "text": [
            "[I 2023-06-28 06:26:00,464] Trial 6 finished with value: 1.9403336370909368 and parameters: {'num_leaves': 4, 'colsample_bytree': 0.7117452511533946, 'max_depth': 7, 'n_estimators': 300}. Best is trial 2 with value: 1.9376220893553342.\n",
            "<ipython-input-14-f49a42a25458>:10: FutureWarning: suggest_uniform has been deprecated in v3.0.0. This feature will be removed in v6.0.0. See https://github.com/optuna/optuna/releases/tag/v3.0.0. Use suggest_float instead.\n",
            "  'colsample_bytree': trial.suggest_uniform('colsample_bytree', 0.7, 0.9),\n"
          ]
        },
        {
          "output_type": "stream",
          "name": "stdout",
          "text": [
            "[LightGBM] [Warning] Unknown parameter: method\n"
          ]
        },
        {
          "output_type": "stream",
          "name": "stderr",
          "text": [
            "[I 2023-06-28 06:26:29,341] Trial 7 finished with value: 1.9375750462570127 and parameters: {'num_leaves': 5, 'colsample_bytree': 0.818335099831512, 'max_depth': 4, 'n_estimators': 500}. Best is trial 7 with value: 1.9375750462570127.\n",
            "<ipython-input-14-f49a42a25458>:10: FutureWarning: suggest_uniform has been deprecated in v3.0.0. This feature will be removed in v6.0.0. See https://github.com/optuna/optuna/releases/tag/v3.0.0. Use suggest_float instead.\n",
            "  'colsample_bytree': trial.suggest_uniform('colsample_bytree', 0.7, 0.9),\n"
          ]
        },
        {
          "output_type": "stream",
          "name": "stdout",
          "text": [
            "[LightGBM] [Warning] Unknown parameter: method\n"
          ]
        },
        {
          "output_type": "stream",
          "name": "stderr",
          "text": [
            "[I 2023-06-28 06:26:38,394] Trial 8 finished with value: 1.960045389495525 and parameters: {'num_leaves': 2, 'colsample_bytree': 0.8893546573408012, 'max_depth': 7, 'n_estimators': 100}. Best is trial 7 with value: 1.9375750462570127.\n",
            "<ipython-input-14-f49a42a25458>:10: FutureWarning: suggest_uniform has been deprecated in v3.0.0. This feature will be removed in v6.0.0. See https://github.com/optuna/optuna/releases/tag/v3.0.0. Use suggest_float instead.\n",
            "  'colsample_bytree': trial.suggest_uniform('colsample_bytree', 0.7, 0.9),\n"
          ]
        },
        {
          "output_type": "stream",
          "name": "stdout",
          "text": [
            "[LightGBM] [Warning] Unknown parameter: method\n"
          ]
        },
        {
          "output_type": "stream",
          "name": "stderr",
          "text": [
            "[I 2023-06-28 06:27:04,580] Trial 9 finished with value: 1.9494775687817618 and parameters: {'num_leaves': 2, 'colsample_bytree': 0.828568122645579, 'max_depth': 8, 'n_estimators': 600}. Best is trial 7 with value: 1.9375750462570127.\n"
          ]
        }
      ]
    },
    {
      "cell_type": "code",
      "source": [
        "params = study.best_params\n",
        "params['metric'] = 'rmse'\n",
        "params['objective'] = 'regression'\n",
        "params"
      ],
      "metadata": {
        "colab": {
          "base_uri": "https://localhost:8080/"
        },
        "id": "NJpeatpPhtqg",
        "outputId": "4fc073a2-8cbb-432a-dc44-dfb0381409c8"
      },
      "execution_count": 17,
      "outputs": [
        {
          "output_type": "execute_result",
          "data": {
            "text/plain": [
              "{'num_leaves': 5,\n",
              " 'colsample_bytree': 0.818335099831512,\n",
              " 'max_depth': 4,\n",
              " 'n_estimators': 500,\n",
              " 'metric': 'rmse',\n",
              " 'objective': 'regression'}"
            ]
          },
          "metadata": {},
          "execution_count": 17
        }
      ]
    },
    {
      "cell_type": "code",
      "source": [
        "NRMSES = []\n",
        "pred = np.zeros((target.shape[0],14))\n",
        "for i, idx in enumerate(kf.split(X,y)):\n",
        "  tr_x, tr_y = X.loc[idx[0]], y.loc[idx[0]]\n",
        "  val_x, val_y = X.loc[idx[1]], y.loc[idx[1]]\n",
        "\n",
        "  model = MultiOutputRegressor(LGBMRegressor(**params))\n",
        "  model.fit(tr_x, tr_y)\n",
        "\n",
        "  val_pred = model.predict(val_x)\n",
        "  NRMSE = lg_nrmse(val_y, val_pred)\n",
        "  print(f'{i+1} Fold NRMSE = {NRMSE}')\n",
        "  NRMSES.append(NRMSE)\n",
        "\n",
        "  fold_pred = model.predict(target) / kf.n_splits\n",
        "  pred += fold_pred"
      ],
      "metadata": {
        "colab": {
          "base_uri": "https://localhost:8080/"
        },
        "id": "ElpOv7U1iCsv",
        "outputId": "9be7245e-ace8-4002-e5e4-2b3c71215c15"
      },
      "execution_count": 18,
      "outputs": [
        {
          "output_type": "stream",
          "name": "stdout",
          "text": [
            "1 Fold NRMSE = 1.959348660327108\n",
            "2 Fold NRMSE = 1.907472853041897\n",
            "3 Fold NRMSE = 1.9735389693590055\n",
            "4 Fold NRMSE = 1.9104200303791943\n",
            "5 Fold NRMSE = 1.957411937153299\n",
            "6 Fold NRMSE = 1.9732548827899807\n",
            "7 Fold NRMSE = 1.9490766291689592\n",
            "8 Fold NRMSE = 1.9891225461768607\n",
            "9 Fold NRMSE = 1.9787689290778918\n",
            "10 Fold NRMSE = 1.9793684560094398\n"
          ]
        }
      ]
    },
    {
      "cell_type": "code",
      "source": [
        "np.mean(NRMSES)\n",
        "\n",
        "submission.iloc[:,1:] = pred\n",
        "\n",
        "submission.to_csv('submssion.csv', index=False)"
      ],
      "metadata": {
        "id": "slTJWl5UjO4c"
      },
      "execution_count": 19,
      "outputs": []
    }
  ]
}