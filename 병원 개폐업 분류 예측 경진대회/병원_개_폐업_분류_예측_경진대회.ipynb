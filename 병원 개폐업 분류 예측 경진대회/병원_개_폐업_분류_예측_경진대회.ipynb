{
  "nbformat": 4,
  "nbformat_minor": 0,
  "metadata": {
    "colab": {
      "provenance": [],
      "mount_file_id": "1-S_5da0CUJquF9oM69FLOFmOrXIGDA9h",
      "authorship_tag": "ABX9TyMrfG66+0cCeUjqZID9fo3W",
      "include_colab_link": true
    },
    "kernelspec": {
      "name": "python3",
      "display_name": "Python 3"
    },
    "language_info": {
      "name": "python"
    }
  },
  "cells": [
    {
      "cell_type": "markdown",
      "metadata": {
        "id": "view-in-github",
        "colab_type": "text"
      },
      "source": [
        "<a href=\"https://colab.research.google.com/github/yms0606/SecuLayer/blob/main/%EB%B3%91%EC%9B%90%20%EA%B0%9C%ED%8F%90%EC%97%85%20%EB%B6%84%EB%A5%98%20%EC%98%88%EC%B8%A1%20%EA%B2%BD%EC%A7%84%EB%8C%80%ED%9A%8C/%EB%B3%91%EC%9B%90_%EA%B0%9C_%ED%8F%90%EC%97%85_%EB%B6%84%EB%A5%98_%EC%98%88%EC%B8%A1_%EA%B2%BD%EC%A7%84%EB%8C%80%ED%9A%8C.ipynb\" target=\"_parent\"><img src=\"https://colab.research.google.com/assets/colab-badge.svg\" alt=\"Open In Colab\"/></a>"
      ]
    },
    {
      "cell_type": "code",
      "execution_count": 116,
      "metadata": {
        "id": "xdKNYxEpctYM"
      },
      "outputs": [],
      "source": [
        "import numpy as np\n",
        "import pandas as pd\n",
        "import seaborn as sns\n",
        "import matplotlib.pyplot as plt\n",
        "\n",
        "from sklearn.model_selection import train_test_split\n",
        "from sklearn.ensemble import RandomForestClassifier"
      ]
    },
    {
      "cell_type": "code",
      "source": [
        "train = pd.read_csv(\"/content/drive/MyDrive/ML study/hospital_data/train.csv\")\n",
        "test = pd.read_csv(\"/content/drive/MyDrive/ML study/hospital_data/test.csv\")\n",
        "\n",
        "train.shape, test.shape"
      ],
      "metadata": {
        "colab": {
          "base_uri": "https://localhost:8080/"
        },
        "id": "GPe2_3beeJB7",
        "outputId": "1787b0a6-5399-4ffc-8e71-cb992a80a519"
      },
      "execution_count": 117,
      "outputs": [
        {
          "output_type": "execute_result",
          "data": {
            "text/plain": [
              "((301, 58), (127, 58))"
            ]
          },
          "metadata": {},
          "execution_count": 117
        }
      ]
    },
    {
      "cell_type": "code",
      "source": [
        "train.columns"
      ],
      "metadata": {
        "colab": {
          "base_uri": "https://localhost:8080/"
        },
        "id": "Vga1Y2Kle8A0",
        "outputId": "d6a9fd5a-da2f-4a02-cdef-005aca0573d4"
      },
      "execution_count": 118,
      "outputs": [
        {
          "output_type": "execute_result",
          "data": {
            "text/plain": [
              "Index(['inst_id', 'OC', 'sido', 'sgg', 'openDate', 'bedCount', 'instkind',\n",
              "       'revenue1', 'salescost1', 'sga1', 'salary1', 'noi1', 'noe1',\n",
              "       'interest1', 'ctax1', 'profit1', 'liquidAsset1', 'quickAsset1',\n",
              "       'receivableS1', 'inventoryAsset1', 'nonCAsset1', 'tanAsset1',\n",
              "       'OnonCAsset1', 'receivableL1', 'debt1', 'liquidLiabilities1',\n",
              "       'shortLoan1', 'NCLiabilities1', 'longLoan1', 'netAsset1', 'surplus1',\n",
              "       'revenue2', 'salescost2', 'sga2', 'salary2', 'noi2', 'noe2',\n",
              "       'interest2', 'ctax2', 'profit2', 'liquidAsset2', 'quickAsset2',\n",
              "       'receivableS2', 'inventoryAsset2', 'nonCAsset2', 'tanAsset2',\n",
              "       'OnonCAsset2', 'receivableL2', 'debt2', 'liquidLiabilities2',\n",
              "       'shortLoan2', 'NCLiabilities2', 'longLoan2', 'netAsset2', 'surplus2',\n",
              "       'employee1', 'employee2', 'ownerChange'],\n",
              "      dtype='object')"
            ]
          },
          "metadata": {},
          "execution_count": 118
        }
      ]
    },
    {
      "cell_type": "code",
      "source": [
        "obj2num = [\"OC\",\"sido\",\"instkind\",\"ownerChange\"]\n",
        "\n",
        "temp_arr=[]\n",
        "for col in obj2num:\n",
        "  temp_arr.append(pd.get_dummies(train[col],drop_first=True))\n",
        "\n",
        "temp = pd.concat(temp_arr,axis=1)\n",
        "df_train = pd.concat([temp, train.drop(columns=obj2num, axis=1)],axis=1)"
      ],
      "metadata": {
        "id": "Fg07r1OtfB9J"
      },
      "execution_count": 119,
      "outputs": []
    },
    {
      "cell_type": "code",
      "source": [
        "temp_arr=[]\n",
        "for col in obj2num:\n",
        "  temp_arr.append(pd.get_dummies(test[col],drop_first=True))\n",
        "\n",
        "temp1 = pd.concat(temp_arr, axis=1)\n",
        "df_test = pd.concat([temp1, test.drop(columns=obj2num, axis=1)],axis=1)"
      ],
      "metadata": {
        "id": "MopVlMXtfoy2"
      },
      "execution_count": 120,
      "outputs": []
    },
    {
      "cell_type": "code",
      "source": [
        "label = 'open'\n",
        "feature_names = df_train.columns.tolist()\n",
        "#feature_names\n",
        "feature_names.remove(label)\n",
        "feature_names.remove('dental_clinic')\n",
        "feature_names.remove('gwangju')\n"
      ],
      "metadata": {
        "id": "bQJTh77Sf_Ec"
      },
      "execution_count": 121,
      "outputs": []
    },
    {
      "cell_type": "code",
      "source": [
        "df_test.drop(columns='jeju',axis=1, inplace=True)"
      ],
      "metadata": {
        "id": "qPsEqq5Y8MeI"
      },
      "execution_count": 122,
      "outputs": []
    },
    {
      "cell_type": "code",
      "source": [
        "feature_names.remove('gangwon')\n",
        "feature_names"
      ],
      "metadata": {
        "colab": {
          "base_uri": "https://localhost:8080/"
        },
        "id": "lugFKyaU8T0G",
        "outputId": "cb6e17a2-642d-4d82-c576-fdf2172951c3"
      },
      "execution_count": 123,
      "outputs": [
        {
          "output_type": "execute_result",
          "data": {
            "text/plain": [
              "['choongbuk',\n",
              " 'choongnam',\n",
              " 'daegu',\n",
              " 'daejeon',\n",
              " 'gyeongbuk',\n",
              " 'gyeonggi',\n",
              " 'gyeongnam',\n",
              " 'incheon',\n",
              " 'jeonbuk',\n",
              " 'jeonnam',\n",
              " 'sejong',\n",
              " 'seoul',\n",
              " 'ulsan',\n",
              " 'general_hospital',\n",
              " 'hospital',\n",
              " 'nursing_hospital',\n",
              " 'traditional_clinic',\n",
              " 'traditional_hospital',\n",
              " 'same',\n",
              " 'inst_id',\n",
              " 'sgg',\n",
              " 'openDate',\n",
              " 'bedCount',\n",
              " 'revenue1',\n",
              " 'salescost1',\n",
              " 'sga1',\n",
              " 'salary1',\n",
              " 'noi1',\n",
              " 'noe1',\n",
              " 'interest1',\n",
              " 'ctax1',\n",
              " 'profit1',\n",
              " 'liquidAsset1',\n",
              " 'quickAsset1',\n",
              " 'receivableS1',\n",
              " 'inventoryAsset1',\n",
              " 'nonCAsset1',\n",
              " 'tanAsset1',\n",
              " 'OnonCAsset1',\n",
              " 'receivableL1',\n",
              " 'debt1',\n",
              " 'liquidLiabilities1',\n",
              " 'shortLoan1',\n",
              " 'NCLiabilities1',\n",
              " 'longLoan1',\n",
              " 'netAsset1',\n",
              " 'surplus1',\n",
              " 'revenue2',\n",
              " 'salescost2',\n",
              " 'sga2',\n",
              " 'salary2',\n",
              " 'noi2',\n",
              " 'noe2',\n",
              " 'interest2',\n",
              " 'ctax2',\n",
              " 'profit2',\n",
              " 'liquidAsset2',\n",
              " 'quickAsset2',\n",
              " 'receivableS2',\n",
              " 'inventoryAsset2',\n",
              " 'nonCAsset2',\n",
              " 'tanAsset2',\n",
              " 'OnonCAsset2',\n",
              " 'receivableL2',\n",
              " 'debt2',\n",
              " 'liquidLiabilities2',\n",
              " 'shortLoan2',\n",
              " 'NCLiabilities2',\n",
              " 'longLoan2',\n",
              " 'netAsset2',\n",
              " 'surplus2',\n",
              " 'employee1',\n",
              " 'employee2']"
            ]
          },
          "metadata": {},
          "execution_count": 123
        }
      ]
    },
    {
      "cell_type": "code",
      "source": [
        "#train['sido'].unique()\n",
        "len(feature_names)"
      ],
      "metadata": {
        "colab": {
          "base_uri": "https://localhost:8080/"
        },
        "id": "qZ-GDRrs79W6",
        "outputId": "61f982c4-1225-4d5c-9bc0-732588150b1e"
      },
      "execution_count": 124,
      "outputs": [
        {
          "output_type": "execute_result",
          "data": {
            "text/plain": [
              "73"
            ]
          },
          "metadata": {},
          "execution_count": 124
        }
      ]
    },
    {
      "cell_type": "code",
      "source": [
        "feature_names.remove('gyeongbuk')\n",
        "feature_names.remove('gyeongnam')"
      ],
      "metadata": {
        "id": "EpFSB38d35mk"
      },
      "execution_count": 125,
      "outputs": []
    },
    {
      "cell_type": "code",
      "source": [
        "df_test['employee1'] = df_test['employee1'].str.replace(\",\",\"\").astype('float')\n",
        "df_test['employee2'] = df_test['employee2'].str.replace(\",\",\"\").astype('float')\n",
        "\n",
        "X_train, X_valid, y_train, y_valid = train_test_split(df_train[feature_names], df_train[label],test_size=0.15, stratify=df_train[label])\n",
        "\n",
        "X_train.shape"
      ],
      "metadata": {
        "colab": {
          "base_uri": "https://localhost:8080/"
        },
        "id": "7_k8vfsmh2xk",
        "outputId": "c765652d-1d5f-4001-895f-235a8a35f24f"
      },
      "execution_count": 126,
      "outputs": [
        {
          "output_type": "execute_result",
          "data": {
            "text/plain": [
              "(255, 71)"
            ]
          },
          "metadata": {},
          "execution_count": 126
        }
      ]
    },
    {
      "cell_type": "code",
      "source": [
        "X_train = X_train.fillna(method='pad')\n",
        "X_valid = X_valid.fillna(method='pad')\n",
        "X_train.isnull().sum()"
      ],
      "metadata": {
        "colab": {
          "base_uri": "https://localhost:8080/"
        },
        "id": "wg_ipcyr-7VA",
        "outputId": "165f63dd-d4e5-41f2-eb15-c05981eea202"
      },
      "execution_count": 127,
      "outputs": [
        {
          "output_type": "execute_result",
          "data": {
            "text/plain": [
              "choongbuk    0\n",
              "choongnam    0\n",
              "daegu        0\n",
              "daejeon      0\n",
              "gyeonggi     0\n",
              "            ..\n",
              "longLoan2    0\n",
              "netAsset2    0\n",
              "surplus2     0\n",
              "employee1    0\n",
              "employee2    0\n",
              "Length: 71, dtype: int64"
            ]
          },
          "metadata": {},
          "execution_count": 127
        }
      ]
    },
    {
      "cell_type": "code",
      "source": [
        "clf_rf = RandomForestClassifier()\n",
        "clf_rf.fit(X_train, y_train)\n",
        "pred_rf = clf_rf.predict(X_valid)"
      ],
      "metadata": {
        "id": "AP55Oq1K3uAT"
      },
      "execution_count": 128,
      "outputs": []
    },
    {
      "cell_type": "code",
      "source": [
        "pred_rf"
      ],
      "metadata": {
        "colab": {
          "base_uri": "https://localhost:8080/"
        },
        "id": "TPLuHR5f-0q9",
        "outputId": "808f3864-bb15-4084-d9b1-6b5a2aaaf183"
      },
      "execution_count": 129,
      "outputs": [
        {
          "output_type": "execute_result",
          "data": {
            "text/plain": [
              "array([1, 1, 1, 1, 1, 1, 1, 1, 1, 1, 1, 1, 1, 1, 1, 1, 1, 1, 1, 1, 1, 1,\n",
              "       1, 1, 1, 1, 1, 1, 1, 1, 1, 1, 1, 1, 1, 1, 1, 1, 1, 1, 1, 1, 1, 1,\n",
              "       1, 1], dtype=uint8)"
            ]
          },
          "metadata": {},
          "execution_count": 129
        }
      ]
    },
    {
      "cell_type": "code",
      "source": [
        "clf_rf.score(X_valid, y_valid)"
      ],
      "metadata": {
        "colab": {
          "base_uri": "https://localhost:8080/"
        },
        "id": "ooyqTWrSBAgd",
        "outputId": "f368d39e-e24f-439f-e9d8-73e75130816d"
      },
      "execution_count": 130,
      "outputs": [
        {
          "output_type": "execute_result",
          "data": {
            "text/plain": [
              "0.9565217391304348"
            ]
          },
          "metadata": {},
          "execution_count": 130
        }
      ]
    },
    {
      "cell_type": "code",
      "source": [
        "sub = pd.read_csv('/content/drive/MyDrive/ML study/hospital_data/submission_sample.csv')\n",
        "sub.shape"
      ],
      "metadata": {
        "colab": {
          "base_uri": "https://localhost:8080/"
        },
        "id": "K5cdcyAmBJj1",
        "outputId": "4e32fd5d-d70d-459b-a2fe-c624dca31db6"
      },
      "execution_count": 131,
      "outputs": [
        {
          "output_type": "execute_result",
          "data": {
            "text/plain": [
              "(127, 2)"
            ]
          },
          "metadata": {},
          "execution_count": 131
        }
      ]
    },
    {
      "cell_type": "code",
      "source": [
        "feature_names"
      ],
      "metadata": {
        "colab": {
          "base_uri": "https://localhost:8080/"
        },
        "id": "YpLoj2cyBykl",
        "outputId": "6cb1c3a0-336a-4226-ceff-4260c5f440e3"
      },
      "execution_count": 132,
      "outputs": [
        {
          "output_type": "execute_result",
          "data": {
            "text/plain": [
              "['choongbuk',\n",
              " 'choongnam',\n",
              " 'daegu',\n",
              " 'daejeon',\n",
              " 'gyeonggi',\n",
              " 'incheon',\n",
              " 'jeonbuk',\n",
              " 'jeonnam',\n",
              " 'sejong',\n",
              " 'seoul',\n",
              " 'ulsan',\n",
              " 'general_hospital',\n",
              " 'hospital',\n",
              " 'nursing_hospital',\n",
              " 'traditional_clinic',\n",
              " 'traditional_hospital',\n",
              " 'same',\n",
              " 'inst_id',\n",
              " 'sgg',\n",
              " 'openDate',\n",
              " 'bedCount',\n",
              " 'revenue1',\n",
              " 'salescost1',\n",
              " 'sga1',\n",
              " 'salary1',\n",
              " 'noi1',\n",
              " 'noe1',\n",
              " 'interest1',\n",
              " 'ctax1',\n",
              " 'profit1',\n",
              " 'liquidAsset1',\n",
              " 'quickAsset1',\n",
              " 'receivableS1',\n",
              " 'inventoryAsset1',\n",
              " 'nonCAsset1',\n",
              " 'tanAsset1',\n",
              " 'OnonCAsset1',\n",
              " 'receivableL1',\n",
              " 'debt1',\n",
              " 'liquidLiabilities1',\n",
              " 'shortLoan1',\n",
              " 'NCLiabilities1',\n",
              " 'longLoan1',\n",
              " 'netAsset1',\n",
              " 'surplus1',\n",
              " 'revenue2',\n",
              " 'salescost2',\n",
              " 'sga2',\n",
              " 'salary2',\n",
              " 'noi2',\n",
              " 'noe2',\n",
              " 'interest2',\n",
              " 'ctax2',\n",
              " 'profit2',\n",
              " 'liquidAsset2',\n",
              " 'quickAsset2',\n",
              " 'receivableS2',\n",
              " 'inventoryAsset2',\n",
              " 'nonCAsset2',\n",
              " 'tanAsset2',\n",
              " 'OnonCAsset2',\n",
              " 'receivableL2',\n",
              " 'debt2',\n",
              " 'liquidLiabilities2',\n",
              " 'shortLoan2',\n",
              " 'NCLiabilities2',\n",
              " 'longLoan2',\n",
              " 'netAsset2',\n",
              " 'surplus2',\n",
              " 'employee1',\n",
              " 'employee2']"
            ]
          },
          "metadata": {},
          "execution_count": 132
        }
      ]
    },
    {
      "cell_type": "code",
      "source": [
        "df_test.isnull().sum()\n",
        "df_test = df_test.fillna(method='pad')"
      ],
      "metadata": {
        "id": "iuCIu-TuCSGT"
      },
      "execution_count": 138,
      "outputs": []
    },
    {
      "cell_type": "code",
      "source": [
        "sub['OC'] = clf_rf.predict(df_test[feature_names])\n",
        "sub.to_csv('sub_rf.csv', index = False)"
      ],
      "metadata": {
        "id": "IalKoVomBcHz"
      },
      "execution_count": 139,
      "outputs": []
    },
    {
      "cell_type": "code",
      "source": [],
      "metadata": {
        "id": "PrP33myOBlej"
      },
      "execution_count": 134,
      "outputs": []
    }
  ]
}