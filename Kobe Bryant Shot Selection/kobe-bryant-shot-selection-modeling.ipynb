{
 "cells": [
  {
   "cell_type": "code",
   "execution_count": 1,
   "id": "aa0e4d50",
   "metadata": {
    "_cell_guid": "b1076dfc-b9ad-4769-8c92-a6c4dae69d19",
    "_uuid": "8f2839f25d086af736a60e9eeb907d3b93b6e0e5",
    "execution": {
     "iopub.execute_input": "2023-08-04T01:10:44.558158Z",
     "iopub.status.busy": "2023-08-04T01:10:44.557140Z",
     "iopub.status.idle": "2023-08-04T01:10:46.174445Z",
     "shell.execute_reply": "2023-08-04T01:10:46.173440Z"
    },
    "papermill": {
     "duration": 1.628507,
     "end_time": "2023-08-04T01:10:46.177800",
     "exception": false,
     "start_time": "2023-08-04T01:10:44.549293",
     "status": "completed"
    },
    "tags": []
   },
   "outputs": [
    {
     "name": "stdout",
     "output_type": "stream",
     "text": [
      "/kaggle/input/kobe-bryant-shot-selection/sample_submission.csv.zip\n",
      "/kaggle/input/kobe-bryant-shot-selection/data.csv.zip\n"
     ]
    }
   ],
   "source": [
    "# This Python 3 environment comes with many helpful analytics libraries installed\n",
    "# It is defined by the kaggle/python Docker image: https://github.com/kaggle/docker-python\n",
    "# For example, here's several helpful packages to load\n",
    "\n",
    "import numpy as np # linear algebra\n",
    "import pandas as pd # data processing, CSV file I/O (e.g. pd.read_csv)\n",
    "\n",
    "# Input data files are available in the read-only \"../input/\" directory\n",
    "# For example, running this (by clicking run or pressing Shift+Enter) will list all files under the input directory\n",
    "\n",
    "import os\n",
    "for dirname, _, filenames in os.walk('/kaggle/input'):\n",
    "    for filename in filenames:\n",
    "        print(os.path.join(dirname, filename))\n",
    "\n",
    "# You can write up to 20GB to the current directory (/kaggle/working/) that gets preserved as output when you create a version using \"Save & Run All\" \n",
    "# You can also write temporary files to /kaggle/temp/, but they won't be saved outside of the current session\n",
    "\n",
    "import warnings\n",
    "warnings.filterwarnings('ignore')\n",
    "\n",
    "import seaborn as sns\n",
    "import matplotlib.pyplot as plt\n",
    "\n",
    "pd.set_option('display.max_column', 99)"
   ]
  },
  {
   "cell_type": "code",
   "execution_count": 2,
   "id": "be8c586c",
   "metadata": {
    "execution": {
     "iopub.execute_input": "2023-08-04T01:10:46.191891Z",
     "iopub.status.busy": "2023-08-04T01:10:46.191468Z",
     "iopub.status.idle": "2023-08-04T01:10:46.216665Z",
     "shell.execute_reply": "2023-08-04T01:10:46.215375Z"
    },
    "papermill": {
     "duration": 0.035454,
     "end_time": "2023-08-04T01:10:46.219625",
     "exception": false,
     "start_time": "2023-08-04T01:10:46.184171",
     "status": "completed"
    },
    "tags": []
   },
   "outputs": [],
   "source": [
    "sub = pd.read_csv('/kaggle/input/kobe-bryant-shot-selection/sample_submission.csv.zip')"
   ]
  },
  {
   "cell_type": "code",
   "execution_count": 3,
   "id": "df1894aa",
   "metadata": {
    "execution": {
     "iopub.execute_input": "2023-08-04T01:10:46.233386Z",
     "iopub.status.busy": "2023-08-04T01:10:46.232951Z",
     "iopub.status.idle": "2023-08-04T01:10:46.823306Z",
     "shell.execute_reply": "2023-08-04T01:10:46.822148Z"
    },
    "papermill": {
     "duration": 0.600525,
     "end_time": "2023-08-04T01:10:46.826017",
     "exception": false,
     "start_time": "2023-08-04T01:10:46.225492",
     "status": "completed"
    },
    "tags": []
   },
   "outputs": [],
   "source": [
    "data = pd.read_csv('/kaggle/input/kobe-bryant-shot-selection/data.csv.zip')\n",
    "\n",
    "data.drop(['team_name','team_id','shot_id'],axis=1, inplace=True)\n",
    "data['remaining'] = data['minutes_remaining'] * 60 + data['seconds_remaining']\n",
    "\n",
    "data['loc_x_category'] = pd.cut(data.loc_x,bins=[data.loc_x.min()-1,-150,0,150,data.loc_x.max()+1], labels=['min_-150','-150_0','0_150','150_max'])\n",
    "data['loc_y_category'] = pd.cut(data.loc_y,bins=[data.loc_y.min()-1,0,100,200,data.loc_y.max()+1], labels=['min_0','-0_100','100_200','200_max'])\n",
    "\n",
    "data['basketDistance'] = np.sqrt(data['loc_x']*data['loc_x'] + data['loc_y']*data['loc_y'])\n",
    "data['basketDistance_cat'] = pd.qcut(data.basketDistance, q=5, labels=['tooNear','Near','Mid','Far','tooFar'])\n",
    "\n",
    "data.loc[ data['period']<5 ,'PlayingTime' ] = (data['period'] - 1 ) * 12 + (12 - data['minutes_remaining'])\n",
    "data.loc[ data['period']>4 ,'PlayingTime' ] = 48 + (data['period'] - 5) * 5 + (5 - data['minutes_remaining'])\n",
    "\n",
    "data.loc[data['PlayingTime']>48,'IsAddTime'] = True\n",
    "data.loc[data['PlayingTime']<=48,'IsAddTime'] = False\n",
    "\n",
    "#data['game_yearmon'] = data['game_date'].str.split('-').str[0] + data['game_date'].str.split('-').str[1]\n",
    "#data['game_year'] = data['game_date'].str.split('-').str[0]\n",
    "#data['game_month'] = data['game_date'].str.split('-').str[1]\n",
    "#data['game_day'] = data['game_date'].str.split('-').str[2]\n",
    "\n",
    "#data['season_time'] = pd.cut(data.game_month.astype('int'),bins=[0,3,6,13], labels=['mid_season','late_season','early_season'])\n",
    "#data['player_life'] = pd.cut(data.game_year.astype('int'), bins=[1995,2003,2010,2017], labels=['rookie','prime','veteran'])\n",
    "\n",
    "data.loc[data['matchup'].str.split().str[1] == '@','IsHome'] = False\n",
    "data.loc[data['matchup'].str.split().str[1] != '@','IsHome'] = True\n",
    "\n",
    "avg = data.groupby('combined_shot_type')['shot_distance'].transform('mean')\n",
    "data['distanceDivPershot_type'] = data['shot_distance'] * avg\n",
    "\n",
    "data.drop(['game_date','seconds_remaining'],axis=1,inplace=True)\n",
    "data.drop(['game_event_id','game_id'],axis=1,inplace=True)"
   ]
  },
  {
   "cell_type": "code",
   "execution_count": 4,
   "id": "0bfce8b3",
   "metadata": {
    "execution": {
     "iopub.execute_input": "2023-08-04T01:10:46.839333Z",
     "iopub.status.busy": "2023-08-04T01:10:46.838950Z",
     "iopub.status.idle": "2023-08-04T01:10:47.215224Z",
     "shell.execute_reply": "2023-08-04T01:10:47.213844Z"
    },
    "papermill": {
     "duration": 0.386086,
     "end_time": "2023-08-04T01:10:47.218017",
     "exception": false,
     "start_time": "2023-08-04T01:10:46.831931",
     "status": "completed"
    },
    "tags": []
   },
   "outputs": [],
   "source": [
    "data['IsAddTime'] = data.IsAddTime.astype('bool')\n",
    "data['IsHome'] = data.IsHome.astype('bool')\n",
    "data['playoffs'] = data.playoffs.astype('bool')\n",
    "\n",
    "category = data.columns[data.dtypes == 'object'].to_list()\n",
    "numeric = data.drop(category,axis=1).columns.to_list()\n",
    "\n",
    "data[category] = data[category].astype('category')\n",
    "\n",
    "test = data[data['shot_made_flag'].isnull()]\n",
    "train = data.dropna()\n",
    "\n",
    "test.drop('shot_made_flag',axis=1,inplace=True)\n",
    "y = train['shot_made_flag']\n",
    "X = train.drop('shot_made_flag',axis=1)\n",
    "\n",
    "from sklearn.model_selection import train_test_split\n",
    "\n",
    "X_train, X_val, y_train, y_val = train_test_split(X,y,test_size=0.2,random_state=42)"
   ]
  },
  {
   "cell_type": "code",
   "execution_count": 5,
   "id": "e4083ab5",
   "metadata": {
    "execution": {
     "iopub.execute_input": "2023-08-04T01:10:47.231287Z",
     "iopub.status.busy": "2023-08-04T01:10:47.230887Z",
     "iopub.status.idle": "2023-08-04T01:12:56.500979Z",
     "shell.execute_reply": "2023-08-04T01:12:56.499528Z"
    },
    "papermill": {
     "duration": 129.280252,
     "end_time": "2023-08-04T01:12:56.503905",
     "exception": false,
     "start_time": "2023-08-04T01:10:47.223653",
     "status": "completed"
    },
    "tags": []
   },
   "outputs": [
    {
     "name": "stdout",
     "output_type": "stream",
     "text": [
      "0:\tlearn: 0.6915062\ttotal: 122ms\tremaining: 5m 5s\n",
      "100:\tlearn: 0.6217365\ttotal: 4.73s\tremaining: 1m 52s\n",
      "200:\tlearn: 0.6082982\ttotal: 9.25s\tremaining: 1m 45s\n",
      "300:\tlearn: 0.6025846\ttotal: 14.2s\tremaining: 1m 43s\n",
      "400:\tlearn: 0.5993683\ttotal: 19.2s\tremaining: 1m 40s\n",
      "500:\tlearn: 0.5970011\ttotal: 24.3s\tremaining: 1m 37s\n",
      "600:\tlearn: 0.5953234\ttotal: 29.2s\tremaining: 1m 32s\n",
      "700:\tlearn: 0.5935978\ttotal: 34.4s\tremaining: 1m 28s\n",
      "800:\tlearn: 0.5921853\ttotal: 39.6s\tremaining: 1m 23s\n",
      "900:\tlearn: 0.5906835\ttotal: 44.5s\tremaining: 1m 19s\n",
      "1000:\tlearn: 0.5891002\ttotal: 49.6s\tremaining: 1m 14s\n",
      "1100:\tlearn: 0.5875651\ttotal: 54.7s\tremaining: 1m 9s\n",
      "1200:\tlearn: 0.5860921\ttotal: 59.7s\tremaining: 1m 4s\n",
      "1300:\tlearn: 0.5844235\ttotal: 1m 4s\tremaining: 59.9s\n",
      "1400:\tlearn: 0.5828877\ttotal: 1m 10s\tremaining: 55.3s\n",
      "1500:\tlearn: 0.5812979\ttotal: 1m 15s\tremaining: 50.4s\n",
      "1600:\tlearn: 0.5797450\ttotal: 1m 20s\tremaining: 45.5s\n",
      "1700:\tlearn: 0.5781644\ttotal: 1m 26s\tremaining: 40.5s\n",
      "1800:\tlearn: 0.5768398\ttotal: 1m 31s\tremaining: 35.4s\n",
      "1900:\tlearn: 0.5753836\ttotal: 1m 36s\tremaining: 30.4s\n",
      "2000:\tlearn: 0.5738852\ttotal: 1m 42s\tremaining: 25.5s\n",
      "2100:\tlearn: 0.5725446\ttotal: 1m 47s\tremaining: 20.4s\n",
      "2200:\tlearn: 0.5712884\ttotal: 1m 52s\tremaining: 15.3s\n",
      "2300:\tlearn: 0.5700949\ttotal: 1m 57s\tremaining: 10.2s\n",
      "2400:\tlearn: 0.5688041\ttotal: 2m 2s\tremaining: 5.06s\n",
      "2499:\tlearn: 0.5675588\ttotal: 2m 7s\tremaining: 0us\n"
     ]
    },
    {
     "data": {
      "text/plain": [
       "<catboost.core.CatBoostClassifier at 0x78fa97753d90>"
      ]
     },
     "execution_count": 5,
     "metadata": {},
     "output_type": "execute_result"
    }
   ],
   "source": [
    "from catboost import CatBoostClassifier\n",
    "\n",
    "category = train.columns[train.dtypes == 'category'].to_list()\n",
    "\n",
    "cat = CatBoostClassifier(random_state=42, learning_rate=0.01, n_estimators=2500,\n",
    "                             eval_metric='Logloss',cat_features=category, verbose=100)\n",
    "\n",
    "#cat.fit(X_train,y_train,eval_set=[(X_val,y_val)],early_stopping_rounds=100) # 6010\n",
    "cat.fit(X,y)"
   ]
  },
  {
   "cell_type": "code",
   "execution_count": 6,
   "id": "cea17e1d",
   "metadata": {
    "execution": {
     "iopub.execute_input": "2023-08-04T01:12:56.522271Z",
     "iopub.status.busy": "2023-08-04T01:12:56.521493Z",
     "iopub.status.idle": "2023-08-04T01:12:56.633903Z",
     "shell.execute_reply": "2023-08-04T01:12:56.632028Z"
    },
    "papermill": {
     "duration": 0.127132,
     "end_time": "2023-08-04T01:12:56.639183",
     "exception": false,
     "start_time": "2023-08-04T01:12:56.512051",
     "status": "completed"
    },
    "tags": []
   },
   "outputs": [
    {
     "name": "stdout",
     "output_type": "stream",
     "text": [
      "10.806083632807303\n"
     ]
    }
   ],
   "source": [
    "from sklearn.metrics import log_loss\n",
    "\n",
    "pred_cat = cat.predict(X_val)\n",
    "\n",
    "print(log_loss(pred_cat,y_val)) # 11.289"
   ]
  },
  {
   "cell_type": "code",
   "execution_count": 7,
   "id": "4e5df0fe",
   "metadata": {
    "execution": {
     "iopub.execute_input": "2023-08-04T01:12:56.661169Z",
     "iopub.status.busy": "2023-08-04T01:12:56.660755Z",
     "iopub.status.idle": "2023-08-04T01:13:02.527049Z",
     "shell.execute_reply": "2023-08-04T01:13:02.525597Z"
    },
    "papermill": {
     "duration": 5.880091,
     "end_time": "2023-08-04T01:13:02.529950",
     "exception": false,
     "start_time": "2023-08-04T01:12:56.649859",
     "status": "completed"
    },
    "tags": []
   },
   "outputs": [
    {
     "data": {
      "text/html": [
       "<style>#sk-container-id-1 {color: black;background-color: white;}#sk-container-id-1 pre{padding: 0;}#sk-container-id-1 div.sk-toggleable {background-color: white;}#sk-container-id-1 label.sk-toggleable__label {cursor: pointer;display: block;width: 100%;margin-bottom: 0;padding: 0.3em;box-sizing: border-box;text-align: center;}#sk-container-id-1 label.sk-toggleable__label-arrow:before {content: \"▸\";float: left;margin-right: 0.25em;color: #696969;}#sk-container-id-1 label.sk-toggleable__label-arrow:hover:before {color: black;}#sk-container-id-1 div.sk-estimator:hover label.sk-toggleable__label-arrow:before {color: black;}#sk-container-id-1 div.sk-toggleable__content {max-height: 0;max-width: 0;overflow: hidden;text-align: left;background-color: #f0f8ff;}#sk-container-id-1 div.sk-toggleable__content pre {margin: 0.2em;color: black;border-radius: 0.25em;background-color: #f0f8ff;}#sk-container-id-1 input.sk-toggleable__control:checked~div.sk-toggleable__content {max-height: 200px;max-width: 100%;overflow: auto;}#sk-container-id-1 input.sk-toggleable__control:checked~label.sk-toggleable__label-arrow:before {content: \"▾\";}#sk-container-id-1 div.sk-estimator input.sk-toggleable__control:checked~label.sk-toggleable__label {background-color: #d4ebff;}#sk-container-id-1 div.sk-label input.sk-toggleable__control:checked~label.sk-toggleable__label {background-color: #d4ebff;}#sk-container-id-1 input.sk-hidden--visually {border: 0;clip: rect(1px 1px 1px 1px);clip: rect(1px, 1px, 1px, 1px);height: 1px;margin: -1px;overflow: hidden;padding: 0;position: absolute;width: 1px;}#sk-container-id-1 div.sk-estimator {font-family: monospace;background-color: #f0f8ff;border: 1px dotted black;border-radius: 0.25em;box-sizing: border-box;margin-bottom: 0.5em;}#sk-container-id-1 div.sk-estimator:hover {background-color: #d4ebff;}#sk-container-id-1 div.sk-parallel-item::after {content: \"\";width: 100%;border-bottom: 1px solid gray;flex-grow: 1;}#sk-container-id-1 div.sk-label:hover label.sk-toggleable__label {background-color: #d4ebff;}#sk-container-id-1 div.sk-serial::before {content: \"\";position: absolute;border-left: 1px solid gray;box-sizing: border-box;top: 0;bottom: 0;left: 50%;z-index: 0;}#sk-container-id-1 div.sk-serial {display: flex;flex-direction: column;align-items: center;background-color: white;padding-right: 0.2em;padding-left: 0.2em;position: relative;}#sk-container-id-1 div.sk-item {position: relative;z-index: 1;}#sk-container-id-1 div.sk-parallel {display: flex;align-items: stretch;justify-content: center;background-color: white;position: relative;}#sk-container-id-1 div.sk-item::before, #sk-container-id-1 div.sk-parallel-item::before {content: \"\";position: absolute;border-left: 1px solid gray;box-sizing: border-box;top: 0;bottom: 0;left: 50%;z-index: -1;}#sk-container-id-1 div.sk-parallel-item {display: flex;flex-direction: column;z-index: 1;position: relative;background-color: white;}#sk-container-id-1 div.sk-parallel-item:first-child::after {align-self: flex-end;width: 50%;}#sk-container-id-1 div.sk-parallel-item:last-child::after {align-self: flex-start;width: 50%;}#sk-container-id-1 div.sk-parallel-item:only-child::after {width: 0;}#sk-container-id-1 div.sk-dashed-wrapped {border: 1px dashed gray;margin: 0 0.4em 0.5em 0.4em;box-sizing: border-box;padding-bottom: 0.4em;background-color: white;}#sk-container-id-1 div.sk-label label {font-family: monospace;font-weight: bold;display: inline-block;line-height: 1.2em;}#sk-container-id-1 div.sk-label-container {text-align: center;}#sk-container-id-1 div.sk-container {/* jupyter's `normalize.less` sets `[hidden] { display: none; }` but bootstrap.min.css set `[hidden] { display: none !important; }` so we also need the `!important` here to be able to override the default hidden behavior on the sphinx rendered scikit-learn.org. See: https://github.com/scikit-learn/scikit-learn/issues/21755 */display: inline-block !important;position: relative;}#sk-container-id-1 div.sk-text-repr-fallback {display: none;}</style><div id=\"sk-container-id-1\" class=\"sk-top-container\"><div class=\"sk-text-repr-fallback\"><pre>LGBMClassifier(learning_rate=0.01, n_estimators=400, random_state=42)</pre><b>In a Jupyter environment, please rerun this cell to show the HTML representation or trust the notebook. <br />On GitHub, the HTML representation is unable to render, please try loading this page with nbviewer.org.</b></div><div class=\"sk-container\" hidden><div class=\"sk-item\"><div class=\"sk-estimator sk-toggleable\"><input class=\"sk-toggleable__control sk-hidden--visually\" id=\"sk-estimator-id-1\" type=\"checkbox\" checked><label for=\"sk-estimator-id-1\" class=\"sk-toggleable__label sk-toggleable__label-arrow\">LGBMClassifier</label><div class=\"sk-toggleable__content\"><pre>LGBMClassifier(learning_rate=0.01, n_estimators=400, random_state=42)</pre></div></div></div></div></div>"
      ],
      "text/plain": [
       "LGBMClassifier(learning_rate=0.01, n_estimators=400, random_state=42)"
      ]
     },
     "execution_count": 7,
     "metadata": {},
     "output_type": "execute_result"
    }
   ],
   "source": [
    "from lightgbm import LGBMClassifier\n",
    "# 6028\n",
    "lgb = LGBMClassifier(random_state=42, learning_rate=0.01, n_estimators=400)\n",
    "#lgb.fit(X_train, y_train, eval_set=[(X_val,y_val)],early_stopping_rounds=100, verbose=100,eval_metric='Logloss')\n",
    "lgb.fit(X,y)"
   ]
  },
  {
   "cell_type": "code",
   "execution_count": 8,
   "id": "0fcbb69c",
   "metadata": {
    "execution": {
     "iopub.execute_input": "2023-08-04T01:13:02.549017Z",
     "iopub.status.busy": "2023-08-04T01:13:02.548625Z",
     "iopub.status.idle": "2023-08-04T01:13:02.654033Z",
     "shell.execute_reply": "2023-08-04T01:13:02.652664Z"
    },
    "papermill": {
     "duration": 0.118226,
     "end_time": "2023-08-04T01:13:02.656702",
     "exception": false,
     "start_time": "2023-08-04T01:13:02.538476",
     "status": "completed"
    },
    "tags": []
   },
   "outputs": [
    {
     "name": "stdout",
     "output_type": "stream",
     "text": [
      "10.61674926675552\n"
     ]
    }
   ],
   "source": [
    "pred_lgb = lgb.predict(X_val)\n",
    "\n",
    "print(log_loss(pred_lgb,y_val)) # 11.3740"
   ]
  },
  {
   "cell_type": "code",
   "execution_count": 9,
   "id": "ef553695",
   "metadata": {
    "execution": {
     "iopub.execute_input": "2023-08-04T01:13:02.676007Z",
     "iopub.status.busy": "2023-08-04T01:13:02.675584Z",
     "iopub.status.idle": "2023-08-04T01:13:07.496017Z",
     "shell.execute_reply": "2023-08-04T01:13:07.494863Z"
    },
    "papermill": {
     "duration": 4.83306,
     "end_time": "2023-08-04T01:13:07.498508",
     "exception": false,
     "start_time": "2023-08-04T01:13:02.665448",
     "status": "completed"
    },
    "tags": []
   },
   "outputs": [
    {
     "data": {
      "text/html": [
       "<style>#sk-container-id-2 {color: black;background-color: white;}#sk-container-id-2 pre{padding: 0;}#sk-container-id-2 div.sk-toggleable {background-color: white;}#sk-container-id-2 label.sk-toggleable__label {cursor: pointer;display: block;width: 100%;margin-bottom: 0;padding: 0.3em;box-sizing: border-box;text-align: center;}#sk-container-id-2 label.sk-toggleable__label-arrow:before {content: \"▸\";float: left;margin-right: 0.25em;color: #696969;}#sk-container-id-2 label.sk-toggleable__label-arrow:hover:before {color: black;}#sk-container-id-2 div.sk-estimator:hover label.sk-toggleable__label-arrow:before {color: black;}#sk-container-id-2 div.sk-toggleable__content {max-height: 0;max-width: 0;overflow: hidden;text-align: left;background-color: #f0f8ff;}#sk-container-id-2 div.sk-toggleable__content pre {margin: 0.2em;color: black;border-radius: 0.25em;background-color: #f0f8ff;}#sk-container-id-2 input.sk-toggleable__control:checked~div.sk-toggleable__content {max-height: 200px;max-width: 100%;overflow: auto;}#sk-container-id-2 input.sk-toggleable__control:checked~label.sk-toggleable__label-arrow:before {content: \"▾\";}#sk-container-id-2 div.sk-estimator input.sk-toggleable__control:checked~label.sk-toggleable__label {background-color: #d4ebff;}#sk-container-id-2 div.sk-label input.sk-toggleable__control:checked~label.sk-toggleable__label {background-color: #d4ebff;}#sk-container-id-2 input.sk-hidden--visually {border: 0;clip: rect(1px 1px 1px 1px);clip: rect(1px, 1px, 1px, 1px);height: 1px;margin: -1px;overflow: hidden;padding: 0;position: absolute;width: 1px;}#sk-container-id-2 div.sk-estimator {font-family: monospace;background-color: #f0f8ff;border: 1px dotted black;border-radius: 0.25em;box-sizing: border-box;margin-bottom: 0.5em;}#sk-container-id-2 div.sk-estimator:hover {background-color: #d4ebff;}#sk-container-id-2 div.sk-parallel-item::after {content: \"\";width: 100%;border-bottom: 1px solid gray;flex-grow: 1;}#sk-container-id-2 div.sk-label:hover label.sk-toggleable__label {background-color: #d4ebff;}#sk-container-id-2 div.sk-serial::before {content: \"\";position: absolute;border-left: 1px solid gray;box-sizing: border-box;top: 0;bottom: 0;left: 50%;z-index: 0;}#sk-container-id-2 div.sk-serial {display: flex;flex-direction: column;align-items: center;background-color: white;padding-right: 0.2em;padding-left: 0.2em;position: relative;}#sk-container-id-2 div.sk-item {position: relative;z-index: 1;}#sk-container-id-2 div.sk-parallel {display: flex;align-items: stretch;justify-content: center;background-color: white;position: relative;}#sk-container-id-2 div.sk-item::before, #sk-container-id-2 div.sk-parallel-item::before {content: \"\";position: absolute;border-left: 1px solid gray;box-sizing: border-box;top: 0;bottom: 0;left: 50%;z-index: -1;}#sk-container-id-2 div.sk-parallel-item {display: flex;flex-direction: column;z-index: 1;position: relative;background-color: white;}#sk-container-id-2 div.sk-parallel-item:first-child::after {align-self: flex-end;width: 50%;}#sk-container-id-2 div.sk-parallel-item:last-child::after {align-self: flex-start;width: 50%;}#sk-container-id-2 div.sk-parallel-item:only-child::after {width: 0;}#sk-container-id-2 div.sk-dashed-wrapped {border: 1px dashed gray;margin: 0 0.4em 0.5em 0.4em;box-sizing: border-box;padding-bottom: 0.4em;background-color: white;}#sk-container-id-2 div.sk-label label {font-family: monospace;font-weight: bold;display: inline-block;line-height: 1.2em;}#sk-container-id-2 div.sk-label-container {text-align: center;}#sk-container-id-2 div.sk-container {/* jupyter's `normalize.less` sets `[hidden] { display: none; }` but bootstrap.min.css set `[hidden] { display: none !important; }` so we also need the `!important` here to be able to override the default hidden behavior on the sphinx rendered scikit-learn.org. See: https://github.com/scikit-learn/scikit-learn/issues/21755 */display: inline-block !important;position: relative;}#sk-container-id-2 div.sk-text-repr-fallback {display: none;}</style><div id=\"sk-container-id-2\" class=\"sk-top-container\"><div class=\"sk-text-repr-fallback\"><pre>XGBClassifier(base_score=None, booster=None, callbacks=None,\n",
       "              colsample_bylevel=None, colsample_bynode=None,\n",
       "              colsample_bytree=None, early_stopping_rounds=None,\n",
       "              enable_categorical=True,\n",
       "              eval_metric=&lt;function log_loss at 0x78fa95fd3250&gt;,\n",
       "              feature_types=None, gamma=None, gpu_id=None, grow_policy=None,\n",
       "              importance_type=None, interaction_constraints=None,\n",
       "              learning_rate=0.01, max_bin=None, max_cat_threshold=None,\n",
       "              max_cat_to_onehot=None, max_delta_step=None, max_depth=None,\n",
       "              max_leaves=None, min_child_weight=None, missing=nan,\n",
       "              monotone_constraints=None, n_estimators=300, n_jobs=None,\n",
       "              num_parallel_tree=None, predictor=None, random_state=42, ...)</pre><b>In a Jupyter environment, please rerun this cell to show the HTML representation or trust the notebook. <br />On GitHub, the HTML representation is unable to render, please try loading this page with nbviewer.org.</b></div><div class=\"sk-container\" hidden><div class=\"sk-item\"><div class=\"sk-estimator sk-toggleable\"><input class=\"sk-toggleable__control sk-hidden--visually\" id=\"sk-estimator-id-2\" type=\"checkbox\" checked><label for=\"sk-estimator-id-2\" class=\"sk-toggleable__label sk-toggleable__label-arrow\">XGBClassifier</label><div class=\"sk-toggleable__content\"><pre>XGBClassifier(base_score=None, booster=None, callbacks=None,\n",
       "              colsample_bylevel=None, colsample_bynode=None,\n",
       "              colsample_bytree=None, early_stopping_rounds=None,\n",
       "              enable_categorical=True,\n",
       "              eval_metric=&lt;function log_loss at 0x78fa95fd3250&gt;,\n",
       "              feature_types=None, gamma=None, gpu_id=None, grow_policy=None,\n",
       "              importance_type=None, interaction_constraints=None,\n",
       "              learning_rate=0.01, max_bin=None, max_cat_threshold=None,\n",
       "              max_cat_to_onehot=None, max_delta_step=None, max_depth=None,\n",
       "              max_leaves=None, min_child_weight=None, missing=nan,\n",
       "              monotone_constraints=None, n_estimators=300, n_jobs=None,\n",
       "              num_parallel_tree=None, predictor=None, random_state=42, ...)</pre></div></div></div></div></div>"
      ],
      "text/plain": [
       "XGBClassifier(base_score=None, booster=None, callbacks=None,\n",
       "              colsample_bylevel=None, colsample_bynode=None,\n",
       "              colsample_bytree=None, early_stopping_rounds=None,\n",
       "              enable_categorical=True,\n",
       "              eval_metric=<function log_loss at 0x78fa95fd3250>,\n",
       "              feature_types=None, gamma=None, gpu_id=None, grow_policy=None,\n",
       "              importance_type=None, interaction_constraints=None,\n",
       "              learning_rate=0.01, max_bin=None, max_cat_threshold=None,\n",
       "              max_cat_to_onehot=None, max_delta_step=None, max_depth=None,\n",
       "              max_leaves=None, min_child_weight=None, missing=nan,\n",
       "              monotone_constraints=None, n_estimators=300, n_jobs=None,\n",
       "              num_parallel_tree=None, predictor=None, random_state=42, ...)"
      ]
     },
     "execution_count": 9,
     "metadata": {},
     "output_type": "execute_result"
    }
   ],
   "source": [
    "from xgboost import XGBClassifier\n",
    "# 6035\n",
    "xgb = XGBClassifier(random_state=42, learning_rate=0.01, n_estimators=300,\n",
    "                    enable_categorical=True,eval_metric=log_loss, tree_method='hist')\n",
    "#xgb.fit(X_train,y_train, eval_set=[(X_val,y_val)],verbose=100,early_stopping_rounds=100)\n",
    "xgb.fit(X,y)"
   ]
  },
  {
   "cell_type": "code",
   "execution_count": 10,
   "id": "4f407239",
   "metadata": {
    "execution": {
     "iopub.execute_input": "2023-08-04T01:13:07.518173Z",
     "iopub.status.busy": "2023-08-04T01:13:07.517776Z",
     "iopub.status.idle": "2023-08-04T01:13:07.674476Z",
     "shell.execute_reply": "2023-08-04T01:13:07.672824Z"
    },
    "papermill": {
     "duration": 0.170079,
     "end_time": "2023-08-04T01:13:07.677417",
     "exception": false,
     "start_time": "2023-08-04T01:13:07.507338",
     "status": "completed"
    },
    "tags": []
   },
   "outputs": [
    {
     "name": "stdout",
     "output_type": "stream",
     "text": [
      "10.735959793528863\n"
     ]
    }
   ],
   "source": [
    "pred_xgb = xgb.predict(X_val)\n",
    "\n",
    "print(log_loss(pred_xgb,y_val)) #11.4442"
   ]
  },
  {
   "cell_type": "code",
   "execution_count": 11,
   "id": "81eeb1d0",
   "metadata": {
    "execution": {
     "iopub.execute_input": "2023-08-04T01:13:07.698362Z",
     "iopub.status.busy": "2023-08-04T01:13:07.697930Z",
     "iopub.status.idle": "2023-08-04T01:13:07.894710Z",
     "shell.execute_reply": "2023-08-04T01:13:07.893452Z"
    },
    "papermill": {
     "duration": 0.210683,
     "end_time": "2023-08-04T01:13:07.897678",
     "exception": false,
     "start_time": "2023-08-04T01:13:07.686995",
     "status": "completed"
    },
    "tags": []
   },
   "outputs": [],
   "source": [
    "sub1 = sub.copy()\n",
    "\n",
    "pred = cat.predict_proba(test)[:,1]\n",
    "sub1['shot_made_flag'] = pred\n",
    "#sub1.to_csv('submission_cat.csv',index=False)"
   ]
  },
  {
   "cell_type": "code",
   "execution_count": 12,
   "id": "7dd8d4bb",
   "metadata": {
    "execution": {
     "iopub.execute_input": "2023-08-04T01:13:07.917798Z",
     "iopub.status.busy": "2023-08-04T01:13:07.917377Z",
     "iopub.status.idle": "2023-08-04T01:13:08.014555Z",
     "shell.execute_reply": "2023-08-04T01:13:08.013237Z"
    },
    "papermill": {
     "duration": 0.110867,
     "end_time": "2023-08-04T01:13:08.017662",
     "exception": false,
     "start_time": "2023-08-04T01:13:07.906795",
     "status": "completed"
    },
    "tags": []
   },
   "outputs": [],
   "source": [
    "sub2 = sub.copy()\n",
    "\n",
    "pred1 = lgb.predict_proba(test)[:,1]\n",
    "sub2['shot_made_flag'] = pred1\n",
    "#sub2.to_csv('submission_lgb.csv',index=False)"
   ]
  },
  {
   "cell_type": "code",
   "execution_count": 13,
   "id": "d38e2961",
   "metadata": {
    "execution": {
     "iopub.execute_input": "2023-08-04T01:13:08.038005Z",
     "iopub.status.busy": "2023-08-04T01:13:08.037148Z",
     "iopub.status.idle": "2023-08-04T01:13:08.176991Z",
     "shell.execute_reply": "2023-08-04T01:13:08.175941Z"
    },
    "papermill": {
     "duration": 0.15293,
     "end_time": "2023-08-04T01:13:08.179583",
     "exception": false,
     "start_time": "2023-08-04T01:13:08.026653",
     "status": "completed"
    },
    "tags": []
   },
   "outputs": [],
   "source": [
    "sub4 = sub.copy()\n",
    "\n",
    "pred2 = xgb.predict_proba(test)[:,1]\n",
    "sub4['shot_made_flag'] = pred2\n",
    "#sub2.to_csv('submission_xgb.csv',index=False)"
   ]
  },
  {
   "cell_type": "code",
   "execution_count": 14,
   "id": "1e2e0930",
   "metadata": {
    "execution": {
     "iopub.execute_input": "2023-08-04T01:13:08.200505Z",
     "iopub.status.busy": "2023-08-04T01:13:08.199749Z",
     "iopub.status.idle": "2023-08-04T01:13:08.228913Z",
     "shell.execute_reply": "2023-08-04T01:13:08.227922Z"
    },
    "papermill": {
     "duration": 0.042581,
     "end_time": "2023-08-04T01:13:08.231549",
     "exception": false,
     "start_time": "2023-08-04T01:13:08.188968",
     "status": "completed"
    },
    "tags": []
   },
   "outputs": [],
   "source": [
    "sub3 = sub.copy()\n",
    "\n",
    "sub3['shot_made_flag'] = pred1 * 0.1 + pred * 0.8 + pred2 * 0.1\n",
    "sub3.to_csv('submission_ensemble.csv',index=False)"
   ]
  }
 ],
 "metadata": {
  "kernelspec": {
   "display_name": "Python 3",
   "language": "python",
   "name": "python3"
  },
  "language_info": {
   "codemirror_mode": {
    "name": "ipython",
    "version": 3
   },
   "file_extension": ".py",
   "mimetype": "text/x-python",
   "name": "python",
   "nbconvert_exporter": "python",
   "pygments_lexer": "ipython3",
   "version": "3.10.12"
  },
  "papermill": {
   "default_parameters": {},
   "duration": 157.083226,
   "end_time": "2023-08-04T01:13:09.465970",
   "environment_variables": {},
   "exception": null,
   "input_path": "__notebook__.ipynb",
   "output_path": "__notebook__.ipynb",
   "parameters": {},
   "start_time": "2023-08-04T01:10:32.382744",
   "version": "2.4.0"
  }
 },
 "nbformat": 4,
 "nbformat_minor": 5
}
