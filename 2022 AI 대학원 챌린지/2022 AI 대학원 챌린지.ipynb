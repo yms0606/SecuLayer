{
 "cells": [
  {
   "cell_type": "code",
   "execution_count": 1,
   "id": "miniature-accused",
   "metadata": {
    "collapsed": true,
    "jupyter": {
     "outputs_hidden": true
    }
   },
   "outputs": [
    {
     "name": "stdout",
     "output_type": "stream",
     "text": [
      "Collecting catboost\n",
      "  Downloading catboost-1.2-cp38-cp38-manylinux2014_x86_64.whl (98.6 MB)\n",
      "\u001b[K     |████████████████████████████████| 98.6 MB 63 kB/s  eta 0:00:01\n",
      "\u001b[?25hRequirement already satisfied: six in /opt/conda/lib/python3.8/site-packages (from catboost) (1.15.0)\n",
      "Requirement already satisfied: pandas>=0.24 in /opt/conda/lib/python3.8/site-packages (from catboost) (1.1.5)\n",
      "Requirement already satisfied: scipy in /opt/conda/lib/python3.8/site-packages (from catboost) (1.5.3)\n",
      "Requirement already satisfied: matplotlib in /opt/conda/lib/python3.8/site-packages (from catboost) (3.3.3)\n",
      "Requirement already satisfied: numpy>=1.16.0 in /opt/conda/lib/python3.8/site-packages (from catboost) (1.19.5)\n",
      "Requirement already satisfied: python-dateutil>=2.7.3 in /opt/conda/lib/python3.8/site-packages (from pandas>=0.24->catboost) (2.8.1)\n",
      "Requirement already satisfied: pytz>=2017.2 in /opt/conda/lib/python3.8/site-packages (from pandas>=0.24->catboost) (2020.5)\n",
      "Collecting graphviz\n",
      "  Downloading graphviz-0.20.1-py3-none-any.whl (47 kB)\n",
      "\u001b[K     |████████████████████████████████| 47 kB 3.9 MB/s eta 0:00:01\n",
      "\u001b[?25hRequirement already satisfied: pillow>=6.2.0 in /opt/conda/lib/python3.8/site-packages (from matplotlib->catboost) (8.1.0)\n",
      "Requirement already satisfied: cycler>=0.10 in /opt/conda/lib/python3.8/site-packages (from matplotlib->catboost) (0.10.0)\n",
      "Requirement already satisfied: pyparsing!=2.0.4,!=2.1.2,!=2.1.6,>=2.0.3 in /opt/conda/lib/python3.8/site-packages (from matplotlib->catboost) (2.4.7)\n",
      "Requirement already satisfied: kiwisolver>=1.0.1 in /opt/conda/lib/python3.8/site-packages (from matplotlib->catboost) (1.3.1)\n",
      "Collecting plotly\n",
      "  Downloading plotly-5.15.0-py2.py3-none-any.whl (15.5 MB)\n",
      "\u001b[K     |████████████████████████████████| 15.5 MB 5.3 MB/s eta 0:00:01\n",
      "\u001b[?25hRequirement already satisfied: packaging in /opt/conda/lib/python3.8/site-packages (from plotly->catboost) (20.8)\n",
      "Collecting tenacity>=6.2.0\n",
      "  Downloading tenacity-8.2.2-py3-none-any.whl (24 kB)\n",
      "Installing collected packages: tenacity, plotly, graphviz, catboost\n",
      "Successfully installed catboost-1.2 graphviz-0.20.1 plotly-5.15.0 tenacity-8.2.2\n"
     ]
    }
   ],
   "source": [
    "!pip install catboost"
   ]
  },
  {
   "cell_type": "code",
   "execution_count": 5,
   "id": "complicated-guard",
   "metadata": {
    "collapsed": true,
    "jupyter": {
     "outputs_hidden": true
    }
   },
   "outputs": [
    {
     "name": "stdout",
     "output_type": "stream",
     "text": [
      "Collecting Bio\n",
      "  Downloading bio-1.5.9-py3-none-any.whl (276 kB)\n",
      "\u001b[K     |████████████████████████████████| 276 kB 6.6 MB/s eta 0:00:01\n",
      "\u001b[?25hRequirement already satisfied: tqdm in /opt/conda/lib/python3.8/site-packages (from Bio) (4.56.0)\n",
      "Requirement already satisfied: requests in /opt/conda/lib/python3.8/site-packages (from Bio) (2.25.1)\n",
      "Requirement already satisfied: pooch in /opt/conda/lib/python3.8/site-packages (from Bio) (1.3.0)\n",
      "Requirement already satisfied: pandas in /opt/conda/lib/python3.8/site-packages (from Bio) (1.1.5)\n",
      "Collecting biopython>=1.80\n",
      "  Downloading biopython-1.81-cp38-cp38-manylinux_2_17_x86_64.manylinux2014_x86_64.whl (3.1 MB)\n",
      "\u001b[K     |████████████████████████████████| 3.1 MB 5.9 MB/s eta 0:00:01\n",
      "\u001b[?25hRequirement already satisfied: numpy in /opt/conda/lib/python3.8/site-packages (from biopython>=1.80->Bio) (1.19.5)\n",
      "Collecting gprofiler-official\n",
      "  Downloading gprofiler_official-1.0.0-py3-none-any.whl (9.3 kB)\n",
      "Collecting mygene\n",
      "  Downloading mygene-3.2.2-py2.py3-none-any.whl (5.4 kB)\n",
      "Collecting biothings-client>=0.2.6\n",
      "  Downloading biothings_client-0.3.0-py2.py3-none-any.whl (29 kB)\n",
      "Requirement already satisfied: certifi>=2017.4.17 in /opt/conda/lib/python3.8/site-packages (from requests->Bio) (2020.12.5)\n",
      "Requirement already satisfied: urllib3<1.27,>=1.21.1 in /opt/conda/lib/python3.8/site-packages (from requests->Bio) (1.26.2)\n",
      "Requirement already satisfied: idna<3,>=2.5 in /opt/conda/lib/python3.8/site-packages (from requests->Bio) (2.10)\n",
      "Requirement already satisfied: chardet<5,>=3.0.2 in /opt/conda/lib/python3.8/site-packages (from requests->Bio) (4.0.0)\n",
      "Requirement already satisfied: python-dateutil>=2.7.3 in /opt/conda/lib/python3.8/site-packages (from pandas->Bio) (2.8.1)\n",
      "Requirement already satisfied: pytz>=2017.2 in /opt/conda/lib/python3.8/site-packages (from pandas->Bio) (2020.5)\n",
      "Requirement already satisfied: six>=1.5 in /opt/conda/lib/python3.8/site-packages (from python-dateutil>=2.7.3->pandas->Bio) (1.15.0)\n",
      "Requirement already satisfied: appdirs in /opt/conda/lib/python3.8/site-packages (from pooch->Bio) (1.4.4)\n",
      "Requirement already satisfied: packaging in /opt/conda/lib/python3.8/site-packages (from pooch->Bio) (20.8)\n",
      "Requirement already satisfied: pyparsing>=2.0.2 in /opt/conda/lib/python3.8/site-packages (from packaging->pooch->Bio) (2.4.7)\n",
      "Installing collected packages: biothings-client, mygene, gprofiler-official, biopython, Bio\n",
      "Successfully installed Bio-1.5.9 biopython-1.81 biothings-client-0.3.0 gprofiler-official-1.0.0 mygene-3.2.2\n"
     ]
    }
   ],
   "source": [
    "! pip install Bio"
   ]
  },
  {
   "cell_type": "code",
   "execution_count": 13,
   "id": "earned-factor",
   "metadata": {
    "collapsed": true,
    "jupyter": {
     "outputs_hidden": true
    }
   },
   "outputs": [
    {
     "name": "stdout",
     "output_type": "stream",
     "text": [
      "Collecting optuna\n",
      "  Downloading optuna-3.2.0-py3-none-any.whl (390 kB)\n",
      "\u001b[K     |████████████████████████████████| 390 kB 6.0 MB/s eta 0:00:01\n",
      "\u001b[?25hRequirement already satisfied: PyYAML in /opt/conda/lib/python3.8/site-packages (from optuna) (5.3.1)\n",
      "Requirement already satisfied: tqdm in /opt/conda/lib/python3.8/site-packages (from optuna) (4.56.0)\n",
      "Requirement already satisfied: numpy in /opt/conda/lib/python3.8/site-packages (from optuna) (1.19.5)\n",
      "Requirement already satisfied: sqlalchemy>=1.3.0 in /opt/conda/lib/python3.8/site-packages (from optuna) (1.3.22)\n",
      "Requirement already satisfied: packaging>=20.0 in /opt/conda/lib/python3.8/site-packages (from optuna) (20.8)\n",
      "Collecting alembic>=1.5.0\n",
      "  Downloading alembic-1.11.1-py3-none-any.whl (224 kB)\n",
      "\u001b[K     |████████████████████████████████| 224 kB 6.6 MB/s eta 0:00:01\n",
      "\u001b[?25hRequirement already satisfied: importlib-metadata in /opt/conda/lib/python3.8/site-packages (from alembic>=1.5.0->optuna) (3.4.0)\n",
      "Requirement already satisfied: Mako in /opt/conda/lib/python3.8/site-packages (from alembic>=1.5.0->optuna) (1.1.4)\n",
      "Collecting cmaes>=0.9.1\n",
      "  Downloading cmaes-0.9.1-py3-none-any.whl (21 kB)\n",
      "Requirement already satisfied: pyparsing>=2.0.2 in /opt/conda/lib/python3.8/site-packages (from packaging>=20.0->optuna) (2.4.7)\n",
      "Collecting typing-extensions>=4\n",
      "  Using cached typing_extensions-4.7.1-py3-none-any.whl (33 kB)\n",
      "Collecting colorlog\n",
      "  Downloading colorlog-6.7.0-py2.py3-none-any.whl (11 kB)\n",
      "Requirement already satisfied: zipp>=0.5 in /opt/conda/lib/python3.8/site-packages (from importlib-metadata->alembic>=1.5.0->optuna) (3.4.0)\n",
      "Collecting importlib-resources\n",
      "  Downloading importlib_resources-5.12.0-py3-none-any.whl (36 kB)\n",
      "Requirement already satisfied: MarkupSafe>=0.9.2 in /opt/conda/lib/python3.8/site-packages (from Mako->alembic>=1.5.0->optuna) (1.1.1)\n",
      "Installing collected packages: typing-extensions, importlib-resources, colorlog, cmaes, alembic, optuna\n",
      "  Attempting uninstall: typing-extensions\n",
      "    Found existing installation: typing-extensions 3.7.4.3\n",
      "    Uninstalling typing-extensions-3.7.4.3:\n",
      "      Successfully uninstalled typing-extensions-3.7.4.3\n",
      "  Attempting uninstall: alembic\n",
      "    Found existing installation: alembic 1.4.3\n",
      "    Uninstalling alembic-1.4.3:\n",
      "      Successfully uninstalled alembic-1.4.3\n",
      "Successfully installed alembic-1.11.1 cmaes-0.9.1 colorlog-6.7.0 importlib-resources-5.12.0 optuna-3.2.0 typing-extensions-4.7.1\n"
     ]
    }
   ],
   "source": [
    "!pip install optuna"
   ]
  },
  {
   "cell_type": "code",
   "execution_count": 6,
   "id": "conceptual-buddy",
   "metadata": {},
   "outputs": [],
   "source": [
    "import pandas as pd\n",
    "import numpy as np\n",
    "from catboost import CatBoostClassifier\n",
    "from sklearn.metrics import f1_score\n",
    "from sklearn.model_selection import StratifiedKFold\n",
    "from Bio.SeqUtils.ProtParam import ProteinAnalysis"
   ]
  },
  {
   "cell_type": "code",
   "execution_count": 7,
   "id": "first-scene",
   "metadata": {},
   "outputs": [],
   "source": [
    "import warnings\n",
    "warnings.filterwarnings('ignore')"
   ]
  },
  {
   "cell_type": "code",
   "execution_count": 18,
   "id": "systematic-brother",
   "metadata": {},
   "outputs": [],
   "source": [
    "def add_length(data): # 단백질 시퀀스의 길이 변수 추가\n",
    "    data['length'] = data['epitope_seq'].str.len()\n",
    "    return data"
   ]
  },
  {
   "cell_type": "code",
   "execution_count": 9,
   "id": "automated-language",
   "metadata": {},
   "outputs": [],
   "source": [
    "def add_letters_count(data): # epitope 시퀀스 구성 개수 체크\n",
    "    letters = 'ABCDEFGHIJKLMNOPQRSTUVWXYZ'\n",
    "    \n",
    "    for char in letters:\n",
    "        data[char] = data['epitope_seq'].str.count(char)\n",
    "    return data"
   ]
  },
  {
   "cell_type": "code",
   "execution_count": 10,
   "id": "static-treasure",
   "metadata": {},
   "outputs": [],
   "source": [
    "def remove_zero(data): # protein 표현시 사용하지 않는 알파벳 제거\n",
    "    cross_check = 'BJOUXZ'\n",
    "    for char in cross_check:\n",
    "        if data[char].sum() ==0:\n",
    "            data = data.drop([char], axis=1)\n",
    "    return data"
   ]
  },
  {
   "cell_type": "code",
   "execution_count": 15,
   "id": "surprised-exploration",
   "metadata": {},
   "outputs": [],
   "source": [
    "train = pd.read_csv('./train.csv')\n",
    "test = pd.read_csv('./test.csv')\n",
    "\n",
    "total = pd.concat([train,test])"
   ]
  },
  {
   "cell_type": "code",
   "execution_count": 19,
   "id": "auburn-place",
   "metadata": {},
   "outputs": [],
   "source": [
    "totals = total[['epitope_seq','label']]\n",
    "totals['epitope_seq'] = totals['epitope_seq'].str.upper()\n",
    "totals = add_length(totals)\n",
    "totals = add_letters_count(totals)\n",
    "totals = remove_zero(totals)\n",
    "totals = totals.drop(['epitope_seq'],axis=1)"
   ]
  },
  {
   "cell_type": "code",
   "execution_count": 20,
   "id": "circular-combat",
   "metadata": {},
   "outputs": [],
   "source": [
    "total['disease_state'] = total['disease_state'].astype('str')\n",
    "total['antigen_code'] = total['antigen_code'].astype('str')\n",
    "total['disease_type'] = total['disease_type'].astype('str')\n",
    "total['assay_method_technique'] = total['assay_method_technique'].astype('str')\n",
    "total['assay_group'] = total['assay_group'].astype('str')"
   ]
  },
  {
   "cell_type": "code",
   "execution_count": 26,
   "id": "advanced-cameroon",
   "metadata": {},
   "outputs": [],
   "source": [
    "from sklearn.preprocessing import LabelEncoder\n",
    "\n",
    "le = LabelEncoder()\n",
    "totals['disease_state'] = le.fit_transform(total['disease_state'])\n",
    "totals['antigen_code'] = le.fit_transform(total['antigen_code'])\n",
    "totals['disease_type'] = le.fit_transform(total['disease_type'])\n",
    "totals['assay_method_technique'] = le.fit_transform(total['assay_method_technique'])\n",
    "totals['assay_group'] = le.fit_transform(total['assay_group'])"
   ]
  },
  {
   "cell_type": "code",
   "execution_count": 27,
   "id": "domestic-midwest",
   "metadata": {},
   "outputs": [],
   "source": [
    "train_feature = totals[:len(train)]\n",
    "target = train_feature['label']\n",
    "train_feature = train_feature.drop(['label'], axis=1)\n",
    "test_feature = totals[len(train):]\n",
    "test_feature = test_feature.drop(['label'],axis=1)"
   ]
  },
  {
   "cell_type": "code",
   "execution_count": 28,
   "id": "tender-pavilion",
   "metadata": {},
   "outputs": [],
   "source": [
    "from sklearn.model_selection import train_test_split\n",
    "X_train, X_val, Y_train, Y_val = train_test_split(train_feature, target,test_size=0.2,stratify = target)"
   ]
  },
  {
   "cell_type": "code",
   "execution_count": 29,
   "id": "urban-student",
   "metadata": {},
   "outputs": [],
   "source": [
    "model = CatBoostClassifier(verbose = False)\n",
    "model.fit(X_train, Y_train)\n",
    "result = model.predict_proba(test_feature)"
   ]
  },
  {
   "cell_type": "code",
   "execution_count": 30,
   "id": "herbal-decimal",
   "metadata": {},
   "outputs": [
    {
     "data": {
      "text/plain": [
       "array([[7.75621984e-01, 2.24378016e-01],\n",
       "       [9.98048659e-01, 1.95134090e-03],\n",
       "       [9.50948848e-01, 4.90511521e-02],\n",
       "       ...,\n",
       "       [6.71882658e-01, 3.28117342e-01],\n",
       "       [9.99174334e-01, 8.25665848e-04],\n",
       "       [9.82215433e-01, 1.77845672e-02]])"
      ]
     },
     "execution_count": 30,
     "metadata": {},
     "output_type": "execute_result"
    }
   ],
   "source": [
    "result"
   ]
  },
  {
   "cell_type": "code",
   "execution_count": 31,
   "id": "synthetic-apple",
   "metadata": {},
   "outputs": [],
   "source": [
    "sub = pd.read_csv('./sample_submission.csv')"
   ]
  },
  {
   "cell_type": "code",
   "execution_count": 32,
   "id": "hybrid-equipment",
   "metadata": {},
   "outputs": [
    {
     "data": {
      "text/html": [
       "<div>\n",
       "<style scoped>\n",
       "    .dataframe tbody tr th:only-of-type {\n",
       "        vertical-align: middle;\n",
       "    }\n",
       "\n",
       "    .dataframe tbody tr th {\n",
       "        vertical-align: top;\n",
       "    }\n",
       "\n",
       "    .dataframe thead th {\n",
       "        text-align: right;\n",
       "    }\n",
       "</style>\n",
       "<table border=\"1\" class=\"dataframe\">\n",
       "  <thead>\n",
       "    <tr style=\"text-align: right;\">\n",
       "      <th></th>\n",
       "      <th>id</th>\n",
       "      <th>label</th>\n",
       "    </tr>\n",
       "  </thead>\n",
       "  <tbody>\n",
       "    <tr>\n",
       "      <th>0</th>\n",
       "      <td>1</td>\n",
       "      <td>0</td>\n",
       "    </tr>\n",
       "    <tr>\n",
       "      <th>1</th>\n",
       "      <td>2</td>\n",
       "      <td>0</td>\n",
       "    </tr>\n",
       "    <tr>\n",
       "      <th>2</th>\n",
       "      <td>3</td>\n",
       "      <td>0</td>\n",
       "    </tr>\n",
       "    <tr>\n",
       "      <th>3</th>\n",
       "      <td>4</td>\n",
       "      <td>0</td>\n",
       "    </tr>\n",
       "    <tr>\n",
       "      <th>4</th>\n",
       "      <td>5</td>\n",
       "      <td>0</td>\n",
       "    </tr>\n",
       "    <tr>\n",
       "      <th>...</th>\n",
       "      <td>...</td>\n",
       "      <td>...</td>\n",
       "    </tr>\n",
       "    <tr>\n",
       "      <th>120939</th>\n",
       "      <td>120940</td>\n",
       "      <td>0</td>\n",
       "    </tr>\n",
       "    <tr>\n",
       "      <th>120940</th>\n",
       "      <td>120941</td>\n",
       "      <td>0</td>\n",
       "    </tr>\n",
       "    <tr>\n",
       "      <th>120941</th>\n",
       "      <td>120942</td>\n",
       "      <td>0</td>\n",
       "    </tr>\n",
       "    <tr>\n",
       "      <th>120942</th>\n",
       "      <td>120943</td>\n",
       "      <td>0</td>\n",
       "    </tr>\n",
       "    <tr>\n",
       "      <th>120943</th>\n",
       "      <td>120944</td>\n",
       "      <td>0</td>\n",
       "    </tr>\n",
       "  </tbody>\n",
       "</table>\n",
       "<p>120944 rows × 2 columns</p>\n",
       "</div>"
      ],
      "text/plain": [
       "            id  label\n",
       "0            1      0\n",
       "1            2      0\n",
       "2            3      0\n",
       "3            4      0\n",
       "4            5      0\n",
       "...        ...    ...\n",
       "120939  120940      0\n",
       "120940  120941      0\n",
       "120941  120942      0\n",
       "120942  120943      0\n",
       "120943  120944      0\n",
       "\n",
       "[120944 rows x 2 columns]"
      ]
     },
     "execution_count": 32,
     "metadata": {},
     "output_type": "execute_result"
    }
   ],
   "source": [
    "sub['label'] = np.where(result[:,1] >0.5,1,0)\n",
    "sub"
   ]
  },
  {
   "cell_type": "code",
   "execution_count": 34,
   "id": "spare-clarity",
   "metadata": {},
   "outputs": [],
   "source": [
    "sub.to_csv('sub_protien.csv', index=None)"
   ]
  }
 ],
 "metadata": {
  "kernelspec": {
   "display_name": "Python 3",
   "language": "python",
   "name": "python3"
  },
  "language_info": {
   "codemirror_mode": {
    "name": "ipython",
    "version": 3
   },
   "file_extension": ".py",
   "mimetype": "text/x-python",
   "name": "python",
   "nbconvert_exporter": "python",
   "pygments_lexer": "ipython3",
   "version": "3.8.6"
  }
 },
 "nbformat": 4,
 "nbformat_minor": 5
}
