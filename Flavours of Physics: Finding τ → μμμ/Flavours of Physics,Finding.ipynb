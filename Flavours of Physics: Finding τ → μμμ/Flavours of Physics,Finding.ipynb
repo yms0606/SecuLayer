{
 "cells": [
  {
   "cell_type": "code",
   "execution_count": 2,
   "id": "resistant-particular",
   "metadata": {},
   "outputs": [
    {
     "name": "stdout",
     "output_type": "stream",
     "text": [
      "Collecting xgboost\n",
      "  Downloading xgboost-1.7.6-py3-none-manylinux2014_x86_64.whl (200.3 MB)\n",
      "\u001b[K     |████████████████████████████████| 200.3 MB 5.4 MB/s eta 0:00:01    |███████████                     | 69.4 MB 6.2 MB/s eta 0:00:21\n",
      "\u001b[?25hRequirement already satisfied: numpy in /opt/conda/lib/python3.8/site-packages (from xgboost) (1.23.5)\n",
      "Requirement already satisfied: scipy in /opt/conda/lib/python3.8/site-packages (from xgboost) (1.10.1)\n",
      "Installing collected packages: xgboost\n",
      "Successfully installed xgboost-1.7.6\n"
     ]
    }
   ],
   "source": [
    "!pip install xgboost"
   ]
  },
  {
   "cell_type": "code",
   "execution_count": null,
   "id": "centered-reverse",
   "metadata": {},
   "outputs": [],
   "source": [
    "import numpy as np\n",
    "import pandas as pd\n",
    "from sklearn.metrics import roc_curve, auc\n",
    "import xgboost as xgb"
   ]
  },
  {
   "cell_type": "code",
   "execution_count": 41,
   "id": "sunrise-county",
   "metadata": {},
   "outputs": [],
   "source": [
    "from sklearn.ensemble import GradientBoostingClassifier"
   ]
  },
  {
   "cell_type": "code",
   "execution_count": 19,
   "id": "forbidden-falls",
   "metadata": {},
   "outputs": [],
   "source": [
    "train = pd.read_csv('./training.csv')\n",
    "test = pd.read_csv('./test.csv')\n",
    "check_agreement = pd.read_csv('./check_agreement.csv')\n",
    "check_correlation = pd.read_csv('./check_correlation.csv')"
   ]
  },
  {
   "cell_type": "code",
   "execution_count": 22,
   "id": "artistic-terry",
   "metadata": {},
   "outputs": [],
   "source": [
    "def add_features(df):\n",
    "    df['flight_dist_sig'] = df['FlightDistance']/df['FlightDistanceError']\n",
    "    #df['flight_dist_sig2'] = (df['FlightDistance']/df['FlightDistanceError'])**2\n",
    "    df['NEW_IP_dira'] = df['IP']*df['dira']\n",
    "    df['NEW_FD_SUMP'] = df['FlightDistance']/(df['p0_p']+df['p1_p']+df['p2_p'])\n",
    "    df['NEW5_lt'] = df['LifeTime']*(df['p0_IP']+df['p1_IP']+df['p2_IP'])/3\n",
    "    df['p_track_Chi2Dof_MAX'] = df.loc[:,['p0_track_Chi2Dof','p1_track_Chi2Dof','p2_track_Chi2Dof']].max(axis=1)\n",
    "    #df['p0p2_ip_ratio'] = df['IP']/df['IP_p0p2']\n",
    "    #df['p1p2_ip_ratio'] = df['IP']/df['IP_p1p2']\n",
    "    #df['DCA_MAX'] = df.loc[:, ['DOCAone','DOCAtwo','DOCAthree']].max(axis=1)\n",
    "    #df['iso_bdt_min'] = df.loc[:,['p0_IsoBDT','p1_IsoBDT','p2_IsoBDT']].min(axis=1)\n",
    "    #df['iso_min'] = df.loc[:,['isolationa','isolationb','isolationc','isolationd','isolatione','isolationf']].min(axis=1)\n",
    "    #df['NEW_FD_LT'] = df['FlightDistance']/df['LifeTime']\n",
    "    \n",
    "    return df"
   ]
  },
  {
   "cell_type": "code",
   "execution_count": 23,
   "id": "genuine-density",
   "metadata": {},
   "outputs": [],
   "source": [
    "train = add_features(train)\n",
    "test = add_features(test)"
   ]
  },
  {
   "cell_type": "code",
   "execution_count": 24,
   "id": "secondary-bridal",
   "metadata": {},
   "outputs": [],
   "source": [
    "check_agreement = add_features(check_agreement)\n",
    "check_correlation = add_features(check_correlation)"
   ]
  },
  {
   "cell_type": "code",
   "execution_count": 25,
   "id": "incoming-passenger",
   "metadata": {},
   "outputs": [],
   "source": [
    "filter_out =['id', 'min_ANNmuon', 'production', \n",
    "             'mass', 'signal','SPDhits','p0_track_Chi2Dof','CDF1', \n",
    "             'CDF2', 'CDF3','isolationb', 'isolationc','p0_pt', \n",
    "             'p1_pt', 'p2_pt', 'p0_p', 'p1_p', 'p2_p', 'p0_eta',\n",
    "             'p1_eta', 'p2_eta','DOCAone', 'DOCAtwo', 'DOCAthree']\n",
    "\n",
    "features = list(f for f in train.columns if f not in filter_out)"
   ]
  },
  {
   "cell_type": "code",
   "execution_count": 26,
   "id": "unknown-actress",
   "metadata": {},
   "outputs": [],
   "source": [
    "train_eval = train[train['min_ANNmuon']>0.4]"
   ]
  },
  {
   "cell_type": "code",
   "execution_count": 44,
   "id": "least-federal",
   "metadata": {},
   "outputs": [],
   "source": [
    "rf = GradientBoostingClassifier(n_estimators=575, max_depth=6,\n",
    "                                learning_rate=0.15, subsample=0.7, random_state=369)"
   ]
  },
  {
   "cell_type": "code",
   "execution_count": 45,
   "id": "novel-birmingham",
   "metadata": {},
   "outputs": [
    {
     "data": {
      "text/plain": [
       "GradientBoostingClassifier(learning_rate=0.15, max_depth=6, n_estimators=575,\n",
       "                           random_state=369, subsample=0.7)"
      ]
     },
     "execution_count": 45,
     "metadata": {},
     "output_type": "execute_result"
    }
   ],
   "source": [
    "rf.fit(train[features], train['signal'])"
   ]
  },
  {
   "cell_type": "code",
   "execution_count": 40,
   "id": "anonymous-metabolism",
   "metadata": {},
   "outputs": [
    {
     "data": {
      "text/plain": [
       "XGBClassifier(base_score=None, booster=None, callbacks=None,\n",
       "              colsample_bylevel=None, colsample_bynode=None,\n",
       "              colsample_bytree=0.7, early_stopping_rounds=None,\n",
       "              enable_categorical=False, eval_metric=None, feature_types=None,\n",
       "              gamma=0.01, gpu_id=None, grow_policy=None, importance_type=None,\n",
       "              interaction_constraints=None, learning_rate=0.2, max_bin=None,\n",
       "              max_cat_threshold=None, max_cat_to_onehot=None,\n",
       "              max_delta_step=None, max_depth=8, max_leaves=None,\n",
       "              min_child_weight=3, missing=nan, monotone_constraints=None,\n",
       "              n_estimators=100, n_jobs=None, nthread=4, num_parallel_tree=None,\n",
       "              predictor=None, ...)"
      ]
     },
     "execution_count": 40,
     "metadata": {},
     "output_type": "execute_result"
    }
   ],
   "source": [
    "params = {\"objective\": \"binary:logistic\",\n",
    "          \"learning_rate\": 0.2,\n",
    "          \"max_depth\": 8,\n",
    "          'gamma': 0.01,\n",
    "          \"min_child_weight\": 3,\n",
    "          \"subsample\": 0.7,\n",
    "          \"colsample_bytree\": 0.7,\n",
    "          'nthread': 4,\n",
    "          \"seed\": 1}\n",
    "model = xgb.XGBClassifier(**params)\n",
    "model.fit(train[features], train['signal'])"
   ]
  },
  {
   "cell_type": "code",
   "execution_count": 47,
   "id": "familiar-intake",
   "metadata": {},
   "outputs": [],
   "source": [
    "pred_rf = rf.predict_proba(test[features])\n",
    "pred_xgb = model.predict_proba(test[features])\n",
    "\n",
    "sub = pd.read_csv('./sample_submission.csv')"
   ]
  },
  {
   "cell_type": "code",
   "execution_count": 59,
   "id": "accessory-honolulu",
   "metadata": {},
   "outputs": [
    {
     "data": {
      "text/plain": [
       "array([[0.99254109, 0.00745891],\n",
       "       [0.98042736, 0.01957264],\n",
       "       [0.9606825 , 0.0393175 ],\n",
       "       ...,\n",
       "       [0.99682636, 0.00317364],\n",
       "       [0.99856819, 0.00143181],\n",
       "       [0.58447035, 0.41552965]])"
      ]
     },
     "execution_count": 59,
     "metadata": {},
     "output_type": "execute_result"
    }
   ],
   "source": [
    "pred_rf"
   ]
  },
  {
   "cell_type": "code",
   "execution_count": 56,
   "id": "likely-powder",
   "metadata": {},
   "outputs": [
    {
     "data": {
      "text/plain": [
       "array([0.9394928 , 0.966336  , 0.03287816, ..., 0.95944935, 0.97166973,\n",
       "       0.33059698], dtype=float32)"
      ]
     },
     "execution_count": 56,
     "metadata": {},
     "output_type": "execute_result"
    }
   ],
   "source": [
    "pred_xgb[:,0]"
   ]
  },
  {
   "cell_type": "code",
   "execution_count": 58,
   "id": "mysterious-victor",
   "metadata": {},
   "outputs": [
    {
     "data": {
      "text/plain": [
       "0        0\n",
       "1        0\n",
       "2        0\n",
       "3        0\n",
       "4        0\n",
       "        ..\n",
       "67548    1\n",
       "67549    1\n",
       "67550    1\n",
       "67551    1\n",
       "67552    1\n",
       "Name: signal, Length: 67553, dtype: int64"
      ]
     },
     "execution_count": 58,
     "metadata": {},
     "output_type": "execute_result"
    }
   ],
   "source": [
    "train['signal']"
   ]
  },
  {
   "cell_type": "code",
   "execution_count": 60,
   "id": "latest-spain",
   "metadata": {},
   "outputs": [],
   "source": [
    "test_prob = 0.5*pred_xgb + 0.5*pred_rf"
   ]
  },
  {
   "cell_type": "code",
   "execution_count": 61,
   "id": "jewish-pipeline",
   "metadata": {},
   "outputs": [
    {
     "data": {
      "text/plain": [
       "array([[0.96601696, 0.03398304],\n",
       "       [0.97338168, 0.0266183 ],\n",
       "       [0.49678033, 0.50321967],\n",
       "       ...,\n",
       "       [0.97813786, 0.02186214],\n",
       "       [0.98511896, 0.01488103],\n",
       "       [0.45753367, 0.54246633]])"
      ]
     },
     "execution_count": 61,
     "metadata": {},
     "output_type": "execute_result"
    }
   ],
   "source": [
    "test_prob"
   ]
  },
  {
   "cell_type": "code",
   "execution_count": 64,
   "id": "average-partition",
   "metadata": {},
   "outputs": [
    {
     "data": {
      "text/html": [
       "<div>\n",
       "<style scoped>\n",
       "    .dataframe tbody tr th:only-of-type {\n",
       "        vertical-align: middle;\n",
       "    }\n",
       "\n",
       "    .dataframe tbody tr th {\n",
       "        vertical-align: top;\n",
       "    }\n",
       "\n",
       "    .dataframe thead th {\n",
       "        text-align: right;\n",
       "    }\n",
       "</style>\n",
       "<table border=\"1\" class=\"dataframe\">\n",
       "  <thead>\n",
       "    <tr style=\"text-align: right;\">\n",
       "      <th></th>\n",
       "      <th>id</th>\n",
       "      <th>prediction</th>\n",
       "    </tr>\n",
       "  </thead>\n",
       "  <tbody>\n",
       "    <tr>\n",
       "      <th>0</th>\n",
       "      <td>14711831</td>\n",
       "      <td>0.033983</td>\n",
       "    </tr>\n",
       "    <tr>\n",
       "      <th>1</th>\n",
       "      <td>16316387</td>\n",
       "      <td>0.026618</td>\n",
       "    </tr>\n",
       "    <tr>\n",
       "      <th>2</th>\n",
       "      <td>6771382</td>\n",
       "      <td>0.503220</td>\n",
       "    </tr>\n",
       "    <tr>\n",
       "      <th>3</th>\n",
       "      <td>686045</td>\n",
       "      <td>0.023452</td>\n",
       "    </tr>\n",
       "    <tr>\n",
       "      <th>4</th>\n",
       "      <td>8755882</td>\n",
       "      <td>0.055916</td>\n",
       "    </tr>\n",
       "    <tr>\n",
       "      <th>...</th>\n",
       "      <td>...</td>\n",
       "      <td>...</td>\n",
       "    </tr>\n",
       "    <tr>\n",
       "      <th>855814</th>\n",
       "      <td>6977440</td>\n",
       "      <td>0.372549</td>\n",
       "    </tr>\n",
       "    <tr>\n",
       "      <th>855815</th>\n",
       "      <td>5731566</td>\n",
       "      <td>0.023732</td>\n",
       "    </tr>\n",
       "    <tr>\n",
       "      <th>855816</th>\n",
       "      <td>559204</td>\n",
       "      <td>0.021862</td>\n",
       "    </tr>\n",
       "    <tr>\n",
       "      <th>855817</th>\n",
       "      <td>10478880</td>\n",
       "      <td>0.014881</td>\n",
       "    </tr>\n",
       "    <tr>\n",
       "      <th>855818</th>\n",
       "      <td>12395271</td>\n",
       "      <td>0.542466</td>\n",
       "    </tr>\n",
       "  </tbody>\n",
       "</table>\n",
       "<p>855819 rows × 2 columns</p>\n",
       "</div>"
      ],
      "text/plain": [
       "              id  prediction\n",
       "0       14711831    0.033983\n",
       "1       16316387    0.026618\n",
       "2        6771382    0.503220\n",
       "3         686045    0.023452\n",
       "4        8755882    0.055916\n",
       "...          ...         ...\n",
       "855814   6977440    0.372549\n",
       "855815   5731566    0.023732\n",
       "855816    559204    0.021862\n",
       "855817  10478880    0.014881\n",
       "855818  12395271    0.542466\n",
       "\n",
       "[855819 rows x 2 columns]"
      ]
     },
     "execution_count": 64,
     "metadata": {},
     "output_type": "execute_result"
    }
   ],
   "source": [
    "sub['prediction'] = test_prob[:,1]\n",
    "sub"
   ]
  },
  {
   "cell_type": "code",
   "execution_count": 66,
   "id": "existing-college",
   "metadata": {},
   "outputs": [],
   "source": [
    "sub.to_csv('sub_Ensemble1.csv',index=False)"
   ]
  }
 ],
 "metadata": {
  "kernelspec": {
   "display_name": "Python 3",
   "language": "python",
   "name": "python3"
  },
  "language_info": {
   "codemirror_mode": {
    "name": "ipython",
    "version": 3
   },
   "file_extension": ".py",
   "mimetype": "text/x-python",
   "name": "python",
   "nbconvert_exporter": "python",
   "pygments_lexer": "ipython3",
   "version": "3.8.6"
  }
 },
 "nbformat": 4,
 "nbformat_minor": 5
}
